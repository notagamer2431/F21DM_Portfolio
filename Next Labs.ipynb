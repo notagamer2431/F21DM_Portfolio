{
 "cells": [
  {
   "cell_type": "code",
   "execution_count": 33,
   "id": "29659285",
   "metadata": {},
   "outputs": [],
   "source": [
    "import sys\n",
    "assert sys.version_info >= (3, 5)"
   ]
  },
  {
   "cell_type": "code",
   "execution_count": 34,
   "id": "fed0a06b",
   "metadata": {},
   "outputs": [],
   "source": [
    "import sklearn\n",
    "assert sklearn.__version__ >= \"0.20\"\n"
   ]
  },
  {
   "cell_type": "code",
   "execution_count": 35,
   "id": "5c3cb34a",
   "metadata": {},
   "outputs": [],
   "source": [
    "import numpy as np\n",
    "import os\n",
    "import tarfile\n",
    "import urllib\n",
    "import pandas as pd\n",
    "import seaborn as sns\n",
    "import urllib.request\n",
    "from sklearn.metrics import roc_auc_score, precision_score, recall_score"
   ]
  },
  {
   "cell_type": "code",
   "execution_count": 36,
   "id": "2e87dc62",
   "metadata": {},
   "outputs": [],
   "source": [
    "# Import for plotting\n",
    "%matplotlib inline\n",
    "import matplotlib as mpl\n",
    "import matplotlib.pyplot as plt"
   ]
  },
  {
   "cell_type": "code",
   "execution_count": 37,
   "id": "5245708e",
   "metadata": {},
   "outputs": [],
   "source": [
    "DataScience = pd.read_csv(\"/Users/mac/Downloads/ds_salaries.csv\")"
   ]
  },
  {
   "cell_type": "code",
   "execution_count": 38,
   "id": "dcdbc27e",
   "metadata": {},
   "outputs": [
    {
     "name": "stdout",
     "output_type": "stream",
     "text": [
      "<class 'pandas.core.frame.DataFrame'>\n",
      "RangeIndex: 607 entries, 0 to 606\n",
      "Data columns (total 12 columns):\n",
      " #   Column              Non-Null Count  Dtype \n",
      "---  ------              --------------  ----- \n",
      " 0   Unnamed: 0          607 non-null    int64 \n",
      " 1   work_year           607 non-null    int64 \n",
      " 2   experience_level    607 non-null    object\n",
      " 3   employment_type     607 non-null    object\n",
      " 4   job_title           607 non-null    object\n",
      " 5   salary              607 non-null    int64 \n",
      " 6   salary_currency     607 non-null    object\n",
      " 7   salary_in_usd       607 non-null    int64 \n",
      " 8   employee_residence  607 non-null    object\n",
      " 9   remote_ratio        607 non-null    int64 \n",
      " 10  company_location    607 non-null    object\n",
      " 11  company_size        607 non-null    object\n",
      "dtypes: int64(5), object(7)\n",
      "memory usage: 57.0+ KB\n"
     ]
    }
   ],
   "source": [
    "DataScience.info()\n"
   ]
  },
  {
   "cell_type": "code",
   "execution_count": 39,
   "id": "538c938b",
   "metadata": {},
   "outputs": [
    {
     "data": {
      "text/plain": [
       "Unnamed: 0            0\n",
       "work_year             0\n",
       "experience_level      0\n",
       "employment_type       0\n",
       "job_title             0\n",
       "salary                0\n",
       "salary_currency       0\n",
       "salary_in_usd         0\n",
       "employee_residence    0\n",
       "remote_ratio          0\n",
       "company_location      0\n",
       "company_size          0\n",
       "dtype: int64"
      ]
     },
     "execution_count": 39,
     "metadata": {},
     "output_type": "execute_result"
    }
   ],
   "source": [
    "DataScience.isnull().sum()   "
   ]
  },
  {
   "cell_type": "code",
   "execution_count": 40,
   "id": "8f33a2f4",
   "metadata": {},
   "outputs": [],
   "source": [
    "DataScience['experience_level']=DataScience['experience_level'].map({'EX':3,'EN':2,'SE':1,'MI':0})  # covert the gender to categorical for processing\n"
   ]
  },
  {
   "cell_type": "code",
   "execution_count": 41,
   "id": "20972004",
   "metadata": {},
   "outputs": [
    {
     "data": {
      "text/plain": [
       "1    280\n",
       "0    213\n",
       "2     88\n",
       "3     26\n",
       "Name: experience_level, dtype: int64"
      ]
     },
     "execution_count": 41,
     "metadata": {},
     "output_type": "execute_result"
    }
   ],
   "source": [
    "DataScience[\"experience_level\"].value_counts()\n"
   ]
  },
  {
   "cell_type": "code",
   "execution_count": 42,
   "id": "5e7b45a3",
   "metadata": {},
   "outputs": [
    {
     "data": {
      "text/plain": [
       "US    332\n",
       "GB     44\n",
       "IN     30\n",
       "CA     29\n",
       "DE     25\n",
       "FR     18\n",
       "ES     15\n",
       "GR     13\n",
       "JP      7\n",
       "PT      6\n",
       "BR      6\n",
       "PK      6\n",
       "NL      5\n",
       "PL      4\n",
       "IT      4\n",
       "RU      4\n",
       "AE      3\n",
       "AT      3\n",
       "VN      3\n",
       "TR      3\n",
       "AU      3\n",
       "RO      2\n",
       "BE      2\n",
       "SG      2\n",
       "SI      2\n",
       "DK      2\n",
       "HU      2\n",
       "NG      2\n",
       "MX      2\n",
       "BO      1\n",
       "MY      1\n",
       "TN      1\n",
       "IE      1\n",
       "DZ      1\n",
       "AR      1\n",
       "CZ      1\n",
       "JE      1\n",
       "LU      1\n",
       "PR      1\n",
       "RS      1\n",
       "EE      1\n",
       "CL      1\n",
       "HK      1\n",
       "KE      1\n",
       "MD      1\n",
       "CO      1\n",
       "IR      1\n",
       "CN      1\n",
       "MT      1\n",
       "UA      1\n",
       "IQ      1\n",
       "HN      1\n",
       "BG      1\n",
       "HR      1\n",
       "PH      1\n",
       "NZ      1\n",
       "CH      1\n",
       "Name: employee_residence, dtype: int64"
      ]
     },
     "execution_count": 42,
     "metadata": {},
     "output_type": "execute_result"
    }
   ],
   "source": [
    "DataScience[\"employee_residence\"].value_counts()\n"
   ]
  },
  {
   "cell_type": "code",
   "execution_count": 43,
   "id": "654b7c7c",
   "metadata": {},
   "outputs": [
    {
     "data": {
      "text/html": [
       "<div>\n",
       "<style scoped>\n",
       "    .dataframe tbody tr th:only-of-type {\n",
       "        vertical-align: middle;\n",
       "    }\n",
       "\n",
       "    .dataframe tbody tr th {\n",
       "        vertical-align: top;\n",
       "    }\n",
       "\n",
       "    .dataframe thead th {\n",
       "        text-align: right;\n",
       "    }\n",
       "</style>\n",
       "<table border=\"1\" class=\"dataframe\">\n",
       "  <thead>\n",
       "    <tr style=\"text-align: right;\">\n",
       "      <th></th>\n",
       "      <th>Unnamed: 0</th>\n",
       "      <th>work_year</th>\n",
       "      <th>experience_level</th>\n",
       "      <th>employment_type</th>\n",
       "      <th>job_title</th>\n",
       "      <th>salary</th>\n",
       "      <th>salary_currency</th>\n",
       "      <th>salary_in_usd</th>\n",
       "      <th>employee_residence</th>\n",
       "      <th>remote_ratio</th>\n",
       "      <th>company_location</th>\n",
       "      <th>company_size</th>\n",
       "      <th>Experience</th>\n",
       "    </tr>\n",
       "  </thead>\n",
       "  <tbody>\n",
       "    <tr>\n",
       "      <th>0</th>\n",
       "      <td>0</td>\n",
       "      <td>2020</td>\n",
       "      <td>0</td>\n",
       "      <td>FT</td>\n",
       "      <td>Data Scientist</td>\n",
       "      <td>70000</td>\n",
       "      <td>EUR</td>\n",
       "      <td>79833</td>\n",
       "      <td>DE</td>\n",
       "      <td>0</td>\n",
       "      <td>DE</td>\n",
       "      <td>L</td>\n",
       "      <td>False</td>\n",
       "    </tr>\n",
       "    <tr>\n",
       "      <th>1</th>\n",
       "      <td>1</td>\n",
       "      <td>2020</td>\n",
       "      <td>1</td>\n",
       "      <td>FT</td>\n",
       "      <td>Machine Learning Scientist</td>\n",
       "      <td>260000</td>\n",
       "      <td>USD</td>\n",
       "      <td>260000</td>\n",
       "      <td>JP</td>\n",
       "      <td>0</td>\n",
       "      <td>JP</td>\n",
       "      <td>S</td>\n",
       "      <td>True</td>\n",
       "    </tr>\n",
       "    <tr>\n",
       "      <th>2</th>\n",
       "      <td>2</td>\n",
       "      <td>2020</td>\n",
       "      <td>1</td>\n",
       "      <td>FT</td>\n",
       "      <td>Big Data Engineer</td>\n",
       "      <td>85000</td>\n",
       "      <td>GBP</td>\n",
       "      <td>109024</td>\n",
       "      <td>GB</td>\n",
       "      <td>50</td>\n",
       "      <td>GB</td>\n",
       "      <td>M</td>\n",
       "      <td>True</td>\n",
       "    </tr>\n",
       "    <tr>\n",
       "      <th>3</th>\n",
       "      <td>3</td>\n",
       "      <td>2020</td>\n",
       "      <td>0</td>\n",
       "      <td>FT</td>\n",
       "      <td>Product Data Analyst</td>\n",
       "      <td>20000</td>\n",
       "      <td>USD</td>\n",
       "      <td>20000</td>\n",
       "      <td>HN</td>\n",
       "      <td>0</td>\n",
       "      <td>HN</td>\n",
       "      <td>S</td>\n",
       "      <td>False</td>\n",
       "    </tr>\n",
       "    <tr>\n",
       "      <th>4</th>\n",
       "      <td>4</td>\n",
       "      <td>2020</td>\n",
       "      <td>1</td>\n",
       "      <td>FT</td>\n",
       "      <td>Machine Learning Engineer</td>\n",
       "      <td>150000</td>\n",
       "      <td>USD</td>\n",
       "      <td>150000</td>\n",
       "      <td>US</td>\n",
       "      <td>50</td>\n",
       "      <td>US</td>\n",
       "      <td>L</td>\n",
       "      <td>True</td>\n",
       "    </tr>\n",
       "  </tbody>\n",
       "</table>\n",
       "</div>"
      ],
      "text/plain": [
       "   Unnamed: 0  work_year  experience_level employment_type  \\\n",
       "0           0       2020                 0              FT   \n",
       "1           1       2020                 1              FT   \n",
       "2           2       2020                 1              FT   \n",
       "3           3       2020                 0              FT   \n",
       "4           4       2020                 1              FT   \n",
       "\n",
       "                    job_title  salary salary_currency  salary_in_usd  \\\n",
       "0              Data Scientist   70000             EUR          79833   \n",
       "1  Machine Learning Scientist  260000             USD         260000   \n",
       "2           Big Data Engineer   85000             GBP         109024   \n",
       "3        Product Data Analyst   20000             USD          20000   \n",
       "4   Machine Learning Engineer  150000             USD         150000   \n",
       "\n",
       "  employee_residence  remote_ratio company_location company_size  Experience  \n",
       "0                 DE             0               DE            L       False  \n",
       "1                 JP             0               JP            S        True  \n",
       "2                 GB            50               GB            M        True  \n",
       "3                 HN             0               HN            S       False  \n",
       "4                 US            50               US            L        True  "
      ]
     },
     "execution_count": 43,
     "metadata": {},
     "output_type": "execute_result"
    }
   ],
   "source": [
    "Experience_EN=DataScience[\"experience_level\"]==1\n",
    "DataScience[\"Experience\"]=Experience_EN\n",
    "DataScience.head()\n"
   ]
  },
  {
   "cell_type": "code",
   "execution_count": 44,
   "id": "589780aa",
   "metadata": {},
   "outputs": [
    {
     "data": {
      "image/png": "[encoded data removed]",
      "text/plain": [
       "<Figure size 2000x1500 with 6 Axes>"
      ]
     },
     "metadata": {},
     "output_type": "display_data"
    }
   ],
   "source": [
    "DataScience.hist(bins=10, figsize=(20,15))\n",
    "plt.show()\n"
   ]
  },
  {
   "cell_type": "code",
   "execution_count": 45,
   "id": "dd82600e",
   "metadata": {},
   "outputs": [
    {
     "data": {
      "image/png": "[encoded data removed]",
      "text/plain": [
       "<Figure size 640x480 with 1 Axes>"
      ]
     },
     "metadata": {},
     "output_type": "display_data"
    }
   ],
   "source": [
    "labels=['SE','MI','EN','EX']\n",
    "plt.pie(DataScience.experience_level.value_counts(),autopct='%1.1f%%',labels=labels)   \n",
    "plt.title('Experience level in data set')\n",
    "plt.show()"
   ]
  },
  {
   "cell_type": "code",
   "execution_count": 46,
   "id": "9af3f166",
   "metadata": {},
   "outputs": [
    {
     "data": {
      "text/plain": [
       "<matplotlib.legend.Legend at 0x7fc81410e190>"
      ]
     },
     "execution_count": 46,
     "metadata": {},
     "output_type": "execute_result"
    },
    {
     "data": {
      "image/png": "[encoded data removed]",
      "text/plain": [
       "<Figure size 640x480 with 1 Axes>"
      ]
     },
     "metadata": {},
     "output_type": "display_data"
    }
   ],
   "source": [
    "#create a graph with age and total purchase of each age group\n",
    "\n",
    "DataScience.groupby('experience_level')['salary'].sum().plot(kind='bar')\n",
    "plt.legend()"
   ]
  },
  {
   "cell_type": "code",
   "execution_count": 47,
   "id": "b544e25c",
   "metadata": {},
   "outputs": [],
   "source": [
    "import seaborn as sn\n",
    "from matplotlib import pyplot as plt\n"
   ]
  },
  {
   "cell_type": "code",
   "execution_count": 48,
   "id": "3a25a2c8",
   "metadata": {},
   "outputs": [
    {
     "data": {
      "text/html": [
       "<div>\n",
       "<style scoped>\n",
       "    .dataframe tbody tr th:only-of-type {\n",
       "        vertical-align: middle;\n",
       "    }\n",
       "\n",
       "    .dataframe tbody tr th {\n",
       "        vertical-align: top;\n",
       "    }\n",
       "\n",
       "    .dataframe thead th {\n",
       "        text-align: right;\n",
       "    }\n",
       "</style>\n",
       "<table border=\"1\" class=\"dataframe\">\n",
       "  <thead>\n",
       "    <tr style=\"text-align: right;\">\n",
       "      <th></th>\n",
       "      <th>Unnamed: 0</th>\n",
       "      <th>work_year</th>\n",
       "      <th>employment_type</th>\n",
       "      <th>job_title</th>\n",
       "      <th>salary</th>\n",
       "      <th>salary_currency</th>\n",
       "      <th>salary_in_usd</th>\n",
       "      <th>employee_residence</th>\n",
       "      <th>remote_ratio</th>\n",
       "      <th>company_location</th>\n",
       "      <th>company_size</th>\n",
       "      <th>Experience</th>\n",
       "    </tr>\n",
       "  </thead>\n",
       "  <tbody>\n",
       "    <tr>\n",
       "      <th>0</th>\n",
       "      <td>0</td>\n",
       "      <td>2020</td>\n",
       "      <td>FT</td>\n",
       "      <td>Data Scientist</td>\n",
       "      <td>70000</td>\n",
       "      <td>EUR</td>\n",
       "      <td>79833</td>\n",
       "      <td>DE</td>\n",
       "      <td>0</td>\n",
       "      <td>DE</td>\n",
       "      <td>L</td>\n",
       "      <td>False</td>\n",
       "    </tr>\n",
       "    <tr>\n",
       "      <th>1</th>\n",
       "      <td>1</td>\n",
       "      <td>2020</td>\n",
       "      <td>FT</td>\n",
       "      <td>Machine Learning Scientist</td>\n",
       "      <td>260000</td>\n",
       "      <td>USD</td>\n",
       "      <td>260000</td>\n",
       "      <td>JP</td>\n",
       "      <td>0</td>\n",
       "      <td>JP</td>\n",
       "      <td>S</td>\n",
       "      <td>True</td>\n",
       "    </tr>\n",
       "    <tr>\n",
       "      <th>2</th>\n",
       "      <td>2</td>\n",
       "      <td>2020</td>\n",
       "      <td>FT</td>\n",
       "      <td>Big Data Engineer</td>\n",
       "      <td>85000</td>\n",
       "      <td>GBP</td>\n",
       "      <td>109024</td>\n",
       "      <td>GB</td>\n",
       "      <td>50</td>\n",
       "      <td>GB</td>\n",
       "      <td>M</td>\n",
       "      <td>True</td>\n",
       "    </tr>\n",
       "    <tr>\n",
       "      <th>3</th>\n",
       "      <td>3</td>\n",
       "      <td>2020</td>\n",
       "      <td>FT</td>\n",
       "      <td>Product Data Analyst</td>\n",
       "      <td>20000</td>\n",
       "      <td>USD</td>\n",
       "      <td>20000</td>\n",
       "      <td>HN</td>\n",
       "      <td>0</td>\n",
       "      <td>HN</td>\n",
       "      <td>S</td>\n",
       "      <td>False</td>\n",
       "    </tr>\n",
       "    <tr>\n",
       "      <th>4</th>\n",
       "      <td>4</td>\n",
       "      <td>2020</td>\n",
       "      <td>FT</td>\n",
       "      <td>Machine Learning Engineer</td>\n",
       "      <td>150000</td>\n",
       "      <td>USD</td>\n",
       "      <td>150000</td>\n",
       "      <td>US</td>\n",
       "      <td>50</td>\n",
       "      <td>US</td>\n",
       "      <td>L</td>\n",
       "      <td>True</td>\n",
       "    </tr>\n",
       "    <tr>\n",
       "      <th>...</th>\n",
       "      <td>...</td>\n",
       "      <td>...</td>\n",
       "      <td>...</td>\n",
       "      <td>...</td>\n",
       "      <td>...</td>\n",
       "      <td>...</td>\n",
       "      <td>...</td>\n",
       "      <td>...</td>\n",
       "      <td>...</td>\n",
       "      <td>...</td>\n",
       "      <td>...</td>\n",
       "      <td>...</td>\n",
       "    </tr>\n",
       "    <tr>\n",
       "      <th>602</th>\n",
       "      <td>602</td>\n",
       "      <td>2022</td>\n",
       "      <td>FT</td>\n",
       "      <td>Data Engineer</td>\n",
       "      <td>154000</td>\n",
       "      <td>USD</td>\n",
       "      <td>154000</td>\n",
       "      <td>US</td>\n",
       "      <td>100</td>\n",
       "      <td>US</td>\n",
       "      <td>M</td>\n",
       "      <td>True</td>\n",
       "    </tr>\n",
       "    <tr>\n",
       "      <th>603</th>\n",
       "      <td>603</td>\n",
       "      <td>2022</td>\n",
       "      <td>FT</td>\n",
       "      <td>Data Engineer</td>\n",
       "      <td>126000</td>\n",
       "      <td>USD</td>\n",
       "      <td>126000</td>\n",
       "      <td>US</td>\n",
       "      <td>100</td>\n",
       "      <td>US</td>\n",
       "      <td>M</td>\n",
       "      <td>True</td>\n",
       "    </tr>\n",
       "    <tr>\n",
       "      <th>604</th>\n",
       "      <td>604</td>\n",
       "      <td>2022</td>\n",
       "      <td>FT</td>\n",
       "      <td>Data Analyst</td>\n",
       "      <td>129000</td>\n",
       "      <td>USD</td>\n",
       "      <td>129000</td>\n",
       "      <td>US</td>\n",
       "      <td>0</td>\n",
       "      <td>US</td>\n",
       "      <td>M</td>\n",
       "      <td>True</td>\n",
       "    </tr>\n",
       "    <tr>\n",
       "      <th>605</th>\n",
       "      <td>605</td>\n",
       "      <td>2022</td>\n",
       "      <td>FT</td>\n",
       "      <td>Data Analyst</td>\n",
       "      <td>150000</td>\n",
       "      <td>USD</td>\n",
       "      <td>150000</td>\n",
       "      <td>US</td>\n",
       "      <td>100</td>\n",
       "      <td>US</td>\n",
       "      <td>M</td>\n",
       "      <td>True</td>\n",
       "    </tr>\n",
       "    <tr>\n",
       "      <th>606</th>\n",
       "      <td>606</td>\n",
       "      <td>2022</td>\n",
       "      <td>FT</td>\n",
       "      <td>AI Scientist</td>\n",
       "      <td>200000</td>\n",
       "      <td>USD</td>\n",
       "      <td>200000</td>\n",
       "      <td>IN</td>\n",
       "      <td>100</td>\n",
       "      <td>US</td>\n",
       "      <td>L</td>\n",
       "      <td>False</td>\n",
       "    </tr>\n",
       "  </tbody>\n",
       "</table>\n",
       "<p>607 rows × 12 columns</p>\n",
       "</div>"
      ],
      "text/plain": [
       "     Unnamed: 0  work_year employment_type                   job_title  \\\n",
       "0             0       2020              FT              Data Scientist   \n",
       "1             1       2020              FT  Machine Learning Scientist   \n",
       "2             2       2020              FT           Big Data Engineer   \n",
       "3             3       2020              FT        Product Data Analyst   \n",
       "4             4       2020              FT   Machine Learning Engineer   \n",
       "..          ...        ...             ...                         ...   \n",
       "602         602       2022              FT               Data Engineer   \n",
       "603         603       2022              FT               Data Engineer   \n",
       "604         604       2022              FT                Data Analyst   \n",
       "605         605       2022              FT                Data Analyst   \n",
       "606         606       2022              FT                AI Scientist   \n",
       "\n",
       "     salary salary_currency  salary_in_usd employee_residence  remote_ratio  \\\n",
       "0     70000             EUR          79833                 DE             0   \n",
       "1    260000             USD         260000                 JP             0   \n",
       "2     85000             GBP         109024                 GB            50   \n",
       "3     20000             USD          20000                 HN             0   \n",
       "4    150000             USD         150000                 US            50   \n",
       "..      ...             ...            ...                ...           ...   \n",
       "602  154000             USD         154000                 US           100   \n",
       "603  126000             USD         126000                 US           100   \n",
       "604  129000             USD         129000                 US             0   \n",
       "605  150000             USD         150000                 US           100   \n",
       "606  200000             USD         200000                 IN           100   \n",
       "\n",
       "    company_location company_size  Experience  \n",
       "0                 DE            L       False  \n",
       "1                 JP            S        True  \n",
       "2                 GB            M        True  \n",
       "3                 HN            S       False  \n",
       "4                 US            L        True  \n",
       "..               ...          ...         ...  \n",
       "602               US            M        True  \n",
       "603               US            M        True  \n",
       "604               US            M        True  \n",
       "605               US            M        True  \n",
       "606               US            L       False  \n",
       "\n",
       "[607 rows x 12 columns]"
      ]
     },
     "execution_count": 48,
     "metadata": {},
     "output_type": "execute_result"
    }
   ],
   "source": [
    "DataScience.drop(['experience_level'],axis=1)"
   ]
  },
  {
   "cell_type": "code",
   "execution_count": 49,
   "id": "df596e2c",
   "metadata": {},
   "outputs": [],
   "source": [
    "from sklearn.preprocessing import LabelEncoder\n",
    "le = LabelEncoder()\n"
   ]
  },
  {
   "cell_type": "code",
   "execution_count": 50,
   "id": "e4f8bd3a",
   "metadata": {},
   "outputs": [],
   "source": [
    "DataScience['Experience']=le.fit_transform(DataScience['Experience'])\n",
    "DataScience['employment_type']=le.fit_transform(DataScience['employment_type'])\n",
    "DataScience['job_title']=le.fit_transform(DataScience['job_title'])\n",
    "DataScience['salary_currency']=le.fit_transform(DataScience['salary_currency'])\n",
    "DataScience['employee_residence']=le.fit_transform(DataScience['employee_residence'])\n",
    "DataScience['company_location']=le.fit_transform(DataScience['company_location'])\n",
    "DataScience['company_size']=le.fit_transform(DataScience['company_size'])\n",
    "\n"
   ]
  },
  {
   "cell_type": "code",
   "execution_count": 51,
   "id": "190d85a9",
   "metadata": {},
   "outputs": [
    {
     "data": {
      "text/plain": [
       "experience_level      1.000000\n",
       "salary_in_usd         0.150924\n",
       "Experience            0.137742\n",
       "salary_currency       0.115212\n",
       "employee_residence    0.092450\n",
       "remote_ratio          0.091606\n",
       "company_size          0.084779\n",
       "company_location      0.057769\n",
       "employment_type       0.004473\n",
       "job_title            -0.005490\n",
       "work_year            -0.018915\n",
       "Unnamed: 0           -0.031257\n",
       "salary               -0.043905\n",
       "Name: experience_level, dtype: float64"
      ]
     },
     "execution_count": 51,
     "metadata": {},
     "output_type": "execute_result"
    }
   ],
   "source": [
    "#how what is the highest relations to purchase \n",
    "corr_matrix=DataScience.corr()\n",
    "corr_matrix['experience_level'].sort_values(ascending=False) "
   ]
  },
  {
   "cell_type": "code",
   "execution_count": 52,
   "id": "69058334",
   "metadata": {},
   "outputs": [
    {
     "data": {
      "text/plain": [
       "work_year             1.000000\n",
       "Unnamed: 0            0.886550\n",
       "Experience            0.294008\n",
       "salary_currency       0.202420\n",
       "employee_residence    0.193552\n",
       "company_location      0.181515\n",
       "salary_in_usd         0.170493\n",
       "company_size          0.078764\n",
       "remote_ratio          0.076314\n",
       "employment_type       0.016323\n",
       "experience_level     -0.018915\n",
       "salary               -0.087577\n",
       "job_title            -0.162560\n",
       "Name: work_year, dtype: float64"
      ]
     },
     "execution_count": 52,
     "metadata": {},
     "output_type": "execute_result"
    }
   ],
   "source": [
    "corr_matrix[\"work_year\"].sort_values(ascending=False)\n"
   ]
  },
  {
   "cell_type": "code",
   "execution_count": 53,
   "id": "c190e5e8",
   "metadata": {},
   "outputs": [
    {
     "name": "stdout",
     "output_type": "stream",
     "text": [
      "                    Unnamed: 0  work_year  experience_level  employment_type  \\\n",
      "Unnamed: 0            1.000000   0.886550         -0.031257         0.001431   \n",
      "work_year             0.886550   1.000000         -0.018915         0.016323   \n",
      "experience_level     -0.031257  -0.018915          1.000000         0.004473   \n",
      "employment_type       0.001431   0.016323          0.004473         1.000000   \n",
      "job_title            -0.140975  -0.162560         -0.005490        -0.101823   \n",
      "salary               -0.096250  -0.087577         -0.043905         0.000536   \n",
      "salary_currency       0.191409   0.202420          0.115212        -0.087365   \n",
      "salary_in_usd         0.167025   0.170493          0.150924        -0.123545   \n",
      "employee_residence    0.183887   0.193552          0.092450        -0.109979   \n",
      "remote_ratio          0.095000   0.076314          0.091606        -0.045592   \n",
      "company_location      0.162139   0.181515          0.057769        -0.083661   \n",
      "company_size          0.090137   0.078764          0.084779         0.034549   \n",
      "Experience            0.296579   0.294008          0.137742        -0.016132   \n",
      "\n",
      "                    job_title    salary  salary_currency  salary_in_usd  \\\n",
      "Unnamed: 0          -0.140975 -0.096250         0.191409       0.167025   \n",
      "work_year           -0.162560 -0.087577         0.202420       0.170493   \n",
      "experience_level    -0.005490 -0.043905         0.115212       0.150924   \n",
      "employment_type     -0.101823  0.000536        -0.087365      -0.123545   \n",
      "job_title            1.000000  0.027710        -0.149591       0.131016   \n",
      "salary               0.027710  1.000000        -0.120725      -0.083906   \n",
      "salary_currency     -0.149591 -0.120725         1.000000       0.420550   \n",
      "salary_in_usd        0.131016 -0.083906         0.420550       1.000000   \n",
      "employee_residence  -0.119135 -0.105638         0.758730       0.452501   \n",
      "remote_ratio        -0.058589 -0.014608         0.149746       0.132122   \n",
      "company_location    -0.147379 -0.082894         0.787084       0.428994   \n",
      "company_size        -0.031011 -0.079959         0.038849      -0.151205   \n",
      "Experience           0.002317 -0.065995         0.301963       0.343513   \n",
      "\n",
      "                    employee_residence  remote_ratio  company_location  \\\n",
      "Unnamed: 0                    0.183887      0.095000          0.162139   \n",
      "work_year                     0.193552      0.076314          0.181515   \n",
      "experience_level              0.092450      0.091606          0.057769   \n",
      "employment_type              -0.109979     -0.045592         -0.083661   \n",
      "job_title                    -0.119135     -0.058589         -0.147379   \n",
      "salary                       -0.105638     -0.014608         -0.082894   \n",
      "salary_currency               0.758730      0.149746          0.787084   \n",
      "salary_in_usd                 0.452501      0.132122          0.428994   \n",
      "employee_residence            1.000000      0.157299          0.897704   \n",
      "remote_ratio                  0.157299      1.000000          0.169083   \n",
      "company_location              0.897704      0.169083          1.000000   \n",
      "company_size                 -0.081742      0.022070         -0.066554   \n",
      "Experience                    0.302923      0.113071          0.291799   \n",
      "\n",
      "                    company_size  Experience  \n",
      "Unnamed: 0              0.090137    0.296579  \n",
      "work_year               0.078764    0.294008  \n",
      "experience_level        0.084779    0.137742  \n",
      "employment_type         0.034549   -0.016132  \n",
      "job_title              -0.031011    0.002317  \n",
      "salary                 -0.079959   -0.065995  \n",
      "salary_currency         0.038849    0.301963  \n",
      "salary_in_usd          -0.151205    0.343513  \n",
      "employee_residence     -0.081742    0.302923  \n",
      "remote_ratio            0.022070    0.113071  \n",
      "company_location       -0.066554    0.291799  \n",
      "company_size            1.000000    0.015413  \n",
      "Experience              0.015413    1.000000  \n"
     ]
    }
   ],
   "source": [
    "print(DataScience.corr())\n"
   ]
  },
  {
   "cell_type": "code",
   "execution_count": 55,
   "id": "437b7e11",
   "metadata": {},
   "outputs": [
    {
     "data": {
      "text/plain": [
       "job_title             1.000000\n",
       "salary_in_usd         0.131016\n",
       "salary                0.027710\n",
       "Experience            0.002317\n",
       "experience_level     -0.005490\n",
       "company_size         -0.031011\n",
       "remote_ratio         -0.058589\n",
       "employment_type      -0.101823\n",
       "employee_residence   -0.119135\n",
       "Unnamed: 0           -0.140975\n",
       "company_location     -0.147379\n",
       "salary_currency      -0.149591\n",
       "work_year            -0.162560\n",
       "Name: job_title, dtype: float64"
      ]
     },
     "execution_count": 55,
     "metadata": {},
     "output_type": "execute_result"
    }
   ],
   "source": [
    "\n",
    "\n",
    "corr_matrix[\"job_title\"].sort_values(ascending=False)\n"
   ]
  },
  {
   "cell_type": "code",
   "execution_count": 56,
   "id": "65f7103c",
   "metadata": {},
   "outputs": [
    {
     "data": {
      "text/plain": [
       "company_location      1.000000\n",
       "employee_residence    0.897704\n",
       "salary_currency       0.787084\n",
       "salary_in_usd         0.428994\n",
       "Experience            0.291799\n",
       "work_year             0.181515\n",
       "remote_ratio          0.169083\n",
       "Unnamed: 0            0.162139\n",
       "experience_level      0.057769\n",
       "company_size         -0.066554\n",
       "salary               -0.082894\n",
       "employment_type      -0.083661\n",
       "job_title            -0.147379\n",
       "Name: company_location, dtype: float64"
      ]
     },
     "execution_count": 56,
     "metadata": {},
     "output_type": "execute_result"
    }
   ],
   "source": [
    "corr_matrix[\"company_location\"].sort_values(ascending=False)"
   ]
  },
  {
   "cell_type": "code",
   "execution_count": 57,
   "id": "d2aa412a",
   "metadata": {},
   "outputs": [
    {
     "data": {
      "text/plain": [
       "experience_level      1.000000\n",
       "salary_in_usd         0.150924\n",
       "Experience            0.137742\n",
       "salary_currency       0.115212\n",
       "employee_residence    0.092450\n",
       "remote_ratio          0.091606\n",
       "company_size          0.084779\n",
       "company_location      0.057769\n",
       "employment_type       0.004473\n",
       "job_title            -0.005490\n",
       "work_year            -0.018915\n",
       "Unnamed: 0           -0.031257\n",
       "salary               -0.043905\n",
       "Name: experience_level, dtype: float64"
      ]
     },
     "execution_count": 57,
     "metadata": {},
     "output_type": "execute_result"
    }
   ],
   "source": [
    "corr_matrix[\"experience_level\"].sort_values(ascending=False)"
   ]
  },
  {
   "cell_type": "code",
   "execution_count": 59,
   "id": "219ebab5",
   "metadata": {},
   "outputs": [],
   "source": [
    "ds1=DataScience[[\"salary_in_usd\",\"salary_currency\",\"employee_residence\",\"remote_ratio\",\"company_size\",\"company_location\"]]\n",
    "ds2=DataScience[[\"salary_currency\",\"employee_residence\",\"company_location\",\"salary_in_usd\",\"company_size\"]]\n",
    "ds3=DataScience[[\"employee_residence\",\"salary_currency\",\"salary_in_usd\"]]"
   ]
  },
  {
   "cell_type": "code",
   "execution_count": 60,
   "id": "f61bbdd7",
   "metadata": {},
   "outputs": [
    {
     "data": {
      "text/html": [
       "<div>\n",
       "<style scoped>\n",
       "    .dataframe tbody tr th:only-of-type {\n",
       "        vertical-align: middle;\n",
       "    }\n",
       "\n",
       "    .dataframe tbody tr th {\n",
       "        vertical-align: top;\n",
       "    }\n",
       "\n",
       "    .dataframe thead th {\n",
       "        text-align: right;\n",
       "    }\n",
       "</style>\n",
       "<table border=\"1\" class=\"dataframe\">\n",
       "  <thead>\n",
       "    <tr style=\"text-align: right;\">\n",
       "      <th></th>\n",
       "      <th>Unnamed: 0</th>\n",
       "      <th>work_year</th>\n",
       "      <th>experience_level</th>\n",
       "      <th>employment_type</th>\n",
       "      <th>job_title</th>\n",
       "      <th>salary</th>\n",
       "      <th>salary_currency</th>\n",
       "      <th>salary_in_usd</th>\n",
       "      <th>employee_residence</th>\n",
       "      <th>remote_ratio</th>\n",
       "      <th>company_location</th>\n",
       "      <th>company_size</th>\n",
       "      <th>Experience</th>\n",
       "    </tr>\n",
       "  </thead>\n",
       "  <tbody>\n",
       "    <tr>\n",
       "      <th>0</th>\n",
       "      <td>0</td>\n",
       "      <td>2020</td>\n",
       "      <td>0</td>\n",
       "      <td>2</td>\n",
       "      <td>22</td>\n",
       "      <td>70000</td>\n",
       "      <td>7</td>\n",
       "      <td>79833</td>\n",
       "      <td>14</td>\n",
       "      <td>0</td>\n",
       "      <td>12</td>\n",
       "      <td>0</td>\n",
       "      <td>0</td>\n",
       "    </tr>\n",
       "    <tr>\n",
       "      <th>1</th>\n",
       "      <td>1</td>\n",
       "      <td>2020</td>\n",
       "      <td>1</td>\n",
       "      <td>2</td>\n",
       "      <td>41</td>\n",
       "      <td>260000</td>\n",
       "      <td>16</td>\n",
       "      <td>260000</td>\n",
       "      <td>32</td>\n",
       "      <td>0</td>\n",
       "      <td>29</td>\n",
       "      <td>2</td>\n",
       "      <td>1</td>\n",
       "    </tr>\n",
       "    <tr>\n",
       "      <th>2</th>\n",
       "      <td>2</td>\n",
       "      <td>2020</td>\n",
       "      <td>1</td>\n",
       "      <td>2</td>\n",
       "      <td>7</td>\n",
       "      <td>85000</td>\n",
       "      <td>8</td>\n",
       "      <td>109024</td>\n",
       "      <td>20</td>\n",
       "      <td>50</td>\n",
       "      <td>18</td>\n",
       "      <td>1</td>\n",
       "      <td>1</td>\n",
       "    </tr>\n",
       "    <tr>\n",
       "      <th>3</th>\n",
       "      <td>3</td>\n",
       "      <td>2020</td>\n",
       "      <td>0</td>\n",
       "      <td>2</td>\n",
       "      <td>47</td>\n",
       "      <td>20000</td>\n",
       "      <td>16</td>\n",
       "      <td>20000</td>\n",
       "      <td>23</td>\n",
       "      <td>0</td>\n",
       "      <td>20</td>\n",
       "      <td>2</td>\n",
       "      <td>0</td>\n",
       "    </tr>\n",
       "    <tr>\n",
       "      <th>4</th>\n",
       "      <td>4</td>\n",
       "      <td>2020</td>\n",
       "      <td>1</td>\n",
       "      <td>2</td>\n",
       "      <td>38</td>\n",
       "      <td>150000</td>\n",
       "      <td>16</td>\n",
       "      <td>150000</td>\n",
       "      <td>55</td>\n",
       "      <td>50</td>\n",
       "      <td>48</td>\n",
       "      <td>0</td>\n",
       "      <td>1</td>\n",
       "    </tr>\n",
       "  </tbody>\n",
       "</table>\n",
       "</div>"
      ],
      "text/plain": [
       "   Unnamed: 0  work_year  experience_level  employment_type  job_title  \\\n",
       "0           0       2020                 0                2         22   \n",
       "1           1       2020                 1                2         41   \n",
       "2           2       2020                 1                2          7   \n",
       "3           3       2020                 0                2         47   \n",
       "4           4       2020                 1                2         38   \n",
       "\n",
       "   salary  salary_currency  salary_in_usd  employee_residence  remote_ratio  \\\n",
       "0   70000                7          79833                  14             0   \n",
       "1  260000               16         260000                  32             0   \n",
       "2   85000                8         109024                  20            50   \n",
       "3   20000               16          20000                  23             0   \n",
       "4  150000               16         150000                  55            50   \n",
       "\n",
       "   company_location  company_size  Experience  \n",
       "0                12             0           0  \n",
       "1                29             2           1  \n",
       "2                18             1           1  \n",
       "3                20             2           0  \n",
       "4                48             0           1  "
      ]
     },
     "execution_count": 60,
     "metadata": {},
     "output_type": "execute_result"
    }
   ],
   "source": [
    "DataScience.head()"
   ]
  },
  {
   "cell_type": "code",
   "execution_count": 61,
   "id": "764a083b",
   "metadata": {},
   "outputs": [],
   "source": [
    "DataScience.drop(columns=DataScience.columns[0],axis=1,inplace=True)"
   ]
  },
  {
   "cell_type": "code",
   "execution_count": 62,
   "id": "e55034bd",
   "metadata": {},
   "outputs": [
    {
     "data": {
      "text/html": [
       "<div>\n",
       "<style scoped>\n",
       "    .dataframe tbody tr th:only-of-type {\n",
       "        vertical-align: middle;\n",
       "    }\n",
       "\n",
       "    .dataframe tbody tr th {\n",
       "        vertical-align: top;\n",
       "    }\n",
       "\n",
       "    .dataframe thead th {\n",
       "        text-align: right;\n",
       "    }\n",
       "</style>\n",
       "<table border=\"1\" class=\"dataframe\">\n",
       "  <thead>\n",
       "    <tr style=\"text-align: right;\">\n",
       "      <th></th>\n",
       "      <th>work_year</th>\n",
       "      <th>experience_level</th>\n",
       "      <th>employment_type</th>\n",
       "      <th>job_title</th>\n",
       "      <th>salary</th>\n",
       "      <th>salary_currency</th>\n",
       "      <th>salary_in_usd</th>\n",
       "      <th>employee_residence</th>\n",
       "      <th>remote_ratio</th>\n",
       "      <th>company_location</th>\n",
       "      <th>company_size</th>\n",
       "      <th>Experience</th>\n",
       "    </tr>\n",
       "  </thead>\n",
       "  <tbody>\n",
       "    <tr>\n",
       "      <th>0</th>\n",
       "      <td>2020</td>\n",
       "      <td>0</td>\n",
       "      <td>2</td>\n",
       "      <td>22</td>\n",
       "      <td>70000</td>\n",
       "      <td>7</td>\n",
       "      <td>79833</td>\n",
       "      <td>14</td>\n",
       "      <td>0</td>\n",
       "      <td>12</td>\n",
       "      <td>0</td>\n",
       "      <td>0</td>\n",
       "    </tr>\n",
       "    <tr>\n",
       "      <th>1</th>\n",
       "      <td>2020</td>\n",
       "      <td>1</td>\n",
       "      <td>2</td>\n",
       "      <td>41</td>\n",
       "      <td>260000</td>\n",
       "      <td>16</td>\n",
       "      <td>260000</td>\n",
       "      <td>32</td>\n",
       "      <td>0</td>\n",
       "      <td>29</td>\n",
       "      <td>2</td>\n",
       "      <td>1</td>\n",
       "    </tr>\n",
       "    <tr>\n",
       "      <th>2</th>\n",
       "      <td>2020</td>\n",
       "      <td>1</td>\n",
       "      <td>2</td>\n",
       "      <td>7</td>\n",
       "      <td>85000</td>\n",
       "      <td>8</td>\n",
       "      <td>109024</td>\n",
       "      <td>20</td>\n",
       "      <td>50</td>\n",
       "      <td>18</td>\n",
       "      <td>1</td>\n",
       "      <td>1</td>\n",
       "    </tr>\n",
       "    <tr>\n",
       "      <th>3</th>\n",
       "      <td>2020</td>\n",
       "      <td>0</td>\n",
       "      <td>2</td>\n",
       "      <td>47</td>\n",
       "      <td>20000</td>\n",
       "      <td>16</td>\n",
       "      <td>20000</td>\n",
       "      <td>23</td>\n",
       "      <td>0</td>\n",
       "      <td>20</td>\n",
       "      <td>2</td>\n",
       "      <td>0</td>\n",
       "    </tr>\n",
       "    <tr>\n",
       "      <th>4</th>\n",
       "      <td>2020</td>\n",
       "      <td>1</td>\n",
       "      <td>2</td>\n",
       "      <td>38</td>\n",
       "      <td>150000</td>\n",
       "      <td>16</td>\n",
       "      <td>150000</td>\n",
       "      <td>55</td>\n",
       "      <td>50</td>\n",
       "      <td>48</td>\n",
       "      <td>0</td>\n",
       "      <td>1</td>\n",
       "    </tr>\n",
       "  </tbody>\n",
       "</table>\n",
       "</div>"
      ],
      "text/plain": [
       "   work_year  experience_level  employment_type  job_title  salary  \\\n",
       "0       2020                 0                2         22   70000   \n",
       "1       2020                 1                2         41  260000   \n",
       "2       2020                 1                2          7   85000   \n",
       "3       2020                 0                2         47   20000   \n",
       "4       2020                 1                2         38  150000   \n",
       "\n",
       "   salary_currency  salary_in_usd  employee_residence  remote_ratio  \\\n",
       "0                7          79833                  14             0   \n",
       "1               16         260000                  32             0   \n",
       "2                8         109024                  20            50   \n",
       "3               16          20000                  23             0   \n",
       "4               16         150000                  55            50   \n",
       "\n",
       "   company_location  company_size  Experience  \n",
       "0                12             0           0  \n",
       "1                29             2           1  \n",
       "2                18             1           1  \n",
       "3                20             2           0  \n",
       "4                48             0           1  "
      ]
     },
     "execution_count": 62,
     "metadata": {},
     "output_type": "execute_result"
    }
   ],
   "source": [
    "DataScience.head()"
   ]
  },
  {
   "cell_type": "code",
   "execution_count": 63,
   "id": "1024561e",
   "metadata": {},
   "outputs": [],
   "source": [
    "ds1=DataScience[[\"salary_in_usd\",\"salary_currency\",\"employee_residence\",\"remote_ratio\",\"company_size\",\"company_location\"]]\n",
    "ds2=DataScience[[\"salary_currency\",\"employee_residence\",\"company_location\",\"salary_in_usd\",\"company_size\"]]\n",
    "ds3=DataScience[[\"employee_residence\",\"salary_currency\",\"salary_in_usd\"]]\n"
   ]
  },
  {
   "cell_type": "code",
   "execution_count": 65,
   "id": "c149620b",
   "metadata": {},
   "outputs": [],
   "source": [
    "import sklearn\n",
    "from sklearn.model_selection import train_test_split\n",
    "y=DataScience['Experience']\n",
    "X=DataScience[['employment_type','salary_currency']]\n",
    "X_train,X_test,y_train,y_test=train_test_split(X,y,test_size=0.25,random_state=42)"
   ]
  },
  {
   "cell_type": "code",
   "execution_count": 66,
   "id": "7265a588",
   "metadata": {},
   "outputs": [],
   "source": [
    "from sklearn.neighbors import KNeighborsClassifier\n",
    "knn=KNeighborsClassifier(n_neighbors=7)\n",
    "knn.fit(X_train,y_train)\n",
    "y_pred=knn.predict(X_test)"
   ]
  },
  {
   "cell_type": "code",
   "execution_count": 67,
   "id": "f4c49e7d",
   "metadata": {},
   "outputs": [],
   "source": [
    "def plot_roc_curve(fpr,tpr):\n",
    "    plt.plot(fpr,tpr,color='orange',label='ROC')\n",
    "    plt.plot([0,1],[0,1],color='darkblue',linestyle='--')\n",
    "    plt.xlabel('False Positive Rate')\n",
    "    plt.ylabel('True Positive Rate')\n",
    "    plt.title('ROC Curve')\n",
    "    plt.legend()\n",
    "    plt.show()\n",
    "    "
   ]
  },
  {
   "cell_type": "code",
   "execution_count": 68,
   "id": "36457f49",
   "metadata": {},
   "outputs": [],
   "source": [
    "from sklearn.neighbors import KNeighborsClassifier\n",
    "probs= knn.predict_proba(X_test)\n",
    "probs = probs[:,1]"
   ]
  },
  {
   "cell_type": "code",
   "execution_count": 69,
   "id": "8095364b",
   "metadata": {},
   "outputs": [],
   "source": [
    "from sklearn.metrics import roc_curve\n",
    "fpr, tpr, thresholds = roc_curve(y_test,probs,pos_label=1)"
   ]
  },
  {
   "cell_type": "code",
   "execution_count": 70,
   "id": "6d2e7722",
   "metadata": {},
   "outputs": [
    {
     "data": {
      "image/png": "[encoded data removed]",
      "text/plain": [
       "<Figure size 640x480 with 1 Axes>"
      ]
     },
     "metadata": {},
     "output_type": "display_data"
    }
   ],
   "source": [
    "plot_roc_curve(fpr,tpr)"
   ]
  },
  {
   "cell_type": "code",
   "execution_count": 71,
   "id": "511ea011",
   "metadata": {},
   "outputs": [
    {
     "name": "stdout",
     "output_type": "stream",
     "text": [
      "predicted  0   1\n",
      "actual          \n",
      "0          2  30\n",
      "1          5   8\n"
     ]
    }
   ],
   "source": [
    "y_actual = pd.Series(y_test,name='actual')\n",
    "y_predicted=pd.Series(y_pred,name='predicted')\n",
    "print(pd.crosstab(y_actual,y_predicted))\n"
   ]
  },
  {
   "cell_type": "code",
   "execution_count": 72,
   "id": "5cba8b5b",
   "metadata": {},
   "outputs": [
    {
     "data": {
      "text/plain": [
       "<AxesSubplot:>"
      ]
     },
     "execution_count": 72,
     "metadata": {},
     "output_type": "execute_result"
    },
    {
     "data": {
      "image/png": "[encoded data removed]",
      "text/plain": [
       "<Figure size 640x480 with 2 Axes>"
      ]
     },
     "metadata": {},
     "output_type": "display_data"
    }
   ],
   "source": [
    "from sklearn.metrics import confusion_matrix\n",
    "sns.heatmap(confusion_matrix(y_test,y_pred),annot=True)\n"
   ]
  },
  {
   "cell_type": "code",
   "execution_count": 73,
   "id": "5a84d770",
   "metadata": {},
   "outputs": [
    {
     "name": "stdout",
     "output_type": "stream",
     "text": [
      "              precision    recall  f1-score   support\n",
      "\n",
      "           0       0.75      0.21      0.33        84\n",
      "           1       0.48      0.91      0.63        68\n",
      "\n",
      "    accuracy                           0.53       152\n",
      "   macro avg       0.62      0.56      0.48       152\n",
      "weighted avg       0.63      0.53      0.47       152\n",
      "\n"
     ]
    }
   ],
   "source": [
    "from sklearn.metrics import classification_report\n",
    "print(classification_report(y_test, y_pred))"
   ]
  },
  {
   "cell_type": "code",
   "execution_count": 75,
   "id": "918ee739",
   "metadata": {},
   "outputs": [
    {
     "name": "stdout",
     "output_type": "stream",
     "text": [
      "tp fp fn tn\n",
      "18 66 6 62\n",
      "sensitivity = 0.75\n",
      "specificity = 0.484375\n",
      "precision = 0.9117647058823529\n",
      "recall =  0.484375\n",
      "AUC: 0.563\n"
     ]
    }
   ],
   "source": [
    "\n",
    "\n",
    "cm = confusion_matrix(y_test, y_pred)\n",
    "tp, fp, fn, tn = cm[0,0], cm[0,1], cm[1,0], cm[1,1]\n",
    "print('tp', 'fp', 'fn', 'tn')\n",
    "print(tp, fp, fn, tn)\n",
    "\n",
    "print('sensitivity =' ,(tp/(tp+fn)))\n",
    "print('specificity =' ,(tn / (tn+fp)))\n",
    "print('precision =' ,precision_score(y_pred, y_test))\n",
    "print('recall = ', recall_score(y_pred, y_test))\n",
    "auc = roc_auc_score(y_test, y_pred)\n",
    "print('AUC: %.3f' % auc)\n"
   ]
  },
  {
   "cell_type": "code",
   "execution_count": 76,
   "id": "b5244d40",
   "metadata": {},
   "outputs": [
    {
     "name": "stdout",
     "output_type": "stream",
     "text": [
      "[0.3442623  0.68852459 0.72131148 0.60655738 0.60655738 0.26229508\n",
      " 0.81967213 0.6        0.6        0.11666667]\n",
      "0.5365846994535518\n"
     ]
    }
   ],
   "source": [
    "from sklearn.model_selection import StratifiedKFold\n",
    "from sklearn.model_selection import KFold\n",
    "from sklearn.model_selection import cross_val_score\n",
    "kfold_validation=KFold(10)\n",
    "result=cross_val_score(knn,X,y,cv=kfold_validation)\n",
    "print(result)\n",
    "print(np.mean(result))\n"
   ]
  },
  {
   "cell_type": "code",
   "execution_count": 77,
   "id": "3bef450c",
   "metadata": {},
   "outputs": [
    {
     "name": "stdout",
     "output_type": "stream",
     "text": [
      "nb score accurate: 0.5789473684210527\n"
     ]
    }
   ],
   "source": [
    "from sklearn.naive_bayes import GaussianNB\n",
    "nb = GaussianNB()\n",
    "nb.fit(X,y)\n",
    "#gprobability= nb.predict_proba(X_test)\n",
    "gprobability= nb.predict(X_test)\n",
    "print(\"nb score accurate:\",nb.score(X_test,y_test))\n"
   ]
  },
  {
   "cell_type": "code",
   "execution_count": 78,
   "id": "eadc7634",
   "metadata": {},
   "outputs": [
    {
     "data": {
      "text/plain": [
       "<AxesSubplot:>"
      ]
     },
     "execution_count": 78,
     "metadata": {},
     "output_type": "execute_result"
    },
    {
     "data": {
      "image/png": "[encoded data removed]",
      "text/plain": [
       "<Figure size 640x480 with 2 Axes>"
      ]
     },
     "metadata": {},
     "output_type": "display_data"
    }
   ],
   "source": [
    "from sklearn.metrics import confusion_matrix\n",
    "sns.heatmap(confusion_matrix(y_test,gprobability),annot=True)\n"
   ]
  },
  {
   "cell_type": "code",
   "execution_count": 79,
   "id": "00baebc6",
   "metadata": {},
   "outputs": [],
   "source": [
    "def plot_roc_curve(fpr,tpr):\n",
    "    plt.plot(fpr,tpr,color='orange',label='ROC')\n",
    "    plt.plot([0,1],[0,1],color='darkblue',linestyle='--')\n",
    "    plt.xlabel('False Positive Rate')\n",
    "    plt.ylabel('True Positive Rate')\n",
    "    plt.title('ROC Curve')\n",
    "    plt.legend()\n",
    "    plt.show()"
   ]
  },
  {
   "cell_type": "code",
   "execution_count": 80,
   "id": "9c37bf5b",
   "metadata": {},
   "outputs": [],
   "source": [
    "from sklearn.naive_bayes import GaussianNB\n",
    "probs= nb.predict_proba(X_test)\n",
    "probs = probs[:,1]\n"
   ]
  },
  {
   "cell_type": "code",
   "execution_count": 81,
   "id": "21ec9082",
   "metadata": {},
   "outputs": [],
   "source": [
    "from sklearn.metrics import roc_curve\n",
    "fpr, tpr, thresholds = roc_curve(y_test,probs,pos_label=1)\n"
   ]
  },
  {
   "cell_type": "code",
   "execution_count": 82,
   "id": "14f5ea17",
   "metadata": {},
   "outputs": [
    {
     "data": {
      "image/png": "[encoded data removed]",
      "text/plain": [
       "<Figure size 640x480 with 1 Axes>"
      ]
     },
     "metadata": {},
     "output_type": "display_data"
    }
   ],
   "source": [
    "plot_roc_curve(fpr,tpr)"
   ]
  },
  {
   "cell_type": "code",
   "execution_count": 83,
   "id": "e09a415d",
   "metadata": {},
   "outputs": [
    {
     "name": "stdout",
     "output_type": "stream",
     "text": [
      "tp fp tn fn\n",
      "36 48 52 16\n",
      "sensitivity = 0.6923076923076923\n",
      "specificity = 0.52\n",
      "precision = 0.7647058823529411\n",
      "recall =  0.52\n",
      "AUC: 0.597\n"
     ]
    }
   ],
   "source": [
    "cm = confusion_matrix(y_test, gprobability)\n",
    "tp, fp, tn, fn = cm[0,0], cm[0,1], cm[1,1], cm[1,0]\n",
    "print('tp', 'fp', 'tn', 'fn')\n",
    "print(tp, fp, tn, fn)\n",
    "\n",
    "print('sensitivity =' ,(tp/(tp+fn)))\n",
    "print('specificity =' ,(tn / (tn+fp)))\n",
    "print('precision =' ,precision_score(gprobability, y_test))\n",
    "print('recall = ', recall_score(gprobability, y_test))\n",
    "auc = roc_auc_score(y_test, gprobability)\n",
    "print('AUC: %.3f' % auc)"
   ]
  },
  {
   "cell_type": "code",
   "execution_count": 84,
   "id": "aee819f6",
   "metadata": {},
   "outputs": [
    {
     "name": "stdout",
     "output_type": "stream",
     "text": [
      "nb score accurate: 0.5328947368421053\n"
     ]
    }
   ],
   "source": [
    "from sklearn.naive_bayes import MultinomialNB\n",
    "multi = MultinomialNB()\n",
    "multi.fit(X,y)\n",
    "#gprobability= nb.predict_proba(X_test)\n",
    "mnb= multi.predict(X_test)\n",
    "print(\"nb score accurate:\",multi.score(X_test,y_test))\n"
   ]
  },
  {
   "cell_type": "code",
   "execution_count": 85,
   "id": "d470002c",
   "metadata": {},
   "outputs": [
    {
     "data": {
      "text/plain": [
       "<AxesSubplot:>"
      ]
     },
     "execution_count": 85,
     "metadata": {},
     "output_type": "execute_result"
    },
    {
     "data": {
      "image/png": "[encoded data removed]",
      "text/plain": [
       "<Figure size 640x480 with 2 Axes>"
      ]
     },
     "metadata": {},
     "output_type": "display_data"
    }
   ],
   "source": [
    "from sklearn.metrics import confusion_matrix\n",
    "sns.heatmap(confusion_matrix(y_test,mnb),annot=True)"
   ]
  },
  {
   "cell_type": "code",
   "execution_count": 86,
   "id": "8dd908e6",
   "metadata": {},
   "outputs": [],
   "source": [
    "def plot_roc_curve(fpr,tpr):\n",
    "    plt.plot(fpr,tpr,color='orange',label='ROC')\n",
    "    plt.plot([0,1],[0,1],color='darkblue',linestyle='--')\n",
    "    plt.xlabel('False Positive Rate')\n",
    "    plt.ylabel('True Positive Rate')\n",
    "    plt.title('ROC Curve')\n",
    "    plt.legend()\n",
    "    plt.show()\n"
   ]
  },
  {
   "cell_type": "code",
   "execution_count": 87,
   "id": "5e1aac2c",
   "metadata": {},
   "outputs": [],
   "source": [
    "from sklearn.naive_bayes import MultinomialNB\n",
    "mprobs= multi.predict_proba(X_test)\n",
    "mnprobs = mprobs[:,1]\n"
   ]
  },
  {
   "cell_type": "code",
   "execution_count": 88,
   "id": "9da44da8",
   "metadata": {},
   "outputs": [],
   "source": [
    "from sklearn.metrics import roc_curve\n",
    "fpr, tpr, thresholds = roc_curve(y_test,mnprobs,pos_label=1)"
   ]
  },
  {
   "cell_type": "code",
   "execution_count": 89,
   "id": "0cd46651",
   "metadata": {},
   "outputs": [
    {
     "data": {
      "image/png": "[encoded data removed]",
      "text/plain": [
       "<Figure size 640x480 with 1 Axes>"
      ]
     },
     "metadata": {},
     "output_type": "display_data"
    }
   ],
   "source": [
    "plot_roc_curve(fpr,tpr)\n"
   ]
  },
  {
   "cell_type": "code",
   "execution_count": 90,
   "id": "fc35fdf7",
   "metadata": {},
   "outputs": [
    {
     "name": "stdout",
     "output_type": "stream",
     "text": [
      "tp fp tn fn\n",
      "81 3 0 68\n",
      "sensitivity = 0.5436241610738255\n",
      "specificity = 0.0\n",
      "precision = 0.0\n",
      "recall =  0.0\n",
      "AUC: 0.482\n"
     ]
    }
   ],
   "source": [
    "cm = confusion_matrix(y_test, mnb)\n",
    "tp, fp, tn, fn = cm[0,0], cm[0,1], cm[1,1], cm[1,0]\n",
    "print('tp', 'fp', 'tn', 'fn')\n",
    "print(tp, fp, tn, fn)\n",
    "\n",
    "print('sensitivity =' ,(tp/(tp+fn)))\n",
    "print('specificity =' ,(tn / (tn+fp)))\n",
    "print('precision =' ,precision_score(mnb, y_test))\n",
    "print('recall = ', recall_score(mnb, y_test))\n",
    "auc = roc_auc_score(y_test, mnb)\n",
    "print('AUC: %.3f' % auc)\n"
   ]
  },
  {
   "cell_type": "code",
   "execution_count": 91,
   "id": "8ea2b303",
   "metadata": {},
   "outputs": [
    {
     "name": "stdout",
     "output_type": "stream",
     "text": [
      "nb score accurate: 0.5986842105263158\n"
     ]
    }
   ],
   "source": [
    "from sklearn.naive_bayes import ComplementNB\n",
    "comp = ComplementNB()\n",
    "comp.fit(X,y)\n",
    "#gprobability= nb.predict_proba(X_test)\n",
    "cnb= comp.predict(X_test)\n",
    "print(\"nb score accurate:\",comp.score(X_test,y_test))\n"
   ]
  },
  {
   "cell_type": "code",
   "execution_count": 92,
   "id": "7eaafce7",
   "metadata": {},
   "outputs": [
    {
     "data": {
      "text/plain": [
       "<AxesSubplot:>"
      ]
     },
     "execution_count": 92,
     "metadata": {},
     "output_type": "execute_result"
    },
    {
     "data": {
      "image/png": "[encoded data removed]",
      "text/plain": [
       "<Figure size 640x480 with 2 Axes>"
      ]
     },
     "metadata": {},
     "output_type": "display_data"
    }
   ],
   "source": [
    "from sklearn.metrics import confusion_matrix\n",
    "sns.heatmap(confusion_matrix(y_test,cnb),annot=True)\n"
   ]
  },
  {
   "cell_type": "code",
   "execution_count": 93,
   "id": "6c09c7e1",
   "metadata": {},
   "outputs": [],
   "source": [
    "def plot_roc_curve(fpr,tpr):\n",
    "    plt.plot(fpr,tpr,color='orange',label='ROC')\n",
    "    plt.plot([0,1],[0,1],color='darkblue',linestyle='--')\n",
    "    plt.xlabel('False Positive Rate')\n",
    "    plt.ylabel('True Positive Rate')\n",
    "    plt.title('ROC Curve')\n",
    "    plt.legend()\n",
    "    plt.show()\n"
   ]
  },
  {
   "cell_type": "code",
   "execution_count": 94,
   "id": "e0d595df",
   "metadata": {},
   "outputs": [],
   "source": [
    "from sklearn.naive_bayes import ComplementNB\n",
    "probs= comp.predict_proba(X_test)\n",
    "probs = probs[:,1]"
   ]
  },
  {
   "cell_type": "code",
   "execution_count": 95,
   "id": "da0e78fc",
   "metadata": {},
   "outputs": [],
   "source": [
    "from sklearn.metrics import roc_curve\n",
    "fpr, tpr, thresholds = roc_curve(y_test,probs,pos_label=1)\n"
   ]
  },
  {
   "cell_type": "code",
   "execution_count": 96,
   "id": "f769da33",
   "metadata": {},
   "outputs": [
    {
     "data": {
      "image/png": "[encoded data removed]",
      "text/plain": [
       "<Figure size 640x480 with 1 Axes>"
      ]
     },
     "metadata": {},
     "output_type": "display_data"
    }
   ],
   "source": [
    "plot_roc_curve(fpr,tpr)\n"
   ]
  },
  {
   "cell_type": "code",
   "execution_count": 97,
   "id": "a9f569f6",
   "metadata": {},
   "outputs": [
    {
     "name": "stdout",
     "output_type": "stream",
     "text": [
      "tp fp tn fn\n",
      "39 45 52 16\n",
      "sensitivity = 0.7090909090909091\n",
      "specificity = 0.5360824742268041\n",
      "precision = 0.7647058823529411\n",
      "recall =  0.5360824742268041\n",
      "AUC: 0.614\n"
     ]
    }
   ],
   "source": [
    "cm = confusion_matrix(y_test, cnb)\n",
    "tp, fp, tn, fn = cm[0,0], cm[0,1], cm[1,1], cm[1,0]\n",
    "print('tp', 'fp', 'tn', 'fn')\n",
    "print(tp, fp, tn, fn)\n",
    "\n",
    "print('sensitivity =' ,(tp/(tp+fn)))\n",
    "print('specificity =' ,(tn / (tn+fp)))\n",
    "print('precision =' ,precision_score(cnb, y_test))\n",
    "print('recall = ', recall_score(cnb, y_test))\n",
    "auc = roc_auc_score(y_test, cnb)\n",
    "print('AUC: %.3f' % auc)"
   ]
  },
  {
   "cell_type": "code",
   "execution_count": 99,
   "id": "e5099514",
   "metadata": {},
   "outputs": [
    {
     "name": "stdout",
     "output_type": "stream",
     "text": [
      "nb score accurate: 0.5526315789473685\n"
     ]
    }
   ],
   "source": [
    "\n",
    "\n",
    "from sklearn.naive_bayes import BernoulliNB\n",
    "berny = BernoulliNB()\n",
    "berny.fit(X,y)\n",
    "#gprobability= nb.predict_proba(X_test)\n",
    "bnb= berny.predict(X_test)\n",
    "print(\"nb score accurate:\",berny.score(X_test,y_test))\n"
   ]
  },
  {
   "cell_type": "code",
   "execution_count": 100,
   "id": "549f3bcd",
   "metadata": {},
   "outputs": [
    {
     "data": {
      "text/plain": [
       "<AxesSubplot:>"
      ]
     },
     "execution_count": 100,
     "metadata": {},
     "output_type": "execute_result"
    },
    {
     "data": {
      "image/png": "[encoded data removed]",
      "text/plain": [
       "<Figure size 640x480 with 2 Axes>"
      ]
     },
     "metadata": {},
     "output_type": "display_data"
    }
   ],
   "source": [
    "from sklearn.metrics import confusion_matrix\n",
    "sns.heatmap(confusion_matrix(y_test,bnb),annot=True)\n"
   ]
  },
  {
   "cell_type": "code",
   "execution_count": 101,
   "id": "e7394c5f",
   "metadata": {},
   "outputs": [],
   "source": [
    "from sklearn.naive_bayes import BernoulliNB\n",
    "probs= berny.predict_proba(X_test)\n",
    "probs = probs[:,1]\n"
   ]
  },
  {
   "cell_type": "code",
   "execution_count": 102,
   "id": "11aec82e",
   "metadata": {},
   "outputs": [],
   "source": [
    "from sklearn.metrics import roc_curve\n",
    "fpr, tpr, thresholds = roc_curve(y_test,probs,pos_label=1)\n"
   ]
  },
  {
   "cell_type": "code",
   "execution_count": 103,
   "id": "96a05a0e",
   "metadata": {},
   "outputs": [
    {
     "data": {
      "image/png": "[encoded data removed]",
      "text/plain": [
       "<Figure size 640x480 with 1 Axes>"
      ]
     },
     "metadata": {},
     "output_type": "display_data"
    }
   ],
   "source": [
    "plot_roc_curve(fpr,tpr)\n"
   ]
  },
  {
   "cell_type": "code",
   "execution_count": 104,
   "id": "10cd5606",
   "metadata": {},
   "outputs": [
    {
     "name": "stdout",
     "output_type": "stream",
     "text": [
      "tp fp tn fn\n",
      "84 0 0 68\n",
      "sensitivity = 0.5526315789473685\n",
      "specificity = nan\n",
      "precision = 0.0\n",
      "recall =  0.0\n",
      "AUC: 0.500\n"
     ]
    },
    {
     "name": "stderr",
     "output_type": "stream",
     "text": [
      "/var/folders/n7/nr5ftxr949scbgb4k_r1nmhc0000gn/T/ipykernel_2350/3071251689.py:7: RuntimeWarning: invalid value encountered in long_scalars\n",
      "  print('specificity =' ,(tn / (tn+fp)))\n",
      "/Users/mac/opt/anaconda3/envs/F21DL/lib/python3.9/site-packages/sklearn/metrics/_classification.py:1327: UndefinedMetricWarning: Recall is ill-defined and being set to 0.0 due to no true samples. Use `zero_division` parameter to control this behavior.\n",
      "  _warn_prf(average, modifier, msg_start, len(result))\n"
     ]
    }
   ],
   "source": [
    "cm = confusion_matrix(y_test, bnb)\n",
    "tp, fp, tn, fn = cm[0,0], cm[0,1], cm[1,1], cm[1,0]\n",
    "print('tp', 'fp', 'tn', 'fn')\n",
    "print(tp, fp, tn, fn)\n",
    "\n",
    "print('sensitivity =' ,(tp/(tp+fn)))\n",
    "print('specificity =' ,(tn / (tn+fp)))\n",
    "print('precision =' ,precision_score(bnb, y_test))\n",
    "print('recall = ', recall_score(bnb, y_test))\n",
    "auc = roc_auc_score(y_test, bnb)\n",
    "print('AUC: %.3f' % auc)\n"
   ]
  },
  {
   "cell_type": "code",
   "execution_count": 105,
   "id": "6b2268ef",
   "metadata": {},
   "outputs": [
    {
     "name": "stdout",
     "output_type": "stream",
     "text": [
      "nb score accurate: 0.625\n"
     ]
    }
   ],
   "source": [
    "from sklearn.naive_bayes import CategoricalNB\n",
    "cate = CategoricalNB()\n",
    "cate.fit(X,y)\n",
    "#gprobability= nb.predict_proba(X_test)\n",
    "ccnb= cate.predict(X_test)\n",
    "print(\"nb score accurate:\",cate.score(X_test,y_test))\n"
   ]
  },
  {
   "cell_type": "code",
   "execution_count": 106,
   "id": "c6b0a5de",
   "metadata": {},
   "outputs": [
    {
     "data": {
      "text/plain": [
       "<AxesSubplot:>"
      ]
     },
     "execution_count": 106,
     "metadata": {},
     "output_type": "execute_result"
    },
    {
     "data": {
      "image/png": "[encoded data removed]",
      "text/plain": [
       "<Figure size 640x480 with 2 Axes>"
      ]
     },
     "metadata": {},
     "output_type": "display_data"
    }
   ],
   "source": [
    "from sklearn.metrics import confusion_matrix\n",
    "sns.heatmap(confusion_matrix(y_test,ccnb),annot=True)\n"
   ]
  },
  {
   "cell_type": "code",
   "execution_count": 107,
   "id": "c02947c4",
   "metadata": {},
   "outputs": [],
   "source": [
    "from sklearn.naive_bayes import CategoricalNB\n",
    "probs= cate.predict_proba(X_test)\n",
    "probs = probs[:,1]\n"
   ]
  },
  {
   "cell_type": "code",
   "execution_count": 108,
   "id": "2e9b3b73",
   "metadata": {},
   "outputs": [],
   "source": [
    "from sklearn.metrics import roc_curve\n",
    "fpr, tpr, thresholds = roc_curve(y_test,probs,pos_label=1)\n"
   ]
  },
  {
   "cell_type": "code",
   "execution_count": 109,
   "id": "406bf1a7",
   "metadata": {},
   "outputs": [
    {
     "data": {
      "image/png": "[encoded data removed]",
      "text/plain": [
       "<Figure size 640x480 with 1 Axes>"
      ]
     },
     "metadata": {},
     "output_type": "display_data"
    }
   ],
   "source": [
    "plot_roc_curve(fpr,tpr)\n"
   ]
  },
  {
   "cell_type": "code",
   "execution_count": 110,
   "id": "6aed26a4",
   "metadata": {},
   "outputs": [
    {
     "name": "stdout",
     "output_type": "stream",
     "text": [
      "tp fp tn fn\n",
      "43 41 52 16\n",
      "sensitivity = 0.7288135593220338\n",
      "specificity = 0.5591397849462365\n",
      "precision = 0.7647058823529411\n",
      "recall =  0.5591397849462365\n",
      "AUC: 0.638\n"
     ]
    }
   ],
   "source": [
    "cm = confusion_matrix(y_test, ccnb)\n",
    "tp, fp, tn, fn = cm[0,0], cm[0,1], cm[1,1], cm[1,0]\n",
    "print('tp', 'fp', 'tn', 'fn')\n",
    "print(tp, fp, tn, fn)\n",
    "\n",
    "print('sensitivity =' ,(tp/(tp+fn)))\n",
    "print('specificity =' ,(tn / (tn+fp)))\n",
    "print('precision =' ,precision_score(ccnb, y_test))\n",
    "print('recall = ', recall_score(ccnb, y_test))\n",
    "auc = roc_auc_score(y_test, ccnb)\n",
    "print('AUC: %.3f' % auc)\n"
   ]
  },
  {
   "cell_type": "code",
   "execution_count": 113,
   "id": "d4948b87",
   "metadata": {},
   "outputs": [],
   "source": [
    "def biningFunction(col,cut_points,labels=None):\n",
    "    minval = col.min()\n",
    "    maxval= col.max()\n",
    "    break_points=[minval]+ cut_points+ [maxval]\n",
    "    print(break_points)\n",
    "    if not labels:\n",
    "        labels=range(len(cut_points)+1)\n",
    "        colBin= pd.cut(col,bins=break_points,labels=labels,inclde_lowest=True)\n",
    "        return colBin"
   ]
  },
  {
   "cell_type": "code",
   "execution_count": 115,
   "id": "5cf9f8e2",
   "metadata": {
    "scrolled": true
   },
   "outputs": [
    {
     "name": "stdout",
     "output_type": "stream",
     "text": [
      "Keys of data set are Index(['work_year', 'experience_level', 'employment_type', 'job_title',\n",
      "       'salary', 'salary_currency', 'salary_in_usd', 'employee_residence',\n",
      "       'remote_ratio', 'company_location', 'company_size', 'Experience'],\n",
      "      dtype='object')\n"
     ]
    }
   ],
   "source": [
    "print(\"Keys of data set are\",DataScience.keys())\n",
    "\n"
   ]
  },
  {
   "cell_type": "code",
   "execution_count": 123,
   "id": "80780978",
   "metadata": {},
   "outputs": [],
   "source": [
    "\n",
    "\n",
    "import numpy as np\n",
    "import pandas as pd\n",
    "import matplotlib.pyplot as plt\n",
    "import sklearn\n",
    "from matplotlib.pyplot import figure\n",
    "import seaborn as sns\n",
    "from sklearn.preprocessing import label_binarize\n",
    "import sklearn\n",
    "from sklearn.model_selection import train_test_split\n",
    "from itertools import cycle\n",
    "from sklearn.ensemble import RandomForestClassifier\n",
    "from sklearn.neighbors import KNeighborsClassifier\n",
    "\n",
    "\n",
    "from sklearn.naive_bayes import MultinomialNB\n",
    "from sklearn.naive_bayes import GaussianNB\n",
    "from sklearn.naive_bayes import ComplementNB\n",
    "from sklearn.naive_bayes import BernoulliNB\n",
    "from sklearn.naive_bayes import CategoricalNB\n",
    "from sklearn import metrics\n",
    "from sklearn.metrics import accuracy_score\n",
    "from sklearn.metrics import confusion_matrix\n",
    "import seaborn as sns\n",
    "\n",
    "from sklearn.model_selection import cross_val_score\n",
    "from sklearn.metrics import classification_report\n",
    "from sklearn.metrics import roc_curve, auc\n",
    "from sklearn.metrics import roc_auc_score, precision_score, recall_score\n"
   ]
  },
  {
   "cell_type": "code",
   "execution_count": 125,
   "id": "ad44b712",
   "metadata": {},
   "outputs": [],
   "source": [
    "df=pd.read_csv('/Users/mac/Downloads/ds_salaries.csv')\n"
   ]
  },
  {
   "cell_type": "code",
   "execution_count": 126,
   "id": "e7523d07",
   "metadata": {},
   "outputs": [
    {
     "data": {
      "text/html": [
       "<div>\n",
       "<style scoped>\n",
       "    .dataframe tbody tr th:only-of-type {\n",
       "        vertical-align: middle;\n",
       "    }\n",
       "\n",
       "    .dataframe tbody tr th {\n",
       "        vertical-align: top;\n",
       "    }\n",
       "\n",
       "    .dataframe thead th {\n",
       "        text-align: right;\n",
       "    }\n",
       "</style>\n",
       "<table border=\"1\" class=\"dataframe\">\n",
       "  <thead>\n",
       "    <tr style=\"text-align: right;\">\n",
       "      <th></th>\n",
       "      <th>work_year</th>\n",
       "      <th>experience_level</th>\n",
       "      <th>employment_type</th>\n",
       "      <th>job_title</th>\n",
       "      <th>salary</th>\n",
       "      <th>salary_currency</th>\n",
       "      <th>salary_in_usd</th>\n",
       "      <th>employee_residence</th>\n",
       "      <th>remote_ratio</th>\n",
       "      <th>company_location</th>\n",
       "      <th>company_size</th>\n",
       "      <th>Location</th>\n",
       "    </tr>\n",
       "  </thead>\n",
       "  <tbody>\n",
       "    <tr>\n",
       "      <th>0</th>\n",
       "      <td>2020</td>\n",
       "      <td>MI</td>\n",
       "      <td>FT</td>\n",
       "      <td>Data Scientist</td>\n",
       "      <td>70000</td>\n",
       "      <td>EUR</td>\n",
       "      <td>79833</td>\n",
       "      <td>DE</td>\n",
       "      <td>0</td>\n",
       "      <td>DE</td>\n",
       "      <td>L</td>\n",
       "      <td>False</td>\n",
       "    </tr>\n",
       "    <tr>\n",
       "      <th>1</th>\n",
       "      <td>2020</td>\n",
       "      <td>SE</td>\n",
       "      <td>FT</td>\n",
       "      <td>Machine Learning Scientist</td>\n",
       "      <td>260000</td>\n",
       "      <td>USD</td>\n",
       "      <td>260000</td>\n",
       "      <td>JP</td>\n",
       "      <td>0</td>\n",
       "      <td>JP</td>\n",
       "      <td>S</td>\n",
       "      <td>False</td>\n",
       "    </tr>\n",
       "    <tr>\n",
       "      <th>2</th>\n",
       "      <td>2020</td>\n",
       "      <td>SE</td>\n",
       "      <td>FT</td>\n",
       "      <td>Big Data Engineer</td>\n",
       "      <td>85000</td>\n",
       "      <td>GBP</td>\n",
       "      <td>109024</td>\n",
       "      <td>GB</td>\n",
       "      <td>50</td>\n",
       "      <td>GB</td>\n",
       "      <td>M</td>\n",
       "      <td>False</td>\n",
       "    </tr>\n",
       "    <tr>\n",
       "      <th>3</th>\n",
       "      <td>2020</td>\n",
       "      <td>MI</td>\n",
       "      <td>FT</td>\n",
       "      <td>Product Data Analyst</td>\n",
       "      <td>20000</td>\n",
       "      <td>USD</td>\n",
       "      <td>20000</td>\n",
       "      <td>HN</td>\n",
       "      <td>0</td>\n",
       "      <td>HN</td>\n",
       "      <td>S</td>\n",
       "      <td>False</td>\n",
       "    </tr>\n",
       "    <tr>\n",
       "      <th>4</th>\n",
       "      <td>2020</td>\n",
       "      <td>SE</td>\n",
       "      <td>FT</td>\n",
       "      <td>Machine Learning Engineer</td>\n",
       "      <td>150000</td>\n",
       "      <td>USD</td>\n",
       "      <td>150000</td>\n",
       "      <td>US</td>\n",
       "      <td>50</td>\n",
       "      <td>US</td>\n",
       "      <td>L</td>\n",
       "      <td>True</td>\n",
       "    </tr>\n",
       "    <tr>\n",
       "      <th>...</th>\n",
       "      <td>...</td>\n",
       "      <td>...</td>\n",
       "      <td>...</td>\n",
       "      <td>...</td>\n",
       "      <td>...</td>\n",
       "      <td>...</td>\n",
       "      <td>...</td>\n",
       "      <td>...</td>\n",
       "      <td>...</td>\n",
       "      <td>...</td>\n",
       "      <td>...</td>\n",
       "      <td>...</td>\n",
       "    </tr>\n",
       "    <tr>\n",
       "      <th>602</th>\n",
       "      <td>2022</td>\n",
       "      <td>SE</td>\n",
       "      <td>FT</td>\n",
       "      <td>Data Engineer</td>\n",
       "      <td>154000</td>\n",
       "      <td>USD</td>\n",
       "      <td>154000</td>\n",
       "      <td>US</td>\n",
       "      <td>100</td>\n",
       "      <td>US</td>\n",
       "      <td>M</td>\n",
       "      <td>True</td>\n",
       "    </tr>\n",
       "    <tr>\n",
       "      <th>603</th>\n",
       "      <td>2022</td>\n",
       "      <td>SE</td>\n",
       "      <td>FT</td>\n",
       "      <td>Data Engineer</td>\n",
       "      <td>126000</td>\n",
       "      <td>USD</td>\n",
       "      <td>126000</td>\n",
       "      <td>US</td>\n",
       "      <td>100</td>\n",
       "      <td>US</td>\n",
       "      <td>M</td>\n",
       "      <td>True</td>\n",
       "    </tr>\n",
       "    <tr>\n",
       "      <th>604</th>\n",
       "      <td>2022</td>\n",
       "      <td>SE</td>\n",
       "      <td>FT</td>\n",
       "      <td>Data Analyst</td>\n",
       "      <td>129000</td>\n",
       "      <td>USD</td>\n",
       "      <td>129000</td>\n",
       "      <td>US</td>\n",
       "      <td>0</td>\n",
       "      <td>US</td>\n",
       "      <td>M</td>\n",
       "      <td>True</td>\n",
       "    </tr>\n",
       "    <tr>\n",
       "      <th>605</th>\n",
       "      <td>2022</td>\n",
       "      <td>SE</td>\n",
       "      <td>FT</td>\n",
       "      <td>Data Analyst</td>\n",
       "      <td>150000</td>\n",
       "      <td>USD</td>\n",
       "      <td>150000</td>\n",
       "      <td>US</td>\n",
       "      <td>100</td>\n",
       "      <td>US</td>\n",
       "      <td>M</td>\n",
       "      <td>True</td>\n",
       "    </tr>\n",
       "    <tr>\n",
       "      <th>606</th>\n",
       "      <td>2022</td>\n",
       "      <td>MI</td>\n",
       "      <td>FT</td>\n",
       "      <td>AI Scientist</td>\n",
       "      <td>200000</td>\n",
       "      <td>USD</td>\n",
       "      <td>200000</td>\n",
       "      <td>IN</td>\n",
       "      <td>100</td>\n",
       "      <td>US</td>\n",
       "      <td>L</td>\n",
       "      <td>True</td>\n",
       "    </tr>\n",
       "  </tbody>\n",
       "</table>\n",
       "<p>607 rows × 12 columns</p>\n",
       "</div>"
      ],
      "text/plain": [
       "     work_year experience_level employment_type                   job_title  \\\n",
       "0         2020               MI              FT              Data Scientist   \n",
       "1         2020               SE              FT  Machine Learning Scientist   \n",
       "2         2020               SE              FT           Big Data Engineer   \n",
       "3         2020               MI              FT        Product Data Analyst   \n",
       "4         2020               SE              FT   Machine Learning Engineer   \n",
       "..         ...              ...             ...                         ...   \n",
       "602       2022               SE              FT               Data Engineer   \n",
       "603       2022               SE              FT               Data Engineer   \n",
       "604       2022               SE              FT                Data Analyst   \n",
       "605       2022               SE              FT                Data Analyst   \n",
       "606       2022               MI              FT                AI Scientist   \n",
       "\n",
       "     salary salary_currency  salary_in_usd employee_residence  remote_ratio  \\\n",
       "0     70000             EUR          79833                 DE             0   \n",
       "1    260000             USD         260000                 JP             0   \n",
       "2     85000             GBP         109024                 GB            50   \n",
       "3     20000             USD          20000                 HN             0   \n",
       "4    150000             USD         150000                 US            50   \n",
       "..      ...             ...            ...                ...           ...   \n",
       "602  154000             USD         154000                 US           100   \n",
       "603  126000             USD         126000                 US           100   \n",
       "604  129000             USD         129000                 US             0   \n",
       "605  150000             USD         150000                 US           100   \n",
       "606  200000             USD         200000                 IN           100   \n",
       "\n",
       "    company_location company_size  Location  \n",
       "0                 DE            L     False  \n",
       "1                 JP            S     False  \n",
       "2                 GB            M     False  \n",
       "3                 HN            S     False  \n",
       "4                 US            L      True  \n",
       "..               ...          ...       ...  \n",
       "602               US            M      True  \n",
       "603               US            M      True  \n",
       "604               US            M      True  \n",
       "605               US            M      True  \n",
       "606               US            L      True  \n",
       "\n",
       "[607 rows x 12 columns]"
      ]
     },
     "execution_count": 126,
     "metadata": {},
     "output_type": "execute_result"
    }
   ],
   "source": [
    "Location_US= df[\"company_location\"]==\"US\"\n",
    "df[\"Location\"]=Location_US\n",
    "df.drop(['company_location'], axis=1)\n",
    "df.drop(columns=df.columns[0],axis=1,inplace=True)\n",
    "df\n"
   ]
  },
  {
   "cell_type": "code",
   "execution_count": 127,
   "id": "71fbb474",
   "metadata": {},
   "outputs": [],
   "source": [
    "from sklearn.preprocessing import LabelEncoder\n",
    "le = LabelEncoder()\n"
   ]
  },
  {
   "cell_type": "code",
   "execution_count": 128,
   "id": "2b69f064",
   "metadata": {},
   "outputs": [
    {
     "name": "stdout",
     "output_type": "stream",
     "text": [
      "<class 'pandas.core.frame.DataFrame'>\n",
      "RangeIndex: 607 entries, 0 to 606\n",
      "Data columns (total 12 columns):\n",
      " #   Column              Non-Null Count  Dtype\n",
      "---  ------              --------------  -----\n",
      " 0   work_year           607 non-null    int64\n",
      " 1   experience_level    607 non-null    int64\n",
      " 2   employment_type     607 non-null    int64\n",
      " 3   job_title           607 non-null    int64\n",
      " 4   salary              607 non-null    int64\n",
      " 5   salary_currency     607 non-null    int64\n",
      " 6   salary_in_usd       607 non-null    int64\n",
      " 7   employee_residence  607 non-null    int64\n",
      " 8   remote_ratio        607 non-null    int64\n",
      " 9   company_location    607 non-null    int64\n",
      " 10  company_size        607 non-null    int64\n",
      " 11  Location            607 non-null    int64\n",
      "dtypes: int64(12)\n",
      "memory usage: 57.0 KB\n"
     ]
    }
   ],
   "source": [
    "df['work_year']=le.fit_transform(df['work_year'])\n",
    "df['Location']=le.fit_transform(df['Location'])\n",
    "df['employee_residence']=le.fit_transform(df['employee_residence'])\n",
    "df['salary_currency']=le.fit_transform(df['salary_currency'])\n",
    "df['employment_type']=le.fit_transform(df['employment_type'])\n",
    "df['experience_level']=le.fit_transform(df['experience_level'])\n",
    "df['job_title']=le.fit_transform(df['job_title'])\n",
    "df['company_location']=le.fit_transform(df['company_location'])\n",
    "df['company_size']=le.fit_transform(df['company_size'])\n",
    "\n",
    "df.info()\n"
   ]
  },
  {
   "cell_type": "code",
   "execution_count": null,
   "id": "3114106e",
   "metadata": {},
   "outputs": [],
   "source": []
  },
  {
   "cell_type": "code",
   "execution_count": null,
   "id": "bc220a2a",
   "metadata": {},
   "outputs": [],
   "source": []
  }
 ],
 "metadata": {
  "kernelspec": {
   "display_name": "Python 3 (ipykernel)",
   "language": "python",
   "name": "python3"
  },
  "language_info": {
   "codemirror_mode": {
    "name": "ipython",
    "version": 3
   },
   "file_extension": ".py",
   "mimetype": "text/x-python",
   "name": "python",
   "nbconvert_exporter": "python",
   "pygments_lexer": "ipython3",
   "version": "3.9.13"
  }
 },
 "nbformat": 4,
 "nbformat_minor": 5
}
