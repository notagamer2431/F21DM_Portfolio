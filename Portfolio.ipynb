{
 "cells": [
  {
   "cell_type": "code",
   "execution_count": 1,
   "id": "ac16172d",
   "metadata": {},
   "outputs": [],
   "source": [
    "import numpy as np\n",
    "import pandas as pd\n",
    "import matplotlib.pyplot as plt\n",
    "import sklearn\n",
    "from matplotlib.pyplot import figure\n",
    "import seaborn as sns\n"
   ]
  },
  {
   "cell_type": "code",
   "execution_count": 2,
   "id": "fcebe2aa",
   "metadata": {},
   "outputs": [],
   "source": [
    "data=pd.read_csv('/Users/mac/Downloads/ds_salaries.csv')"
   ]
  },
  {
   "cell_type": "code",
   "execution_count": 3,
   "id": "de091e64",
   "metadata": {},
   "outputs": [
    {
     "data": {
      "text/html": [
       "<div>\n",
       "<style scoped>\n",
       "    .dataframe tbody tr th:only-of-type {\n",
       "        vertical-align: middle;\n",
       "    }\n",
       "\n",
       "    .dataframe tbody tr th {\n",
       "        vertical-align: top;\n",
       "    }\n",
       "\n",
       "    .dataframe thead th {\n",
       "        text-align: right;\n",
       "    }\n",
       "</style>\n",
       "<table border=\"1\" class=\"dataframe\">\n",
       "  <thead>\n",
       "    <tr style=\"text-align: right;\">\n",
       "      <th></th>\n",
       "      <th>Unnamed: 0</th>\n",
       "      <th>work_year</th>\n",
       "      <th>experience_level</th>\n",
       "      <th>employment_type</th>\n",
       "      <th>job_title</th>\n",
       "      <th>salary</th>\n",
       "      <th>salary_currency</th>\n",
       "      <th>salary_in_usd</th>\n",
       "      <th>employee_residence</th>\n",
       "      <th>remote_ratio</th>\n",
       "      <th>company_location</th>\n",
       "      <th>company_size</th>\n",
       "    </tr>\n",
       "  </thead>\n",
       "  <tbody>\n",
       "    <tr>\n",
       "      <th>0</th>\n",
       "      <td>0</td>\n",
       "      <td>2020</td>\n",
       "      <td>MI</td>\n",
       "      <td>FT</td>\n",
       "      <td>Data Scientist</td>\n",
       "      <td>70000</td>\n",
       "      <td>EUR</td>\n",
       "      <td>79833</td>\n",
       "      <td>DE</td>\n",
       "      <td>0</td>\n",
       "      <td>DE</td>\n",
       "      <td>L</td>\n",
       "    </tr>\n",
       "    <tr>\n",
       "      <th>1</th>\n",
       "      <td>1</td>\n",
       "      <td>2020</td>\n",
       "      <td>SE</td>\n",
       "      <td>FT</td>\n",
       "      <td>Machine Learning Scientist</td>\n",
       "      <td>260000</td>\n",
       "      <td>USD</td>\n",
       "      <td>260000</td>\n",
       "      <td>JP</td>\n",
       "      <td>0</td>\n",
       "      <td>JP</td>\n",
       "      <td>S</td>\n",
       "    </tr>\n",
       "    <tr>\n",
       "      <th>2</th>\n",
       "      <td>2</td>\n",
       "      <td>2020</td>\n",
       "      <td>SE</td>\n",
       "      <td>FT</td>\n",
       "      <td>Big Data Engineer</td>\n",
       "      <td>85000</td>\n",
       "      <td>GBP</td>\n",
       "      <td>109024</td>\n",
       "      <td>GB</td>\n",
       "      <td>50</td>\n",
       "      <td>GB</td>\n",
       "      <td>M</td>\n",
       "    </tr>\n",
       "    <tr>\n",
       "      <th>3</th>\n",
       "      <td>3</td>\n",
       "      <td>2020</td>\n",
       "      <td>MI</td>\n",
       "      <td>FT</td>\n",
       "      <td>Product Data Analyst</td>\n",
       "      <td>20000</td>\n",
       "      <td>USD</td>\n",
       "      <td>20000</td>\n",
       "      <td>HN</td>\n",
       "      <td>0</td>\n",
       "      <td>HN</td>\n",
       "      <td>S</td>\n",
       "    </tr>\n",
       "    <tr>\n",
       "      <th>4</th>\n",
       "      <td>4</td>\n",
       "      <td>2020</td>\n",
       "      <td>SE</td>\n",
       "      <td>FT</td>\n",
       "      <td>Machine Learning Engineer</td>\n",
       "      <td>150000</td>\n",
       "      <td>USD</td>\n",
       "      <td>150000</td>\n",
       "      <td>US</td>\n",
       "      <td>50</td>\n",
       "      <td>US</td>\n",
       "      <td>L</td>\n",
       "    </tr>\n",
       "  </tbody>\n",
       "</table>\n",
       "</div>"
      ],
      "text/plain": [
       "   Unnamed: 0  work_year experience_level employment_type  \\\n",
       "0           0       2020               MI              FT   \n",
       "1           1       2020               SE              FT   \n",
       "2           2       2020               SE              FT   \n",
       "3           3       2020               MI              FT   \n",
       "4           4       2020               SE              FT   \n",
       "\n",
       "                    job_title  salary salary_currency  salary_in_usd  \\\n",
       "0              Data Scientist   70000             EUR          79833   \n",
       "1  Machine Learning Scientist  260000             USD         260000   \n",
       "2           Big Data Engineer   85000             GBP         109024   \n",
       "3        Product Data Analyst   20000             USD          20000   \n",
       "4   Machine Learning Engineer  150000             USD         150000   \n",
       "\n",
       "  employee_residence  remote_ratio company_location company_size  \n",
       "0                 DE             0               DE            L  \n",
       "1                 JP             0               JP            S  \n",
       "2                 GB            50               GB            M  \n",
       "3                 HN             0               HN            S  \n",
       "4                 US            50               US            L  "
      ]
     },
     "execution_count": 3,
     "metadata": {},
     "output_type": "execute_result"
    }
   ],
   "source": [
    "data.head()\n"
   ]
  },
  {
   "cell_type": "code",
   "execution_count": 4,
   "id": "803f0fe9",
   "metadata": {},
   "outputs": [
    {
     "data": {
      "text/html": [
       "<div>\n",
       "<style scoped>\n",
       "    .dataframe tbody tr th:only-of-type {\n",
       "        vertical-align: middle;\n",
       "    }\n",
       "\n",
       "    .dataframe tbody tr th {\n",
       "        vertical-align: top;\n",
       "    }\n",
       "\n",
       "    .dataframe thead th {\n",
       "        text-align: right;\n",
       "    }\n",
       "</style>\n",
       "<table border=\"1\" class=\"dataframe\">\n",
       "  <thead>\n",
       "    <tr style=\"text-align: right;\">\n",
       "      <th></th>\n",
       "      <th>Unnamed: 0</th>\n",
       "      <th>work_year</th>\n",
       "      <th>experience_level</th>\n",
       "      <th>employment_type</th>\n",
       "      <th>job_title</th>\n",
       "      <th>salary</th>\n",
       "      <th>salary_currency</th>\n",
       "      <th>salary_in_usd</th>\n",
       "      <th>employee_residence</th>\n",
       "      <th>remote_ratio</th>\n",
       "      <th>company_location</th>\n",
       "      <th>company_size</th>\n",
       "      <th>Location</th>\n",
       "    </tr>\n",
       "  </thead>\n",
       "  <tbody>\n",
       "    <tr>\n",
       "      <th>0</th>\n",
       "      <td>0</td>\n",
       "      <td>2020</td>\n",
       "      <td>MI</td>\n",
       "      <td>FT</td>\n",
       "      <td>Data Scientist</td>\n",
       "      <td>70000</td>\n",
       "      <td>EUR</td>\n",
       "      <td>79833</td>\n",
       "      <td>DE</td>\n",
       "      <td>0</td>\n",
       "      <td>DE</td>\n",
       "      <td>L</td>\n",
       "      <td>False</td>\n",
       "    </tr>\n",
       "    <tr>\n",
       "      <th>1</th>\n",
       "      <td>1</td>\n",
       "      <td>2020</td>\n",
       "      <td>SE</td>\n",
       "      <td>FT</td>\n",
       "      <td>Machine Learning Scientist</td>\n",
       "      <td>260000</td>\n",
       "      <td>USD</td>\n",
       "      <td>260000</td>\n",
       "      <td>JP</td>\n",
       "      <td>0</td>\n",
       "      <td>JP</td>\n",
       "      <td>S</td>\n",
       "      <td>False</td>\n",
       "    </tr>\n",
       "    <tr>\n",
       "      <th>2</th>\n",
       "      <td>2</td>\n",
       "      <td>2020</td>\n",
       "      <td>SE</td>\n",
       "      <td>FT</td>\n",
       "      <td>Big Data Engineer</td>\n",
       "      <td>85000</td>\n",
       "      <td>GBP</td>\n",
       "      <td>109024</td>\n",
       "      <td>GB</td>\n",
       "      <td>50</td>\n",
       "      <td>GB</td>\n",
       "      <td>M</td>\n",
       "      <td>False</td>\n",
       "    </tr>\n",
       "    <tr>\n",
       "      <th>3</th>\n",
       "      <td>3</td>\n",
       "      <td>2020</td>\n",
       "      <td>MI</td>\n",
       "      <td>FT</td>\n",
       "      <td>Product Data Analyst</td>\n",
       "      <td>20000</td>\n",
       "      <td>USD</td>\n",
       "      <td>20000</td>\n",
       "      <td>HN</td>\n",
       "      <td>0</td>\n",
       "      <td>HN</td>\n",
       "      <td>S</td>\n",
       "      <td>False</td>\n",
       "    </tr>\n",
       "    <tr>\n",
       "      <th>4</th>\n",
       "      <td>4</td>\n",
       "      <td>2020</td>\n",
       "      <td>SE</td>\n",
       "      <td>FT</td>\n",
       "      <td>Machine Learning Engineer</td>\n",
       "      <td>150000</td>\n",
       "      <td>USD</td>\n",
       "      <td>150000</td>\n",
       "      <td>US</td>\n",
       "      <td>50</td>\n",
       "      <td>US</td>\n",
       "      <td>L</td>\n",
       "      <td>True</td>\n",
       "    </tr>\n",
       "    <tr>\n",
       "      <th>...</th>\n",
       "      <td>...</td>\n",
       "      <td>...</td>\n",
       "      <td>...</td>\n",
       "      <td>...</td>\n",
       "      <td>...</td>\n",
       "      <td>...</td>\n",
       "      <td>...</td>\n",
       "      <td>...</td>\n",
       "      <td>...</td>\n",
       "      <td>...</td>\n",
       "      <td>...</td>\n",
       "      <td>...</td>\n",
       "      <td>...</td>\n",
       "    </tr>\n",
       "    <tr>\n",
       "      <th>602</th>\n",
       "      <td>602</td>\n",
       "      <td>2022</td>\n",
       "      <td>SE</td>\n",
       "      <td>FT</td>\n",
       "      <td>Data Engineer</td>\n",
       "      <td>154000</td>\n",
       "      <td>USD</td>\n",
       "      <td>154000</td>\n",
       "      <td>US</td>\n",
       "      <td>100</td>\n",
       "      <td>US</td>\n",
       "      <td>M</td>\n",
       "      <td>True</td>\n",
       "    </tr>\n",
       "    <tr>\n",
       "      <th>603</th>\n",
       "      <td>603</td>\n",
       "      <td>2022</td>\n",
       "      <td>SE</td>\n",
       "      <td>FT</td>\n",
       "      <td>Data Engineer</td>\n",
       "      <td>126000</td>\n",
       "      <td>USD</td>\n",
       "      <td>126000</td>\n",
       "      <td>US</td>\n",
       "      <td>100</td>\n",
       "      <td>US</td>\n",
       "      <td>M</td>\n",
       "      <td>True</td>\n",
       "    </tr>\n",
       "    <tr>\n",
       "      <th>604</th>\n",
       "      <td>604</td>\n",
       "      <td>2022</td>\n",
       "      <td>SE</td>\n",
       "      <td>FT</td>\n",
       "      <td>Data Analyst</td>\n",
       "      <td>129000</td>\n",
       "      <td>USD</td>\n",
       "      <td>129000</td>\n",
       "      <td>US</td>\n",
       "      <td>0</td>\n",
       "      <td>US</td>\n",
       "      <td>M</td>\n",
       "      <td>True</td>\n",
       "    </tr>\n",
       "    <tr>\n",
       "      <th>605</th>\n",
       "      <td>605</td>\n",
       "      <td>2022</td>\n",
       "      <td>SE</td>\n",
       "      <td>FT</td>\n",
       "      <td>Data Analyst</td>\n",
       "      <td>150000</td>\n",
       "      <td>USD</td>\n",
       "      <td>150000</td>\n",
       "      <td>US</td>\n",
       "      <td>100</td>\n",
       "      <td>US</td>\n",
       "      <td>M</td>\n",
       "      <td>True</td>\n",
       "    </tr>\n",
       "    <tr>\n",
       "      <th>606</th>\n",
       "      <td>606</td>\n",
       "      <td>2022</td>\n",
       "      <td>MI</td>\n",
       "      <td>FT</td>\n",
       "      <td>AI Scientist</td>\n",
       "      <td>200000</td>\n",
       "      <td>USD</td>\n",
       "      <td>200000</td>\n",
       "      <td>IN</td>\n",
       "      <td>100</td>\n",
       "      <td>US</td>\n",
       "      <td>L</td>\n",
       "      <td>True</td>\n",
       "    </tr>\n",
       "  </tbody>\n",
       "</table>\n",
       "<p>607 rows × 13 columns</p>\n",
       "</div>"
      ],
      "text/plain": [
       "     Unnamed: 0  work_year experience_level employment_type  \\\n",
       "0             0       2020               MI              FT   \n",
       "1             1       2020               SE              FT   \n",
       "2             2       2020               SE              FT   \n",
       "3             3       2020               MI              FT   \n",
       "4             4       2020               SE              FT   \n",
       "..          ...        ...              ...             ...   \n",
       "602         602       2022               SE              FT   \n",
       "603         603       2022               SE              FT   \n",
       "604         604       2022               SE              FT   \n",
       "605         605       2022               SE              FT   \n",
       "606         606       2022               MI              FT   \n",
       "\n",
       "                      job_title  salary salary_currency  salary_in_usd  \\\n",
       "0                Data Scientist   70000             EUR          79833   \n",
       "1    Machine Learning Scientist  260000             USD         260000   \n",
       "2             Big Data Engineer   85000             GBP         109024   \n",
       "3          Product Data Analyst   20000             USD          20000   \n",
       "4     Machine Learning Engineer  150000             USD         150000   \n",
       "..                          ...     ...             ...            ...   \n",
       "602               Data Engineer  154000             USD         154000   \n",
       "603               Data Engineer  126000             USD         126000   \n",
       "604                Data Analyst  129000             USD         129000   \n",
       "605                Data Analyst  150000             USD         150000   \n",
       "606                AI Scientist  200000             USD         200000   \n",
       "\n",
       "    employee_residence  remote_ratio company_location company_size  Location  \n",
       "0                   DE             0               DE            L     False  \n",
       "1                   JP             0               JP            S     False  \n",
       "2                   GB            50               GB            M     False  \n",
       "3                   HN             0               HN            S     False  \n",
       "4                   US            50               US            L      True  \n",
       "..                 ...           ...              ...          ...       ...  \n",
       "602                 US           100               US            M      True  \n",
       "603                 US           100               US            M      True  \n",
       "604                 US             0               US            M      True  \n",
       "605                 US           100               US            M      True  \n",
       "606                 IN           100               US            L      True  \n",
       "\n",
       "[607 rows x 13 columns]"
      ]
     },
     "execution_count": 4,
     "metadata": {},
     "output_type": "execute_result"
    }
   ],
   "source": [
    "\n",
    "Location_US= data[\"company_location\"]==\"US\"\n",
    "data[\"Location\"]=Location_US\n",
    "data"
   ]
  },
  {
   "cell_type": "code",
   "execution_count": 5,
   "id": "1d7b01b4",
   "metadata": {},
   "outputs": [
    {
     "data": {
      "text/html": [
       "<div>\n",
       "<style scoped>\n",
       "    .dataframe tbody tr th:only-of-type {\n",
       "        vertical-align: middle;\n",
       "    }\n",
       "\n",
       "    .dataframe tbody tr th {\n",
       "        vertical-align: top;\n",
       "    }\n",
       "\n",
       "    .dataframe thead th {\n",
       "        text-align: right;\n",
       "    }\n",
       "</style>\n",
       "<table border=\"1\" class=\"dataframe\">\n",
       "  <thead>\n",
       "    <tr style=\"text-align: right;\">\n",
       "      <th></th>\n",
       "      <th>Unnamed: 0</th>\n",
       "      <th>work_year</th>\n",
       "      <th>salary</th>\n",
       "      <th>salary_in_usd</th>\n",
       "      <th>remote_ratio</th>\n",
       "      <th>Location</th>\n",
       "    </tr>\n",
       "  </thead>\n",
       "  <tbody>\n",
       "    <tr>\n",
       "      <th>Unnamed: 0</th>\n",
       "      <td>1.000000</td>\n",
       "      <td>0.886550</td>\n",
       "      <td>-0.096250</td>\n",
       "      <td>0.167025</td>\n",
       "      <td>0.095000</td>\n",
       "      <td>0.236216</td>\n",
       "    </tr>\n",
       "    <tr>\n",
       "      <th>work_year</th>\n",
       "      <td>0.886550</td>\n",
       "      <td>1.000000</td>\n",
       "      <td>-0.087577</td>\n",
       "      <td>0.170493</td>\n",
       "      <td>0.076314</td>\n",
       "      <td>0.252017</td>\n",
       "    </tr>\n",
       "    <tr>\n",
       "      <th>salary</th>\n",
       "      <td>-0.096250</td>\n",
       "      <td>-0.087577</td>\n",
       "      <td>1.000000</td>\n",
       "      <td>-0.083906</td>\n",
       "      <td>-0.014608</td>\n",
       "      <td>-0.104826</td>\n",
       "    </tr>\n",
       "    <tr>\n",
       "      <th>salary_in_usd</th>\n",
       "      <td>0.167025</td>\n",
       "      <td>0.170493</td>\n",
       "      <td>-0.083906</td>\n",
       "      <td>1.000000</td>\n",
       "      <td>0.132122</td>\n",
       "      <td>0.531643</td>\n",
       "    </tr>\n",
       "    <tr>\n",
       "      <th>remote_ratio</th>\n",
       "      <td>0.095000</td>\n",
       "      <td>0.076314</td>\n",
       "      <td>-0.014608</td>\n",
       "      <td>0.132122</td>\n",
       "      <td>1.000000</td>\n",
       "      <td>0.199119</td>\n",
       "    </tr>\n",
       "    <tr>\n",
       "      <th>Location</th>\n",
       "      <td>0.236216</td>\n",
       "      <td>0.252017</td>\n",
       "      <td>-0.104826</td>\n",
       "      <td>0.531643</td>\n",
       "      <td>0.199119</td>\n",
       "      <td>1.000000</td>\n",
       "    </tr>\n",
       "  </tbody>\n",
       "</table>\n",
       "</div>"
      ],
      "text/plain": [
       "               Unnamed: 0  work_year    salary  salary_in_usd  remote_ratio  \\\n",
       "Unnamed: 0       1.000000   0.886550 -0.096250       0.167025      0.095000   \n",
       "work_year        0.886550   1.000000 -0.087577       0.170493      0.076314   \n",
       "salary          -0.096250  -0.087577  1.000000      -0.083906     -0.014608   \n",
       "salary_in_usd    0.167025   0.170493 -0.083906       1.000000      0.132122   \n",
       "remote_ratio     0.095000   0.076314 -0.014608       0.132122      1.000000   \n",
       "Location         0.236216   0.252017 -0.104826       0.531643      0.199119   \n",
       "\n",
       "               Location  \n",
       "Unnamed: 0     0.236216  \n",
       "work_year      0.252017  \n",
       "salary        -0.104826  \n",
       "salary_in_usd  0.531643  \n",
       "remote_ratio   0.199119  \n",
       "Location       1.000000  "
      ]
     },
     "execution_count": 5,
     "metadata": {},
     "output_type": "execute_result"
    }
   ],
   "source": [
    "data.corr()  # prints the correlation coefficient between every pair of attributes\n"
   ]
  },
  {
   "cell_type": "code",
   "execution_count": 6,
   "id": "04c1a489",
   "metadata": {},
   "outputs": [],
   "source": [
    "from sklearn.preprocessing import LabelEncoder\n",
    "le = LabelEncoder()"
   ]
  },
  {
   "cell_type": "code",
   "execution_count": 7,
   "id": "53b2f4aa",
   "metadata": {},
   "outputs": [],
   "source": [
    "data['experience_level']=le.fit_transform(data['experience_level'])\n",
    "data['employment_type']=le.fit_transform(data['employment_type'])\n",
    "data['job_title']=le.fit_transform(data['job_title'])\n",
    "data['salary_currency']=le.fit_transform(data['salary_currency'])\n",
    "data['employee_residence']=le.fit_transform(data['employee_residence'])\n",
    "data['company_location']=le.fit_transform(data['company_location'])\n",
    "data['company_size']=le.fit_transform(data['company_size'])\n",
    "data['Location']=le.fit_transform(data['Location'])"
   ]
  },
  {
   "cell_type": "code",
   "execution_count": 8,
   "id": "90f5ddff",
   "metadata": {},
   "outputs": [
    {
     "data": {
      "text/html": [
       "<div>\n",
       "<style scoped>\n",
       "    .dataframe tbody tr th:only-of-type {\n",
       "        vertical-align: middle;\n",
       "    }\n",
       "\n",
       "    .dataframe tbody tr th {\n",
       "        vertical-align: top;\n",
       "    }\n",
       "\n",
       "    .dataframe thead th {\n",
       "        text-align: right;\n",
       "    }\n",
       "</style>\n",
       "<table border=\"1\" class=\"dataframe\">\n",
       "  <thead>\n",
       "    <tr style=\"text-align: right;\">\n",
       "      <th></th>\n",
       "      <th>Unnamed: 0</th>\n",
       "      <th>work_year</th>\n",
       "      <th>experience_level</th>\n",
       "      <th>employment_type</th>\n",
       "      <th>job_title</th>\n",
       "      <th>salary</th>\n",
       "      <th>salary_currency</th>\n",
       "      <th>salary_in_usd</th>\n",
       "      <th>employee_residence</th>\n",
       "      <th>remote_ratio</th>\n",
       "      <th>company_location</th>\n",
       "      <th>company_size</th>\n",
       "      <th>Location</th>\n",
       "    </tr>\n",
       "  </thead>\n",
       "  <tbody>\n",
       "    <tr>\n",
       "      <th>0</th>\n",
       "      <td>0</td>\n",
       "      <td>2020</td>\n",
       "      <td>2</td>\n",
       "      <td>2</td>\n",
       "      <td>22</td>\n",
       "      <td>70000</td>\n",
       "      <td>7</td>\n",
       "      <td>79833</td>\n",
       "      <td>14</td>\n",
       "      <td>0</td>\n",
       "      <td>12</td>\n",
       "      <td>0</td>\n",
       "      <td>0</td>\n",
       "    </tr>\n",
       "    <tr>\n",
       "      <th>1</th>\n",
       "      <td>1</td>\n",
       "      <td>2020</td>\n",
       "      <td>3</td>\n",
       "      <td>2</td>\n",
       "      <td>41</td>\n",
       "      <td>260000</td>\n",
       "      <td>16</td>\n",
       "      <td>260000</td>\n",
       "      <td>32</td>\n",
       "      <td>0</td>\n",
       "      <td>29</td>\n",
       "      <td>2</td>\n",
       "      <td>0</td>\n",
       "    </tr>\n",
       "    <tr>\n",
       "      <th>2</th>\n",
       "      <td>2</td>\n",
       "      <td>2020</td>\n",
       "      <td>3</td>\n",
       "      <td>2</td>\n",
       "      <td>7</td>\n",
       "      <td>85000</td>\n",
       "      <td>8</td>\n",
       "      <td>109024</td>\n",
       "      <td>20</td>\n",
       "      <td>50</td>\n",
       "      <td>18</td>\n",
       "      <td>1</td>\n",
       "      <td>0</td>\n",
       "    </tr>\n",
       "    <tr>\n",
       "      <th>3</th>\n",
       "      <td>3</td>\n",
       "      <td>2020</td>\n",
       "      <td>2</td>\n",
       "      <td>2</td>\n",
       "      <td>47</td>\n",
       "      <td>20000</td>\n",
       "      <td>16</td>\n",
       "      <td>20000</td>\n",
       "      <td>23</td>\n",
       "      <td>0</td>\n",
       "      <td>20</td>\n",
       "      <td>2</td>\n",
       "      <td>0</td>\n",
       "    </tr>\n",
       "    <tr>\n",
       "      <th>4</th>\n",
       "      <td>4</td>\n",
       "      <td>2020</td>\n",
       "      <td>3</td>\n",
       "      <td>2</td>\n",
       "      <td>38</td>\n",
       "      <td>150000</td>\n",
       "      <td>16</td>\n",
       "      <td>150000</td>\n",
       "      <td>55</td>\n",
       "      <td>50</td>\n",
       "      <td>48</td>\n",
       "      <td>0</td>\n",
       "      <td>1</td>\n",
       "    </tr>\n",
       "  </tbody>\n",
       "</table>\n",
       "</div>"
      ],
      "text/plain": [
       "   Unnamed: 0  work_year  experience_level  employment_type  job_title  \\\n",
       "0           0       2020                 2                2         22   \n",
       "1           1       2020                 3                2         41   \n",
       "2           2       2020                 3                2          7   \n",
       "3           3       2020                 2                2         47   \n",
       "4           4       2020                 3                2         38   \n",
       "\n",
       "   salary  salary_currency  salary_in_usd  employee_residence  remote_ratio  \\\n",
       "0   70000                7          79833                  14             0   \n",
       "1  260000               16         260000                  32             0   \n",
       "2   85000                8         109024                  20            50   \n",
       "3   20000               16          20000                  23             0   \n",
       "4  150000               16         150000                  55            50   \n",
       "\n",
       "   company_location  company_size  Location  \n",
       "0                12             0         0  \n",
       "1                29             2         0  \n",
       "2                18             1         0  \n",
       "3                20             2         0  \n",
       "4                48             0         1  "
      ]
     },
     "execution_count": 8,
     "metadata": {},
     "output_type": "execute_result"
    }
   ],
   "source": [
    "data.head()"
   ]
  },
  {
   "cell_type": "code",
   "execution_count": 9,
   "id": "a5b6509c",
   "metadata": {},
   "outputs": [
    {
     "data": {
      "text/html": [
       "<div>\n",
       "<style scoped>\n",
       "    .dataframe tbody tr th:only-of-type {\n",
       "        vertical-align: middle;\n",
       "    }\n",
       "\n",
       "    .dataframe tbody tr th {\n",
       "        vertical-align: top;\n",
       "    }\n",
       "\n",
       "    .dataframe thead th {\n",
       "        text-align: right;\n",
       "    }\n",
       "</style>\n",
       "<table border=\"1\" class=\"dataframe\">\n",
       "  <thead>\n",
       "    <tr style=\"text-align: right;\">\n",
       "      <th></th>\n",
       "      <th>work_year</th>\n",
       "      <th>experience_level</th>\n",
       "      <th>employment_type</th>\n",
       "      <th>job_title</th>\n",
       "      <th>salary</th>\n",
       "      <th>salary_currency</th>\n",
       "      <th>salary_in_usd</th>\n",
       "      <th>employee_residence</th>\n",
       "      <th>remote_ratio</th>\n",
       "      <th>company_location</th>\n",
       "      <th>company_size</th>\n",
       "      <th>Location</th>\n",
       "    </tr>\n",
       "  </thead>\n",
       "  <tbody>\n",
       "    <tr>\n",
       "      <th>0</th>\n",
       "      <td>2020</td>\n",
       "      <td>2</td>\n",
       "      <td>2</td>\n",
       "      <td>22</td>\n",
       "      <td>70000</td>\n",
       "      <td>7</td>\n",
       "      <td>79833</td>\n",
       "      <td>14</td>\n",
       "      <td>0</td>\n",
       "      <td>12</td>\n",
       "      <td>0</td>\n",
       "      <td>0</td>\n",
       "    </tr>\n",
       "    <tr>\n",
       "      <th>1</th>\n",
       "      <td>2020</td>\n",
       "      <td>3</td>\n",
       "      <td>2</td>\n",
       "      <td>41</td>\n",
       "      <td>260000</td>\n",
       "      <td>16</td>\n",
       "      <td>260000</td>\n",
       "      <td>32</td>\n",
       "      <td>0</td>\n",
       "      <td>29</td>\n",
       "      <td>2</td>\n",
       "      <td>0</td>\n",
       "    </tr>\n",
       "    <tr>\n",
       "      <th>2</th>\n",
       "      <td>2020</td>\n",
       "      <td>3</td>\n",
       "      <td>2</td>\n",
       "      <td>7</td>\n",
       "      <td>85000</td>\n",
       "      <td>8</td>\n",
       "      <td>109024</td>\n",
       "      <td>20</td>\n",
       "      <td>50</td>\n",
       "      <td>18</td>\n",
       "      <td>1</td>\n",
       "      <td>0</td>\n",
       "    </tr>\n",
       "    <tr>\n",
       "      <th>3</th>\n",
       "      <td>2020</td>\n",
       "      <td>2</td>\n",
       "      <td>2</td>\n",
       "      <td>47</td>\n",
       "      <td>20000</td>\n",
       "      <td>16</td>\n",
       "      <td>20000</td>\n",
       "      <td>23</td>\n",
       "      <td>0</td>\n",
       "      <td>20</td>\n",
       "      <td>2</td>\n",
       "      <td>0</td>\n",
       "    </tr>\n",
       "    <tr>\n",
       "      <th>4</th>\n",
       "      <td>2020</td>\n",
       "      <td>3</td>\n",
       "      <td>2</td>\n",
       "      <td>38</td>\n",
       "      <td>150000</td>\n",
       "      <td>16</td>\n",
       "      <td>150000</td>\n",
       "      <td>55</td>\n",
       "      <td>50</td>\n",
       "      <td>48</td>\n",
       "      <td>0</td>\n",
       "      <td>1</td>\n",
       "    </tr>\n",
       "  </tbody>\n",
       "</table>\n",
       "</div>"
      ],
      "text/plain": [
       "   work_year  experience_level  employment_type  job_title  salary  \\\n",
       "0       2020                 2                2         22   70000   \n",
       "1       2020                 3                2         41  260000   \n",
       "2       2020                 3                2          7   85000   \n",
       "3       2020                 2                2         47   20000   \n",
       "4       2020                 3                2         38  150000   \n",
       "\n",
       "   salary_currency  salary_in_usd  employee_residence  remote_ratio  \\\n",
       "0                7          79833                  14             0   \n",
       "1               16         260000                  32             0   \n",
       "2                8         109024                  20            50   \n",
       "3               16          20000                  23             0   \n",
       "4               16         150000                  55            50   \n",
       "\n",
       "   company_location  company_size  Location  \n",
       "0                12             0         0  \n",
       "1                29             2         0  \n",
       "2                18             1         0  \n",
       "3                20             2         0  \n",
       "4                48             0         1  "
      ]
     },
     "execution_count": 9,
     "metadata": {},
     "output_type": "execute_result"
    }
   ],
   "source": [
    "data.drop(columns=data.columns[0],axis=1,inplace=True)\n",
    "data.head()"
   ]
  },
  {
   "cell_type": "code",
   "execution_count": 10,
   "id": "7ae4c3d4",
   "metadata": {},
   "outputs": [
    {
     "data": {
      "text/html": [
       "<div>\n",
       "<style scoped>\n",
       "    .dataframe tbody tr th:only-of-type {\n",
       "        vertical-align: middle;\n",
       "    }\n",
       "\n",
       "    .dataframe tbody tr th {\n",
       "        vertical-align: top;\n",
       "    }\n",
       "\n",
       "    .dataframe thead th {\n",
       "        text-align: right;\n",
       "    }\n",
       "</style>\n",
       "<table border=\"1\" class=\"dataframe\">\n",
       "  <thead>\n",
       "    <tr style=\"text-align: right;\">\n",
       "      <th></th>\n",
       "      <th>work_year</th>\n",
       "      <th>experience_level</th>\n",
       "      <th>employment_type</th>\n",
       "      <th>job_title</th>\n",
       "      <th>salary</th>\n",
       "      <th>salary_currency</th>\n",
       "      <th>salary_in_usd</th>\n",
       "      <th>employee_residence</th>\n",
       "      <th>remote_ratio</th>\n",
       "      <th>company_location</th>\n",
       "      <th>company_size</th>\n",
       "      <th>Location</th>\n",
       "    </tr>\n",
       "  </thead>\n",
       "  <tbody>\n",
       "    <tr>\n",
       "      <th>work_year</th>\n",
       "      <td>1.000000</td>\n",
       "      <td>0.300632</td>\n",
       "      <td>0.016323</td>\n",
       "      <td>-0.162560</td>\n",
       "      <td>-0.087577</td>\n",
       "      <td>0.202420</td>\n",
       "      <td>0.170493</td>\n",
       "      <td>0.193552</td>\n",
       "      <td>0.076314</td>\n",
       "      <td>0.181515</td>\n",
       "      <td>0.078764</td>\n",
       "      <td>0.252017</td>\n",
       "    </tr>\n",
       "    <tr>\n",
       "      <th>experience_level</th>\n",
       "      <td>0.300632</td>\n",
       "      <td>1.000000</td>\n",
       "      <td>-0.043715</td>\n",
       "      <td>0.020192</td>\n",
       "      <td>-0.023811</td>\n",
       "      <td>0.199998</td>\n",
       "      <td>0.315312</td>\n",
       "      <td>0.226543</td>\n",
       "      <td>0.053628</td>\n",
       "      <td>0.247133</td>\n",
       "      <td>-0.066423</td>\n",
       "      <td>0.305415</td>\n",
       "    </tr>\n",
       "    <tr>\n",
       "      <th>employment_type</th>\n",
       "      <td>0.016323</td>\n",
       "      <td>-0.043715</td>\n",
       "      <td>1.000000</td>\n",
       "      <td>-0.101823</td>\n",
       "      <td>0.000536</td>\n",
       "      <td>-0.087365</td>\n",
       "      <td>-0.123545</td>\n",
       "      <td>-0.109979</td>\n",
       "      <td>-0.045592</td>\n",
       "      <td>-0.083661</td>\n",
       "      <td>0.034549</td>\n",
       "      <td>-0.094129</td>\n",
       "    </tr>\n",
       "    <tr>\n",
       "      <th>job_title</th>\n",
       "      <td>-0.162560</td>\n",
       "      <td>0.020192</td>\n",
       "      <td>-0.101823</td>\n",
       "      <td>1.000000</td>\n",
       "      <td>0.027710</td>\n",
       "      <td>-0.149591</td>\n",
       "      <td>0.131016</td>\n",
       "      <td>-0.119135</td>\n",
       "      <td>-0.058589</td>\n",
       "      <td>-0.147379</td>\n",
       "      <td>-0.031011</td>\n",
       "      <td>-0.167988</td>\n",
       "    </tr>\n",
       "    <tr>\n",
       "      <th>salary</th>\n",
       "      <td>-0.087577</td>\n",
       "      <td>-0.023811</td>\n",
       "      <td>0.000536</td>\n",
       "      <td>0.027710</td>\n",
       "      <td>1.000000</td>\n",
       "      <td>-0.120725</td>\n",
       "      <td>-0.083906</td>\n",
       "      <td>-0.105638</td>\n",
       "      <td>-0.014608</td>\n",
       "      <td>-0.082894</td>\n",
       "      <td>-0.079959</td>\n",
       "      <td>-0.104826</td>\n",
       "    </tr>\n",
       "    <tr>\n",
       "      <th>salary_currency</th>\n",
       "      <td>0.202420</td>\n",
       "      <td>0.199998</td>\n",
       "      <td>-0.087365</td>\n",
       "      <td>-0.149591</td>\n",
       "      <td>-0.120725</td>\n",
       "      <td>1.000000</td>\n",
       "      <td>0.420550</td>\n",
       "      <td>0.758730</td>\n",
       "      <td>0.149746</td>\n",
       "      <td>0.787084</td>\n",
       "      <td>0.038849</td>\n",
       "      <td>0.762364</td>\n",
       "    </tr>\n",
       "    <tr>\n",
       "      <th>salary_in_usd</th>\n",
       "      <td>0.170493</td>\n",
       "      <td>0.315312</td>\n",
       "      <td>-0.123545</td>\n",
       "      <td>0.131016</td>\n",
       "      <td>-0.083906</td>\n",
       "      <td>0.420550</td>\n",
       "      <td>1.000000</td>\n",
       "      <td>0.452501</td>\n",
       "      <td>0.132122</td>\n",
       "      <td>0.428994</td>\n",
       "      <td>-0.151205</td>\n",
       "      <td>0.531643</td>\n",
       "    </tr>\n",
       "    <tr>\n",
       "      <th>employee_residence</th>\n",
       "      <td>0.193552</td>\n",
       "      <td>0.226543</td>\n",
       "      <td>-0.109979</td>\n",
       "      <td>-0.119135</td>\n",
       "      <td>-0.105638</td>\n",
       "      <td>0.758730</td>\n",
       "      <td>0.452501</td>\n",
       "      <td>1.000000</td>\n",
       "      <td>0.157299</td>\n",
       "      <td>0.897704</td>\n",
       "      <td>-0.081742</td>\n",
       "      <td>0.823085</td>\n",
       "    </tr>\n",
       "    <tr>\n",
       "      <th>remote_ratio</th>\n",
       "      <td>0.076314</td>\n",
       "      <td>0.053628</td>\n",
       "      <td>-0.045592</td>\n",
       "      <td>-0.058589</td>\n",
       "      <td>-0.014608</td>\n",
       "      <td>0.149746</td>\n",
       "      <td>0.132122</td>\n",
       "      <td>0.157299</td>\n",
       "      <td>1.000000</td>\n",
       "      <td>0.169083</td>\n",
       "      <td>0.022070</td>\n",
       "      <td>0.199119</td>\n",
       "    </tr>\n",
       "    <tr>\n",
       "      <th>company_location</th>\n",
       "      <td>0.181515</td>\n",
       "      <td>0.247133</td>\n",
       "      <td>-0.083661</td>\n",
       "      <td>-0.147379</td>\n",
       "      <td>-0.082894</td>\n",
       "      <td>0.787084</td>\n",
       "      <td>0.428994</td>\n",
       "      <td>0.897704</td>\n",
       "      <td>0.169083</td>\n",
       "      <td>1.000000</td>\n",
       "      <td>-0.066554</td>\n",
       "      <td>0.897439</td>\n",
       "    </tr>\n",
       "    <tr>\n",
       "      <th>company_size</th>\n",
       "      <td>0.078764</td>\n",
       "      <td>-0.066423</td>\n",
       "      <td>0.034549</td>\n",
       "      <td>-0.031011</td>\n",
       "      <td>-0.079959</td>\n",
       "      <td>0.038849</td>\n",
       "      <td>-0.151205</td>\n",
       "      <td>-0.081742</td>\n",
       "      <td>0.022070</td>\n",
       "      <td>-0.066554</td>\n",
       "      <td>1.000000</td>\n",
       "      <td>-0.039615</td>\n",
       "    </tr>\n",
       "    <tr>\n",
       "      <th>Location</th>\n",
       "      <td>0.252017</td>\n",
       "      <td>0.305415</td>\n",
       "      <td>-0.094129</td>\n",
       "      <td>-0.167988</td>\n",
       "      <td>-0.104826</td>\n",
       "      <td>0.762364</td>\n",
       "      <td>0.531643</td>\n",
       "      <td>0.823085</td>\n",
       "      <td>0.199119</td>\n",
       "      <td>0.897439</td>\n",
       "      <td>-0.039615</td>\n",
       "      <td>1.000000</td>\n",
       "    </tr>\n",
       "  </tbody>\n",
       "</table>\n",
       "</div>"
      ],
      "text/plain": [
       "                    work_year  experience_level  employment_type  job_title  \\\n",
       "work_year            1.000000          0.300632         0.016323  -0.162560   \n",
       "experience_level     0.300632          1.000000        -0.043715   0.020192   \n",
       "employment_type      0.016323         -0.043715         1.000000  -0.101823   \n",
       "job_title           -0.162560          0.020192        -0.101823   1.000000   \n",
       "salary              -0.087577         -0.023811         0.000536   0.027710   \n",
       "salary_currency      0.202420          0.199998        -0.087365  -0.149591   \n",
       "salary_in_usd        0.170493          0.315312        -0.123545   0.131016   \n",
       "employee_residence   0.193552          0.226543        -0.109979  -0.119135   \n",
       "remote_ratio         0.076314          0.053628        -0.045592  -0.058589   \n",
       "company_location     0.181515          0.247133        -0.083661  -0.147379   \n",
       "company_size         0.078764         -0.066423         0.034549  -0.031011   \n",
       "Location             0.252017          0.305415        -0.094129  -0.167988   \n",
       "\n",
       "                      salary  salary_currency  salary_in_usd  \\\n",
       "work_year          -0.087577         0.202420       0.170493   \n",
       "experience_level   -0.023811         0.199998       0.315312   \n",
       "employment_type     0.000536        -0.087365      -0.123545   \n",
       "job_title           0.027710        -0.149591       0.131016   \n",
       "salary              1.000000        -0.120725      -0.083906   \n",
       "salary_currency    -0.120725         1.000000       0.420550   \n",
       "salary_in_usd      -0.083906         0.420550       1.000000   \n",
       "employee_residence -0.105638         0.758730       0.452501   \n",
       "remote_ratio       -0.014608         0.149746       0.132122   \n",
       "company_location   -0.082894         0.787084       0.428994   \n",
       "company_size       -0.079959         0.038849      -0.151205   \n",
       "Location           -0.104826         0.762364       0.531643   \n",
       "\n",
       "                    employee_residence  remote_ratio  company_location  \\\n",
       "work_year                     0.193552      0.076314          0.181515   \n",
       "experience_level              0.226543      0.053628          0.247133   \n",
       "employment_type              -0.109979     -0.045592         -0.083661   \n",
       "job_title                    -0.119135     -0.058589         -0.147379   \n",
       "salary                       -0.105638     -0.014608         -0.082894   \n",
       "salary_currency               0.758730      0.149746          0.787084   \n",
       "salary_in_usd                 0.452501      0.132122          0.428994   \n",
       "employee_residence            1.000000      0.157299          0.897704   \n",
       "remote_ratio                  0.157299      1.000000          0.169083   \n",
       "company_location              0.897704      0.169083          1.000000   \n",
       "company_size                 -0.081742      0.022070         -0.066554   \n",
       "Location                      0.823085      0.199119          0.897439   \n",
       "\n",
       "                    company_size  Location  \n",
       "work_year               0.078764  0.252017  \n",
       "experience_level       -0.066423  0.305415  \n",
       "employment_type         0.034549 -0.094129  \n",
       "job_title              -0.031011 -0.167988  \n",
       "salary                 -0.079959 -0.104826  \n",
       "salary_currency         0.038849  0.762364  \n",
       "salary_in_usd          -0.151205  0.531643  \n",
       "employee_residence     -0.081742  0.823085  \n",
       "remote_ratio            0.022070  0.199119  \n",
       "company_location       -0.066554  0.897439  \n",
       "company_size            1.000000 -0.039615  \n",
       "Location               -0.039615  1.000000  "
      ]
     },
     "execution_count": 10,
     "metadata": {},
     "output_type": "execute_result"
    }
   ],
   "source": [
    "corr_matrix=data.corr()  # prints the correlation coefficient between every pair of attributes\n",
    "corr_matrix"
   ]
  },
  {
   "cell_type": "code",
   "execution_count": 11,
   "id": "e580039b",
   "metadata": {},
   "outputs": [
    {
     "data": {
      "text/html": [
       "<div>\n",
       "<style scoped>\n",
       "    .dataframe tbody tr th:only-of-type {\n",
       "        vertical-align: middle;\n",
       "    }\n",
       "\n",
       "    .dataframe tbody tr th {\n",
       "        vertical-align: top;\n",
       "    }\n",
       "\n",
       "    .dataframe thead th {\n",
       "        text-align: right;\n",
       "    }\n",
       "</style>\n",
       "<table border=\"1\" class=\"dataframe\">\n",
       "  <thead>\n",
       "    <tr style=\"text-align: right;\">\n",
       "      <th></th>\n",
       "      <th>work_year</th>\n",
       "      <th>experience_level</th>\n",
       "      <th>employment_type</th>\n",
       "      <th>job_title</th>\n",
       "      <th>salary</th>\n",
       "      <th>salary_currency</th>\n",
       "      <th>salary_in_usd</th>\n",
       "      <th>employee_residence</th>\n",
       "      <th>remote_ratio</th>\n",
       "      <th>company_location</th>\n",
       "      <th>company_size</th>\n",
       "      <th>Location</th>\n",
       "    </tr>\n",
       "  </thead>\n",
       "  <tbody>\n",
       "    <tr>\n",
       "      <th>work_year</th>\n",
       "      <td>1.000000</td>\n",
       "      <td>0.300632</td>\n",
       "      <td>0.016323</td>\n",
       "      <td>-0.162560</td>\n",
       "      <td>-0.087577</td>\n",
       "      <td>0.202420</td>\n",
       "      <td>0.170493</td>\n",
       "      <td>0.193552</td>\n",
       "      <td>0.076314</td>\n",
       "      <td>0.181515</td>\n",
       "      <td>0.078764</td>\n",
       "      <td>0.252017</td>\n",
       "    </tr>\n",
       "    <tr>\n",
       "      <th>experience_level</th>\n",
       "      <td>0.300632</td>\n",
       "      <td>1.000000</td>\n",
       "      <td>-0.043715</td>\n",
       "      <td>0.020192</td>\n",
       "      <td>-0.023811</td>\n",
       "      <td>0.199998</td>\n",
       "      <td>0.315312</td>\n",
       "      <td>0.226543</td>\n",
       "      <td>0.053628</td>\n",
       "      <td>0.247133</td>\n",
       "      <td>-0.066423</td>\n",
       "      <td>0.305415</td>\n",
       "    </tr>\n",
       "    <tr>\n",
       "      <th>employment_type</th>\n",
       "      <td>0.016323</td>\n",
       "      <td>-0.043715</td>\n",
       "      <td>1.000000</td>\n",
       "      <td>-0.101823</td>\n",
       "      <td>0.000536</td>\n",
       "      <td>-0.087365</td>\n",
       "      <td>-0.123545</td>\n",
       "      <td>-0.109979</td>\n",
       "      <td>-0.045592</td>\n",
       "      <td>-0.083661</td>\n",
       "      <td>0.034549</td>\n",
       "      <td>-0.094129</td>\n",
       "    </tr>\n",
       "    <tr>\n",
       "      <th>job_title</th>\n",
       "      <td>-0.162560</td>\n",
       "      <td>0.020192</td>\n",
       "      <td>-0.101823</td>\n",
       "      <td>1.000000</td>\n",
       "      <td>0.027710</td>\n",
       "      <td>-0.149591</td>\n",
       "      <td>0.131016</td>\n",
       "      <td>-0.119135</td>\n",
       "      <td>-0.058589</td>\n",
       "      <td>-0.147379</td>\n",
       "      <td>-0.031011</td>\n",
       "      <td>-0.167988</td>\n",
       "    </tr>\n",
       "    <tr>\n",
       "      <th>salary</th>\n",
       "      <td>-0.087577</td>\n",
       "      <td>-0.023811</td>\n",
       "      <td>0.000536</td>\n",
       "      <td>0.027710</td>\n",
       "      <td>1.000000</td>\n",
       "      <td>-0.120725</td>\n",
       "      <td>-0.083906</td>\n",
       "      <td>-0.105638</td>\n",
       "      <td>-0.014608</td>\n",
       "      <td>-0.082894</td>\n",
       "      <td>-0.079959</td>\n",
       "      <td>-0.104826</td>\n",
       "    </tr>\n",
       "    <tr>\n",
       "      <th>salary_currency</th>\n",
       "      <td>0.202420</td>\n",
       "      <td>0.199998</td>\n",
       "      <td>-0.087365</td>\n",
       "      <td>-0.149591</td>\n",
       "      <td>-0.120725</td>\n",
       "      <td>1.000000</td>\n",
       "      <td>0.420550</td>\n",
       "      <td>0.758730</td>\n",
       "      <td>0.149746</td>\n",
       "      <td>0.787084</td>\n",
       "      <td>0.038849</td>\n",
       "      <td>0.762364</td>\n",
       "    </tr>\n",
       "    <tr>\n",
       "      <th>salary_in_usd</th>\n",
       "      <td>0.170493</td>\n",
       "      <td>0.315312</td>\n",
       "      <td>-0.123545</td>\n",
       "      <td>0.131016</td>\n",
       "      <td>-0.083906</td>\n",
       "      <td>0.420550</td>\n",
       "      <td>1.000000</td>\n",
       "      <td>0.452501</td>\n",
       "      <td>0.132122</td>\n",
       "      <td>0.428994</td>\n",
       "      <td>-0.151205</td>\n",
       "      <td>0.531643</td>\n",
       "    </tr>\n",
       "    <tr>\n",
       "      <th>employee_residence</th>\n",
       "      <td>0.193552</td>\n",
       "      <td>0.226543</td>\n",
       "      <td>-0.109979</td>\n",
       "      <td>-0.119135</td>\n",
       "      <td>-0.105638</td>\n",
       "      <td>0.758730</td>\n",
       "      <td>0.452501</td>\n",
       "      <td>1.000000</td>\n",
       "      <td>0.157299</td>\n",
       "      <td>0.897704</td>\n",
       "      <td>-0.081742</td>\n",
       "      <td>0.823085</td>\n",
       "    </tr>\n",
       "    <tr>\n",
       "      <th>remote_ratio</th>\n",
       "      <td>0.076314</td>\n",
       "      <td>0.053628</td>\n",
       "      <td>-0.045592</td>\n",
       "      <td>-0.058589</td>\n",
       "      <td>-0.014608</td>\n",
       "      <td>0.149746</td>\n",
       "      <td>0.132122</td>\n",
       "      <td>0.157299</td>\n",
       "      <td>1.000000</td>\n",
       "      <td>0.169083</td>\n",
       "      <td>0.022070</td>\n",
       "      <td>0.199119</td>\n",
       "    </tr>\n",
       "    <tr>\n",
       "      <th>company_location</th>\n",
       "      <td>0.181515</td>\n",
       "      <td>0.247133</td>\n",
       "      <td>-0.083661</td>\n",
       "      <td>-0.147379</td>\n",
       "      <td>-0.082894</td>\n",
       "      <td>0.787084</td>\n",
       "      <td>0.428994</td>\n",
       "      <td>0.897704</td>\n",
       "      <td>0.169083</td>\n",
       "      <td>1.000000</td>\n",
       "      <td>-0.066554</td>\n",
       "      <td>0.897439</td>\n",
       "    </tr>\n",
       "    <tr>\n",
       "      <th>company_size</th>\n",
       "      <td>0.078764</td>\n",
       "      <td>-0.066423</td>\n",
       "      <td>0.034549</td>\n",
       "      <td>-0.031011</td>\n",
       "      <td>-0.079959</td>\n",
       "      <td>0.038849</td>\n",
       "      <td>-0.151205</td>\n",
       "      <td>-0.081742</td>\n",
       "      <td>0.022070</td>\n",
       "      <td>-0.066554</td>\n",
       "      <td>1.000000</td>\n",
       "      <td>-0.039615</td>\n",
       "    </tr>\n",
       "    <tr>\n",
       "      <th>Location</th>\n",
       "      <td>0.252017</td>\n",
       "      <td>0.305415</td>\n",
       "      <td>-0.094129</td>\n",
       "      <td>-0.167988</td>\n",
       "      <td>-0.104826</td>\n",
       "      <td>0.762364</td>\n",
       "      <td>0.531643</td>\n",
       "      <td>0.823085</td>\n",
       "      <td>0.199119</td>\n",
       "      <td>0.897439</td>\n",
       "      <td>-0.039615</td>\n",
       "      <td>1.000000</td>\n",
       "    </tr>\n",
       "  </tbody>\n",
       "</table>\n",
       "</div>"
      ],
      "text/plain": [
       "                    work_year  experience_level  employment_type  job_title  \\\n",
       "work_year            1.000000          0.300632         0.016323  -0.162560   \n",
       "experience_level     0.300632          1.000000        -0.043715   0.020192   \n",
       "employment_type      0.016323         -0.043715         1.000000  -0.101823   \n",
       "job_title           -0.162560          0.020192        -0.101823   1.000000   \n",
       "salary              -0.087577         -0.023811         0.000536   0.027710   \n",
       "salary_currency      0.202420          0.199998        -0.087365  -0.149591   \n",
       "salary_in_usd        0.170493          0.315312        -0.123545   0.131016   \n",
       "employee_residence   0.193552          0.226543        -0.109979  -0.119135   \n",
       "remote_ratio         0.076314          0.053628        -0.045592  -0.058589   \n",
       "company_location     0.181515          0.247133        -0.083661  -0.147379   \n",
       "company_size         0.078764         -0.066423         0.034549  -0.031011   \n",
       "Location             0.252017          0.305415        -0.094129  -0.167988   \n",
       "\n",
       "                      salary  salary_currency  salary_in_usd  \\\n",
       "work_year          -0.087577         0.202420       0.170493   \n",
       "experience_level   -0.023811         0.199998       0.315312   \n",
       "employment_type     0.000536        -0.087365      -0.123545   \n",
       "job_title           0.027710        -0.149591       0.131016   \n",
       "salary              1.000000        -0.120725      -0.083906   \n",
       "salary_currency    -0.120725         1.000000       0.420550   \n",
       "salary_in_usd      -0.083906         0.420550       1.000000   \n",
       "employee_residence -0.105638         0.758730       0.452501   \n",
       "remote_ratio       -0.014608         0.149746       0.132122   \n",
       "company_location   -0.082894         0.787084       0.428994   \n",
       "company_size       -0.079959         0.038849      -0.151205   \n",
       "Location           -0.104826         0.762364       0.531643   \n",
       "\n",
       "                    employee_residence  remote_ratio  company_location  \\\n",
       "work_year                     0.193552      0.076314          0.181515   \n",
       "experience_level              0.226543      0.053628          0.247133   \n",
       "employment_type              -0.109979     -0.045592         -0.083661   \n",
       "job_title                    -0.119135     -0.058589         -0.147379   \n",
       "salary                       -0.105638     -0.014608         -0.082894   \n",
       "salary_currency               0.758730      0.149746          0.787084   \n",
       "salary_in_usd                 0.452501      0.132122          0.428994   \n",
       "employee_residence            1.000000      0.157299          0.897704   \n",
       "remote_ratio                  0.157299      1.000000          0.169083   \n",
       "company_location              0.897704      0.169083          1.000000   \n",
       "company_size                 -0.081742      0.022070         -0.066554   \n",
       "Location                      0.823085      0.199119          0.897439   \n",
       "\n",
       "                    company_size  Location  \n",
       "work_year               0.078764  0.252017  \n",
       "experience_level       -0.066423  0.305415  \n",
       "employment_type         0.034549 -0.094129  \n",
       "job_title              -0.031011 -0.167988  \n",
       "salary                 -0.079959 -0.104826  \n",
       "salary_currency         0.038849  0.762364  \n",
       "salary_in_usd          -0.151205  0.531643  \n",
       "employee_residence     -0.081742  0.823085  \n",
       "remote_ratio            0.022070  0.199119  \n",
       "company_location       -0.066554  0.897439  \n",
       "company_size            1.000000 -0.039615  \n",
       "Location               -0.039615  1.000000  "
      ]
     },
     "execution_count": 11,
     "metadata": {},
     "output_type": "execute_result"
    }
   ],
   "source": [
    "corr_matrix=data.corr()  # prints the correlation coefficient between every pair of attributes\n",
    "corr_matrix"
   ]
  },
  {
   "cell_type": "code",
   "execution_count": 12,
   "id": "e4fd228a",
   "metadata": {},
   "outputs": [],
   "source": [
    "\n",
    "dataset1=data[[\"employee_residence\",\"salary_currency\",\"salary_in_usd\",\"experience_level\", \"remote_ratio\",\"company_size\",\"salary\",\"employment_type\", \"job_title\"  ]]\n",
    "dataset2=data[[\"employee_residence\",\"salary_currency\",\"salary_in_usd\",\"experience_level\", \"remote_ratio\"]]\n",
    "dataset3=data[[\"employee_residence\",\"salary_currency\",\"salary_in_usd\"]]"
   ]
  },
  {
   "cell_type": "code",
   "execution_count": 13,
   "id": "dd692e5a",
   "metadata": {},
   "outputs": [
    {
     "data": {
      "text/plain": [
       "job_title             1.000000\n",
       "salary_in_usd         0.131016\n",
       "salary                0.027710\n",
       "experience_level      0.020192\n",
       "company_size         -0.031011\n",
       "remote_ratio         -0.058589\n",
       "employment_type      -0.101823\n",
       "employee_residence   -0.119135\n",
       "company_location     -0.147379\n",
       "salary_currency      -0.149591\n",
       "work_year            -0.162560\n",
       "Location             -0.167988\n",
       "Name: job_title, dtype: float64"
      ]
     },
     "execution_count": 13,
     "metadata": {},
     "output_type": "execute_result"
    }
   ],
   "source": [
    "corr_matrix['job_title'].sort_values(ascending=False)\n"
   ]
  },
  {
   "cell_type": "code",
   "execution_count": 14,
   "id": "f4f53a09",
   "metadata": {},
   "outputs": [
    {
     "data": {
      "text/plain": [
       "employment_type       1.000000\n",
       "company_size          0.034549\n",
       "work_year             0.016323\n",
       "salary                0.000536\n",
       "experience_level     -0.043715\n",
       "remote_ratio         -0.045592\n",
       "company_location     -0.083661\n",
       "salary_currency      -0.087365\n",
       "Location             -0.094129\n",
       "job_title            -0.101823\n",
       "employee_residence   -0.109979\n",
       "salary_in_usd        -0.123545\n",
       "Name: employment_type, dtype: float64"
      ]
     },
     "execution_count": 14,
     "metadata": {},
     "output_type": "execute_result"
    }
   ],
   "source": [
    "corr_matrix['employment_type'].sort_values(ascending=False)\n"
   ]
  },
  {
   "cell_type": "code",
   "execution_count": 15,
   "id": "afc23c25",
   "metadata": {},
   "outputs": [
    {
     "data": {
      "text/html": [
       "<div>\n",
       "<style scoped>\n",
       "    .dataframe tbody tr th:only-of-type {\n",
       "        vertical-align: middle;\n",
       "    }\n",
       "\n",
       "    .dataframe tbody tr th {\n",
       "        vertical-align: top;\n",
       "    }\n",
       "\n",
       "    .dataframe thead th {\n",
       "        text-align: right;\n",
       "    }\n",
       "</style>\n",
       "<table border=\"1\" class=\"dataframe\">\n",
       "  <thead>\n",
       "    <tr style=\"text-align: right;\">\n",
       "      <th></th>\n",
       "      <th>work_year</th>\n",
       "      <th>experience_level</th>\n",
       "      <th>employment_type</th>\n",
       "      <th>job_title</th>\n",
       "      <th>salary</th>\n",
       "      <th>salary_currency</th>\n",
       "      <th>salary_in_usd</th>\n",
       "      <th>employee_residence</th>\n",
       "      <th>remote_ratio</th>\n",
       "      <th>company_location</th>\n",
       "      <th>company_size</th>\n",
       "      <th>Location</th>\n",
       "    </tr>\n",
       "  </thead>\n",
       "  <tbody>\n",
       "    <tr>\n",
       "      <th>0</th>\n",
       "      <td>2020</td>\n",
       "      <td>2</td>\n",
       "      <td>2</td>\n",
       "      <td>22</td>\n",
       "      <td>70000</td>\n",
       "      <td>7</td>\n",
       "      <td>79833</td>\n",
       "      <td>14</td>\n",
       "      <td>0</td>\n",
       "      <td>12</td>\n",
       "      <td>0</td>\n",
       "      <td>0</td>\n",
       "    </tr>\n",
       "    <tr>\n",
       "      <th>1</th>\n",
       "      <td>2020</td>\n",
       "      <td>3</td>\n",
       "      <td>2</td>\n",
       "      <td>41</td>\n",
       "      <td>260000</td>\n",
       "      <td>16</td>\n",
       "      <td>260000</td>\n",
       "      <td>32</td>\n",
       "      <td>0</td>\n",
       "      <td>29</td>\n",
       "      <td>2</td>\n",
       "      <td>0</td>\n",
       "    </tr>\n",
       "    <tr>\n",
       "      <th>2</th>\n",
       "      <td>2020</td>\n",
       "      <td>3</td>\n",
       "      <td>2</td>\n",
       "      <td>7</td>\n",
       "      <td>85000</td>\n",
       "      <td>8</td>\n",
       "      <td>109024</td>\n",
       "      <td>20</td>\n",
       "      <td>50</td>\n",
       "      <td>18</td>\n",
       "      <td>1</td>\n",
       "      <td>0</td>\n",
       "    </tr>\n",
       "    <tr>\n",
       "      <th>3</th>\n",
       "      <td>2020</td>\n",
       "      <td>2</td>\n",
       "      <td>2</td>\n",
       "      <td>47</td>\n",
       "      <td>20000</td>\n",
       "      <td>16</td>\n",
       "      <td>20000</td>\n",
       "      <td>23</td>\n",
       "      <td>0</td>\n",
       "      <td>20</td>\n",
       "      <td>2</td>\n",
       "      <td>0</td>\n",
       "    </tr>\n",
       "    <tr>\n",
       "      <th>4</th>\n",
       "      <td>2020</td>\n",
       "      <td>3</td>\n",
       "      <td>2</td>\n",
       "      <td>38</td>\n",
       "      <td>150000</td>\n",
       "      <td>16</td>\n",
       "      <td>150000</td>\n",
       "      <td>55</td>\n",
       "      <td>50</td>\n",
       "      <td>48</td>\n",
       "      <td>0</td>\n",
       "      <td>1</td>\n",
       "    </tr>\n",
       "  </tbody>\n",
       "</table>\n",
       "</div>"
      ],
      "text/plain": [
       "   work_year  experience_level  employment_type  job_title  salary  \\\n",
       "0       2020                 2                2         22   70000   \n",
       "1       2020                 3                2         41  260000   \n",
       "2       2020                 3                2          7   85000   \n",
       "3       2020                 2                2         47   20000   \n",
       "4       2020                 3                2         38  150000   \n",
       "\n",
       "   salary_currency  salary_in_usd  employee_residence  remote_ratio  \\\n",
       "0                7          79833                  14             0   \n",
       "1               16         260000                  32             0   \n",
       "2                8         109024                  20            50   \n",
       "3               16          20000                  23             0   \n",
       "4               16         150000                  55            50   \n",
       "\n",
       "   company_location  company_size  Location  \n",
       "0                12             0         0  \n",
       "1                29             2         0  \n",
       "2                18             1         0  \n",
       "3                20             2         0  \n",
       "4                48             0         1  "
      ]
     },
     "execution_count": 15,
     "metadata": {},
     "output_type": "execute_result"
    }
   ],
   "source": [
    "data.head()"
   ]
  },
  {
   "cell_type": "code",
   "execution_count": 16,
   "id": "5306627c",
   "metadata": {},
   "outputs": [],
   "source": [
    "\n",
    "import pandas as pd\n",
    "import matplotlib.pyplot as plt\n",
    "import seaborn as sns\n",
    "import warnings\n",
    "warnings.filterwarnings(\"ignore\")\n",
    "from PIL import Image "
   ]
  },
  {
   "cell_type": "code",
   "execution_count": 17,
   "id": "e1708bbf",
   "metadata": {},
   "outputs": [
    {
     "data": {
      "text/plain": [
       "607"
      ]
     },
     "execution_count": 17,
     "metadata": {},
     "output_type": "execute_result"
    }
   ],
   "source": [
    "dataset = data['salary']\n",
    "len(dataset)"
   ]
  },
  {
   "cell_type": "code",
   "execution_count": 18,
   "id": "15fb1bed",
   "metadata": {},
   "outputs": [
    {
     "data": {
      "text/plain": [
       "0"
      ]
     },
     "execution_count": 18,
     "metadata": {},
     "output_type": "execute_result"
    }
   ],
   "source": [
    "dataset.isnull().sum()\n"
   ]
  },
  {
   "cell_type": "code",
   "execution_count": 19,
   "id": "a4b4ba55",
   "metadata": {},
   "outputs": [
    {
     "data": {
      "text/plain": [
       "(array([[607.,   0.,   0.,   0.,   0.,   0.,   0.,   0.,   0.,   0.,   0.,\n",
       "           0.,   0.,   0.,   0.,   0.,   0.,   0.,   0.,   0.,   0.,   0.,\n",
       "           0.,   0.,   0.,   0.,   0.,   0.,   0.,   0.,   0.,   0.,   0.,\n",
       "           0.,   0.,   0.,   0.,   0.,   0.,   0.,   0.,   0.,   0.,   0.,\n",
       "           0.,   0.,   0.,   0.,   0.,   0.],\n",
       "        [607.,   0.,   0.,   0.,   0.,   0.,   0.,   0.,   0.,   0.,   0.,\n",
       "           0.,   0.,   0.,   0.,   0.,   0.,   0.,   0.,   0.,   0.,   0.,\n",
       "           0.,   0.,   0.,   0.,   0.,   0.,   0.,   0.,   0.,   0.,   0.,\n",
       "           0.,   0.,   0.,   0.,   0.,   0.,   0.,   0.,   0.,   0.,   0.,\n",
       "           0.,   0.,   0.,   0.,   0.,   0.],\n",
       "        [607.,   0.,   0.,   0.,   0.,   0.,   0.,   0.,   0.,   0.,   0.,\n",
       "           0.,   0.,   0.,   0.,   0.,   0.,   0.,   0.,   0.,   0.,   0.,\n",
       "           0.,   0.,   0.,   0.,   0.,   0.,   0.,   0.,   0.,   0.,   0.,\n",
       "           0.,   0.,   0.,   0.,   0.,   0.,   0.,   0.,   0.,   0.,   0.,\n",
       "           0.,   0.,   0.,   0.,   0.,   0.],\n",
       "        [607.,   0.,   0.,   0.,   0.,   0.,   0.,   0.,   0.,   0.,   0.,\n",
       "           0.,   0.,   0.,   0.,   0.,   0.,   0.,   0.,   0.,   0.,   0.,\n",
       "           0.,   0.,   0.,   0.,   0.,   0.,   0.,   0.,   0.,   0.,   0.,\n",
       "           0.,   0.,   0.,   0.,   0.,   0.,   0.,   0.,   0.,   0.,   0.,\n",
       "           0.,   0.,   0.,   0.,   0.,   0.],\n",
       "        [579.,   3.,   8.,   4.,   3.,   0.,   1.,   1.,   1.,   1.,   0.,\n",
       "           2.,   0.,   1.,   0.,   0.,   0.,   0.,   2.,   0.,   0.,   0.,\n",
       "           0.,   0.,   0.,   0.,   0.,   0.,   0.,   0.,   0.,   0.,   0.,\n",
       "           0.,   0.,   0.,   0.,   0.,   0.,   0.,   0.,   0.,   0.,   0.,\n",
       "           0.,   0.,   0.,   0.,   0.,   1.],\n",
       "        [607.,   0.,   0.,   0.,   0.,   0.,   0.,   0.,   0.,   0.,   0.,\n",
       "           0.,   0.,   0.,   0.,   0.,   0.,   0.,   0.,   0.,   0.,   0.,\n",
       "           0.,   0.,   0.,   0.,   0.,   0.,   0.,   0.,   0.,   0.,   0.,\n",
       "           0.,   0.,   0.,   0.,   0.,   0.,   0.,   0.,   0.,   0.,   0.,\n",
       "           0.,   0.,   0.,   0.,   0.,   0.],\n",
       "        [607.,   0.,   0.,   0.,   0.,   0.,   0.,   0.,   0.,   0.,   0.,\n",
       "           0.,   0.,   0.,   0.,   0.,   0.,   0.,   0.,   0.,   0.,   0.,\n",
       "           0.,   0.,   0.,   0.,   0.,   0.,   0.,   0.,   0.,   0.,   0.,\n",
       "           0.,   0.,   0.,   0.,   0.,   0.,   0.,   0.,   0.,   0.,   0.,\n",
       "           0.,   0.,   0.,   0.,   0.,   0.],\n",
       "        [607.,   0.,   0.,   0.,   0.,   0.,   0.,   0.,   0.,   0.,   0.,\n",
       "           0.,   0.,   0.,   0.,   0.,   0.,   0.,   0.,   0.,   0.,   0.,\n",
       "           0.,   0.,   0.,   0.,   0.,   0.,   0.,   0.,   0.,   0.,   0.,\n",
       "           0.,   0.,   0.,   0.,   0.,   0.,   0.,   0.,   0.,   0.,   0.,\n",
       "           0.,   0.,   0.,   0.,   0.,   0.],\n",
       "        [607.,   0.,   0.,   0.,   0.,   0.,   0.,   0.,   0.,   0.,   0.,\n",
       "           0.,   0.,   0.,   0.,   0.,   0.,   0.,   0.,   0.,   0.,   0.,\n",
       "           0.,   0.,   0.,   0.,   0.,   0.,   0.,   0.,   0.,   0.,   0.,\n",
       "           0.,   0.,   0.,   0.,   0.,   0.,   0.,   0.,   0.,   0.,   0.,\n",
       "           0.,   0.,   0.,   0.,   0.,   0.],\n",
       "        [607.,   0.,   0.,   0.,   0.,   0.,   0.,   0.,   0.,   0.,   0.,\n",
       "           0.,   0.,   0.,   0.,   0.,   0.,   0.,   0.,   0.,   0.,   0.,\n",
       "           0.,   0.,   0.,   0.,   0.,   0.,   0.,   0.,   0.,   0.,   0.,\n",
       "           0.,   0.,   0.,   0.,   0.,   0.,   0.,   0.,   0.,   0.,   0.,\n",
       "           0.,   0.,   0.,   0.,   0.,   0.],\n",
       "        [607.,   0.,   0.,   0.,   0.,   0.,   0.,   0.,   0.,   0.,   0.,\n",
       "           0.,   0.,   0.,   0.,   0.,   0.,   0.,   0.,   0.,   0.,   0.,\n",
       "           0.,   0.,   0.,   0.,   0.,   0.,   0.,   0.,   0.,   0.,   0.,\n",
       "           0.,   0.,   0.,   0.,   0.,   0.,   0.,   0.,   0.,   0.,   0.,\n",
       "           0.,   0.,   0.,   0.,   0.,   0.],\n",
       "        [607.,   0.,   0.,   0.,   0.,   0.,   0.,   0.,   0.,   0.,   0.,\n",
       "           0.,   0.,   0.,   0.,   0.,   0.,   0.,   0.,   0.,   0.,   0.,\n",
       "           0.,   0.,   0.,   0.,   0.,   0.,   0.,   0.,   0.,   0.,   0.,\n",
       "           0.,   0.,   0.,   0.,   0.,   0.,   0.,   0.,   0.,   0.,   0.,\n",
       "           0.,   0.,   0.,   0.,   0.,   0.]]),\n",
       " array([       0.,   608000.,  1216000.,  1824000.,  2432000.,  3040000.,\n",
       "         3648000.,  4256000.,  4864000.,  5472000.,  6080000.,  6688000.,\n",
       "         7296000.,  7904000.,  8512000.,  9120000.,  9728000., 10336000.,\n",
       "        10944000., 11552000., 12160000., 12768000., 13376000., 13984000.,\n",
       "        14592000., 15200000., 15808000., 16416000., 17024000., 17632000.,\n",
       "        18240000., 18848000., 19456000., 20064000., 20672000., 21280000.,\n",
       "        21888000., 22496000., 23104000., 23712000., 24320000., 24928000.,\n",
       "        25536000., 26144000., 26752000., 27360000., 27968000., 28576000.,\n",
       "        29184000., 29792000., 30400000.]),\n",
       " <a list of 12 BarContainer objects>)"
      ]
     },
     "execution_count": 19,
     "metadata": {},
     "output_type": "execute_result"
    },
    {
     "data": {
      "image/png": "[encoded data removed]",
      "text/plain": [
       "<Figure size 640x480 with 1 Axes>"
      ]
     },
     "metadata": {},
     "output_type": "display_data"
    }
   ],
   "source": [
    "plt.hist(data, bins=50)\n"
   ]
  },
  {
   "cell_type": "code",
   "execution_count": 20,
   "id": "a3ca36ce",
   "metadata": {},
   "outputs": [
    {
     "data": {
      "text/plain": [
       "<AxesSubplot:xlabel='salary', ylabel='Density'>"
      ]
     },
     "execution_count": 20,
     "metadata": {},
     "output_type": "execute_result"
    },
    {
     "data": {
      "image/png": "[encoded data removed]",
      "text/plain": [
       "<Figure size 640x480 with 1 Axes>"
      ]
     },
     "metadata": {},
     "output_type": "display_data"
    }
   ],
   "source": [
    "sns.distplot(dataset)"
   ]
  },
  {
   "cell_type": "code",
   "execution_count": 21,
   "id": "29cbb22a",
   "metadata": {},
   "outputs": [
    {
     "data": {
      "text/plain": [
       "<AxesSubplot:ylabel='Density'>"
      ]
     },
     "execution_count": 21,
     "metadata": {},
     "output_type": "execute_result"
    },
    {
     "data": {
      "image/png": "[encoded data removed]",
      "text/plain": [
       "<Figure size 640x480 with 1 Axes>"
      ]
     },
     "metadata": {},
     "output_type": "display_data"
    }
   ],
   "source": [
    "sns.distplot(data, hist=False) # adding an argument to plot only frequency polygon\n"
   ]
  },
  {
   "cell_type": "code",
   "execution_count": 22,
   "id": "c0b7f044",
   "metadata": {},
   "outputs": [
    {
     "data": {
      "text/plain": [
       "<AxesSubplot:xlabel='salary'>"
      ]
     },
     "execution_count": 22,
     "metadata": {},
     "output_type": "execute_result"
    },
    {
     "data": {
      "image/png": "[encoded data removed]",
      "text/plain": [
       "<Figure size 640x480 with 1 Axes>"
      ]
     },
     "metadata": {},
     "output_type": "display_data"
    }
   ],
   "source": [
    "sns.violinplot(dataset)"
   ]
  },
  {
   "cell_type": "code",
   "execution_count": 23,
   "id": "8fd406c3",
   "metadata": {},
   "outputs": [
    {
     "data": {
      "text/plain": [
       "<matplotlib.lines.Line2D at 0x7f7ab0b330d0>"
      ]
     },
     "execution_count": 23,
     "metadata": {},
     "output_type": "execute_result"
    },
    {
     "data": {
      "image/png": "[encoded data removed]",
      "text/plain": [
       "<Figure size 2000x1000 with 1 Axes>"
      ]
     },
     "metadata": {},
     "output_type": "display_data"
    }
   ],
   "source": [
    "plt.figure(figsize=(20,10)) # makes the plot wider\n",
    "plt.hist(dataset, color='g') # plots a simple histogram\n",
    "plt.axvline(dataset.mean(), color='m', linewidth=1)\n",
    "plt.axvline(dataset.median(), color='b', linestyle='dashed', linewidth=1)\n",
    "plt.axvline(dataset.mode()[0], color='w', linestyle='dashed', linewidth=1)"
   ]
  },
  {
   "cell_type": "code",
   "execution_count": 24,
   "id": "bfca4895",
   "metadata": {},
   "outputs": [],
   "source": [
    "# If we notice univariate analysis does not properly work with less dataset\n",
    "\n",
    "# # Spliting Data\n",
    "# \n",
    "\n",
    "\n",
    "\n",
    "import sklearn\n",
    "from sklearn.model_selection import train_test_split\n",
    "y=data['Location']\n",
    "#X = data1[data1.columns.difference(['company_location'])]\n",
    "X=data[['employee_residence']] #'salary_currency'\n",
    "X_train,X_test,y_train,y_test= train_test_split(X,y,test_size=0.25,random_state=42)"
   ]
  },
  {
   "cell_type": "code",
   "execution_count": 25,
   "id": "743d163b",
   "metadata": {},
   "outputs": [
    {
     "name": "stdout",
     "output_type": "stream",
     "text": [
      "[1 1 1 1 0 1 0 0 0 0 0 1 1 0 0 1 0 1 0 1 0 0 1 1 0 0 1 1 1 0 0 1 0 0 0 1 1\n",
      " 0 0 0 1 1 0 0 1 0 0 1 0 1 1 0 1 1 1 1 1 0 1 0 1 0 0 1 1 1 0 0 0 0 0 0 1 1\n",
      " 0 1 0 0 1 0 1 1 1 0 1 0 1 1 1 0 0 0 1 1 1 0 0 0 0 1 0 0 1 1 1 1 1 1 1 0 0\n",
      " 1 1 1 0 0 1 1 1 1 1 1 0 0 1 1 1 0 1 1 1 0 1 1 1 1 1 0 0 1 1 0 1 1 1 0 0 1\n",
      " 0 1 0 0]\n"
     ]
    }
   ],
   "source": [
    "# KNN Classifier\n",
    "\n",
    "\n",
    "from sklearn.neighbors import KNeighborsClassifier\n",
    "knn=KNeighborsClassifier(n_neighbors=7)\n",
    "knn.fit(X_train,y_train)\n",
    "y_pred=knn.predict(X_test)\n",
    "print(y_pred)"
   ]
  },
  {
   "cell_type": "code",
   "execution_count": 26,
   "id": "af38f6c6",
   "metadata": {},
   "outputs": [],
   "source": [
    "y_train31=(y_train==31)\n",
    "y_train31\n",
    "y_test31=(y_test==31)\n",
    "y_pred31=(y_pred==31)"
   ]
  },
  {
   "cell_type": "code",
   "execution_count": 27,
   "id": "9a2eec51",
   "metadata": {},
   "outputs": [
    {
     "name": "stdout",
     "output_type": "stream",
     "text": [
      "accuracy: 0.9539473684210527\n"
     ]
    }
   ],
   "source": [
    "#accuracy\n",
    "from sklearn import metrics\n",
    "print(\"accuracy:\",metrics.accuracy_score(y_test, y_pred))"
   ]
  },
  {
   "cell_type": "code",
   "execution_count": 28,
   "id": "4df23ab3",
   "metadata": {},
   "outputs": [
    {
     "data": {
      "text/plain": [
       "0.9604395604395605"
      ]
     },
     "execution_count": 28,
     "metadata": {},
     "output_type": "execute_result"
    }
   ],
   "source": [
    "# RANDOM FOREST CLASSIFIER\n",
    "\n",
    "# In[42]:\n",
    "\n",
    "\n",
    "from sklearn.ensemble import RandomForestClassifier\n",
    "from sklearn.metrics import accuracy_score\n",
    "forest_clf= RandomForestClassifier(max_depth=7,random_state=0)\n",
    "forest_clf.fit(X_train,y_train)\n",
    "res_pred=forest_clf.predict(X_train)\n",
    "accuracy_score(y_train, res_pred)\n"
   ]
  },
  {
   "cell_type": "code",
   "execution_count": 29,
   "id": "d95c39f9",
   "metadata": {},
   "outputs": [],
   "source": [
    "from sklearn.metrics import confusion_matrix\n",
    "from sklearn.metrics import classification_report\n",
    "from sklearn.linear_model import LogisticRegression\n",
    "from sklearn.metrics import roc_curve\n",
    "from sklearn.metrics import roc_auc_score"
   ]
  },
  {
   "cell_type": "code",
   "execution_count": 30,
   "id": "8842f207",
   "metadata": {},
   "outputs": [
    {
     "data": {
      "text/plain": [
       "0.9098901098901099"
      ]
     },
     "execution_count": 30,
     "metadata": {},
     "output_type": "execute_result"
    }
   ],
   "source": [
    "from sklearn.metrics import plot_confusion_matrix\n",
    "clf=LogisticRegression()\n",
    "clf.fit(X_train,y_train)\n",
    "clf_pred=clf.predict(X_train)\n",
    "accuracy_score(y_train, clf_pred)\n"
   ]
  },
  {
   "cell_type": "code",
   "execution_count": 31,
   "id": "0bb31547",
   "metadata": {},
   "outputs": [
    {
     "data": {
      "text/plain": [
       "<AxesSubplot:>"
      ]
     },
     "execution_count": 31,
     "metadata": {},
     "output_type": "execute_result"
    },
    {
     "data": {
      "image/png": "[encoded data removed]",
      "text/plain": [
       "<Figure size 800x800 with 2 Axes>"
      ]
     },
     "metadata": {},
     "output_type": "display_data"
    }
   ],
   "source": [
    "#confusion_matrix(y_pred,y_test)\n",
    "figure(figsize=(10, 10), dpi=80)\n",
    "\n",
    "#sns.heatmap(confusion_matrix(y_test,y_pred))\n",
    "sns.heatmap(confusion_matrix(y_test,y_pred), annot=True)"
   ]
  },
  {
   "cell_type": "code",
   "execution_count": 32,
   "id": "0b462128",
   "metadata": {},
   "outputs": [
    {
     "name": "stdout",
     "output_type": "stream",
     "text": [
      "              precision    recall  f1-score   support\n",
      "\n",
      "           0       0.96      0.94      0.95        70\n",
      "           1       0.95      0.96      0.96        82\n",
      "\n",
      "    accuracy                           0.95       152\n",
      "   macro avg       0.95      0.95      0.95       152\n",
      "weighted avg       0.95      0.95      0.95       152\n",
      "\n"
     ]
    }
   ],
   "source": [
    "#ç\n",
    "print(classification_report(y_test,y_pred))"
   ]
  },
  {
   "cell_type": "code",
   "execution_count": 33,
   "id": "89abea7b",
   "metadata": {},
   "outputs": [
    {
     "data": {
      "text/plain": [
       "<AxesSubplot:>"
      ]
     },
     "execution_count": 33,
     "metadata": {},
     "output_type": "execute_result"
    },
    {
     "data": {
      "image/png": "[encoded data removed]",
      "text/plain": [
       "<Figure size 800x800 with 2 Axes>"
      ]
     },
     "metadata": {},
     "output_type": "display_data"
    }
   ],
   "source": [
    "figure(figsize=(10, 10), dpi=80)\n",
    "sns.heatmap(confusion_matrix(y_train,res_pred), annot=True)"
   ]
  },
  {
   "cell_type": "code",
   "execution_count": 34,
   "id": "d6d7f65c",
   "metadata": {},
   "outputs": [
    {
     "name": "stdout",
     "output_type": "stream",
     "text": [
      "              precision    recall  f1-score   support\n",
      "\n",
      "           0       0.93      0.97      0.95       182\n",
      "           1       0.98      0.95      0.97       273\n",
      "\n",
      "    accuracy                           0.96       455\n",
      "   macro avg       0.96      0.96      0.96       455\n",
      "weighted avg       0.96      0.96      0.96       455\n",
      "\n"
     ]
    }
   ],
   "source": [
    "print(classification_report(y_train,res_pred))"
   ]
  },
  {
   "cell_type": "code",
   "execution_count": 35,
   "id": "aeeb0446",
   "metadata": {},
   "outputs": [
    {
     "data": {
      "text/plain": [
       "array([0.90789474, 0.96052632, 0.9602649 ])"
      ]
     },
     "execution_count": 35,
     "metadata": {},
     "output_type": "execute_result"
    }
   ],
   "source": [
    "from sklearn.model_selection import cross_val_score\n",
    "cross_val_score(knn,X_train,y_train,cv=3,scoring=\"accuracy\")"
   ]
  },
  {
   "cell_type": "code",
   "execution_count": 36,
   "id": "a81404a1",
   "metadata": {},
   "outputs": [],
   "source": [
    "fpr, tpr, thresholds = roc_curve(y_test, y_pred)"
   ]
  },
  {
   "cell_type": "code",
   "execution_count": 37,
   "id": "dd84a556",
   "metadata": {},
   "outputs": [
    {
     "data": {
      "text/plain": [
       "[<matplotlib.lines.Line2D at 0x7f7ad2bebfa0>]"
      ]
     },
     "execution_count": 37,
     "metadata": {},
     "output_type": "execute_result"
    },
    {
     "data": {
      "image/png": "[encoded data removed]",
      "text/plain": [
       "<Figure size 640x480 with 1 Axes>"
      ]
     },
     "metadata": {},
     "output_type": "display_data"
    }
   ],
   "source": [
    "plt.plot(fpr,tpr )"
   ]
  },
  {
   "cell_type": "code",
   "execution_count": 38,
   "id": "bfe3abf6",
   "metadata": {},
   "outputs": [],
   "source": [
    "import numpy as np\n",
    "import pandas as pd\n",
    "import matplotlib.pyplot as plt\n",
    "import sklearn\n",
    "from matplotlib.pyplot import figure\n",
    "import seaborn as sns\n",
    "from sklearn.preprocessing import label_binarize\n",
    "import sklearn\n",
    "from sklearn.model_selection import train_test_split\n",
    "from itertools import cycle\n",
    "from sklearn.ensemble import RandomForestClassifier\n",
    "from sklearn.neighbors import KNeighborsClassifier\n",
    "\n",
    "\n",
    "from sklearn.naive_bayes import MultinomialNB\n",
    "from sklearn.naive_bayes import GaussianNB\n",
    "from sklearn.naive_bayes import ComplementNB\n",
    "from sklearn.naive_bayes import BernoulliNB\n",
    "from sklearn.naive_bayes import CategoricalNB\n",
    "from sklearn import metrics\n",
    "from sklearn.metrics import accuracy_score\n",
    "from sklearn.metrics import confusion_matrix\n",
    "import seaborn as sns\n",
    "\n",
    "from sklearn.model_selection import cross_val_score\n",
    "from sklearn.metrics import classification_report\n",
    "from sklearn.metrics import roc_curve, auc\n",
    "from sklearn.metrics import roc_auc_score, precision_score, recall_score"
   ]
  },
  {
   "cell_type": "code",
   "execution_count": 40,
   "id": "2e4d5115",
   "metadata": {},
   "outputs": [],
   "source": [
    "df=pd.read_csv('/Users/mac/Downloads/ds_salaries.csv')"
   ]
  },
  {
   "cell_type": "code",
   "execution_count": 41,
   "id": "3415d27e",
   "metadata": {},
   "outputs": [
    {
     "data": {
      "text/html": [
       "<div>\n",
       "<style scoped>\n",
       "    .dataframe tbody tr th:only-of-type {\n",
       "        vertical-align: middle;\n",
       "    }\n",
       "\n",
       "    .dataframe tbody tr th {\n",
       "        vertical-align: top;\n",
       "    }\n",
       "\n",
       "    .dataframe thead th {\n",
       "        text-align: right;\n",
       "    }\n",
       "</style>\n",
       "<table border=\"1\" class=\"dataframe\">\n",
       "  <thead>\n",
       "    <tr style=\"text-align: right;\">\n",
       "      <th></th>\n",
       "      <th>work_year</th>\n",
       "      <th>experience_level</th>\n",
       "      <th>employment_type</th>\n",
       "      <th>job_title</th>\n",
       "      <th>salary</th>\n",
       "      <th>salary_currency</th>\n",
       "      <th>salary_in_usd</th>\n",
       "      <th>employee_residence</th>\n",
       "      <th>remote_ratio</th>\n",
       "      <th>company_location</th>\n",
       "      <th>company_size</th>\n",
       "      <th>Location</th>\n",
       "    </tr>\n",
       "  </thead>\n",
       "  <tbody>\n",
       "    <tr>\n",
       "      <th>0</th>\n",
       "      <td>2020</td>\n",
       "      <td>MI</td>\n",
       "      <td>FT</td>\n",
       "      <td>Data Scientist</td>\n",
       "      <td>70000</td>\n",
       "      <td>EUR</td>\n",
       "      <td>79833</td>\n",
       "      <td>DE</td>\n",
       "      <td>0</td>\n",
       "      <td>DE</td>\n",
       "      <td>L</td>\n",
       "      <td>False</td>\n",
       "    </tr>\n",
       "    <tr>\n",
       "      <th>1</th>\n",
       "      <td>2020</td>\n",
       "      <td>SE</td>\n",
       "      <td>FT</td>\n",
       "      <td>Machine Learning Scientist</td>\n",
       "      <td>260000</td>\n",
       "      <td>USD</td>\n",
       "      <td>260000</td>\n",
       "      <td>JP</td>\n",
       "      <td>0</td>\n",
       "      <td>JP</td>\n",
       "      <td>S</td>\n",
       "      <td>False</td>\n",
       "    </tr>\n",
       "    <tr>\n",
       "      <th>2</th>\n",
       "      <td>2020</td>\n",
       "      <td>SE</td>\n",
       "      <td>FT</td>\n",
       "      <td>Big Data Engineer</td>\n",
       "      <td>85000</td>\n",
       "      <td>GBP</td>\n",
       "      <td>109024</td>\n",
       "      <td>GB</td>\n",
       "      <td>50</td>\n",
       "      <td>GB</td>\n",
       "      <td>M</td>\n",
       "      <td>False</td>\n",
       "    </tr>\n",
       "    <tr>\n",
       "      <th>3</th>\n",
       "      <td>2020</td>\n",
       "      <td>MI</td>\n",
       "      <td>FT</td>\n",
       "      <td>Product Data Analyst</td>\n",
       "      <td>20000</td>\n",
       "      <td>USD</td>\n",
       "      <td>20000</td>\n",
       "      <td>HN</td>\n",
       "      <td>0</td>\n",
       "      <td>HN</td>\n",
       "      <td>S</td>\n",
       "      <td>False</td>\n",
       "    </tr>\n",
       "    <tr>\n",
       "      <th>4</th>\n",
       "      <td>2020</td>\n",
       "      <td>SE</td>\n",
       "      <td>FT</td>\n",
       "      <td>Machine Learning Engineer</td>\n",
       "      <td>150000</td>\n",
       "      <td>USD</td>\n",
       "      <td>150000</td>\n",
       "      <td>US</td>\n",
       "      <td>50</td>\n",
       "      <td>US</td>\n",
       "      <td>L</td>\n",
       "      <td>True</td>\n",
       "    </tr>\n",
       "    <tr>\n",
       "      <th>...</th>\n",
       "      <td>...</td>\n",
       "      <td>...</td>\n",
       "      <td>...</td>\n",
       "      <td>...</td>\n",
       "      <td>...</td>\n",
       "      <td>...</td>\n",
       "      <td>...</td>\n",
       "      <td>...</td>\n",
       "      <td>...</td>\n",
       "      <td>...</td>\n",
       "      <td>...</td>\n",
       "      <td>...</td>\n",
       "    </tr>\n",
       "    <tr>\n",
       "      <th>602</th>\n",
       "      <td>2022</td>\n",
       "      <td>SE</td>\n",
       "      <td>FT</td>\n",
       "      <td>Data Engineer</td>\n",
       "      <td>154000</td>\n",
       "      <td>USD</td>\n",
       "      <td>154000</td>\n",
       "      <td>US</td>\n",
       "      <td>100</td>\n",
       "      <td>US</td>\n",
       "      <td>M</td>\n",
       "      <td>True</td>\n",
       "    </tr>\n",
       "    <tr>\n",
       "      <th>603</th>\n",
       "      <td>2022</td>\n",
       "      <td>SE</td>\n",
       "      <td>FT</td>\n",
       "      <td>Data Engineer</td>\n",
       "      <td>126000</td>\n",
       "      <td>USD</td>\n",
       "      <td>126000</td>\n",
       "      <td>US</td>\n",
       "      <td>100</td>\n",
       "      <td>US</td>\n",
       "      <td>M</td>\n",
       "      <td>True</td>\n",
       "    </tr>\n",
       "    <tr>\n",
       "      <th>604</th>\n",
       "      <td>2022</td>\n",
       "      <td>SE</td>\n",
       "      <td>FT</td>\n",
       "      <td>Data Analyst</td>\n",
       "      <td>129000</td>\n",
       "      <td>USD</td>\n",
       "      <td>129000</td>\n",
       "      <td>US</td>\n",
       "      <td>0</td>\n",
       "      <td>US</td>\n",
       "      <td>M</td>\n",
       "      <td>True</td>\n",
       "    </tr>\n",
       "    <tr>\n",
       "      <th>605</th>\n",
       "      <td>2022</td>\n",
       "      <td>SE</td>\n",
       "      <td>FT</td>\n",
       "      <td>Data Analyst</td>\n",
       "      <td>150000</td>\n",
       "      <td>USD</td>\n",
       "      <td>150000</td>\n",
       "      <td>US</td>\n",
       "      <td>100</td>\n",
       "      <td>US</td>\n",
       "      <td>M</td>\n",
       "      <td>True</td>\n",
       "    </tr>\n",
       "    <tr>\n",
       "      <th>606</th>\n",
       "      <td>2022</td>\n",
       "      <td>MI</td>\n",
       "      <td>FT</td>\n",
       "      <td>AI Scientist</td>\n",
       "      <td>200000</td>\n",
       "      <td>USD</td>\n",
       "      <td>200000</td>\n",
       "      <td>IN</td>\n",
       "      <td>100</td>\n",
       "      <td>US</td>\n",
       "      <td>L</td>\n",
       "      <td>True</td>\n",
       "    </tr>\n",
       "  </tbody>\n",
       "</table>\n",
       "<p>607 rows × 12 columns</p>\n",
       "</div>"
      ],
      "text/plain": [
       "     work_year experience_level employment_type                   job_title  \\\n",
       "0         2020               MI              FT              Data Scientist   \n",
       "1         2020               SE              FT  Machine Learning Scientist   \n",
       "2         2020               SE              FT           Big Data Engineer   \n",
       "3         2020               MI              FT        Product Data Analyst   \n",
       "4         2020               SE              FT   Machine Learning Engineer   \n",
       "..         ...              ...             ...                         ...   \n",
       "602       2022               SE              FT               Data Engineer   \n",
       "603       2022               SE              FT               Data Engineer   \n",
       "604       2022               SE              FT                Data Analyst   \n",
       "605       2022               SE              FT                Data Analyst   \n",
       "606       2022               MI              FT                AI Scientist   \n",
       "\n",
       "     salary salary_currency  salary_in_usd employee_residence  remote_ratio  \\\n",
       "0     70000             EUR          79833                 DE             0   \n",
       "1    260000             USD         260000                 JP             0   \n",
       "2     85000             GBP         109024                 GB            50   \n",
       "3     20000             USD          20000                 HN             0   \n",
       "4    150000             USD         150000                 US            50   \n",
       "..      ...             ...            ...                ...           ...   \n",
       "602  154000             USD         154000                 US           100   \n",
       "603  126000             USD         126000                 US           100   \n",
       "604  129000             USD         129000                 US             0   \n",
       "605  150000             USD         150000                 US           100   \n",
       "606  200000             USD         200000                 IN           100   \n",
       "\n",
       "    company_location company_size  Location  \n",
       "0                 DE            L     False  \n",
       "1                 JP            S     False  \n",
       "2                 GB            M     False  \n",
       "3                 HN            S     False  \n",
       "4                 US            L      True  \n",
       "..               ...          ...       ...  \n",
       "602               US            M      True  \n",
       "603               US            M      True  \n",
       "604               US            M      True  \n",
       "605               US            M      True  \n",
       "606               US            L      True  \n",
       "\n",
       "[607 rows x 12 columns]"
      ]
     },
     "execution_count": 41,
     "metadata": {},
     "output_type": "execute_result"
    }
   ],
   "source": [
    "Location_US= df[\"company_location\"]==\"US\"\n",
    "df[\"Location\"]=Location_US\n",
    "df.drop(['company_location'], axis=1)\n",
    "df.drop(columns=df.columns[0],axis=1,inplace=True)\n",
    "df\n"
   ]
  },
  {
   "cell_type": "code",
   "execution_count": 42,
   "id": "0870cd80",
   "metadata": {},
   "outputs": [],
   "source": [
    " from sklearn.preprocessing import LabelEncoder\n",
    "le = LabelEncoder()"
   ]
  },
  {
   "cell_type": "code",
   "execution_count": 43,
   "id": "35fa511b",
   "metadata": {},
   "outputs": [
    {
     "name": "stdout",
     "output_type": "stream",
     "text": [
      "<class 'pandas.core.frame.DataFrame'>\n",
      "RangeIndex: 607 entries, 0 to 606\n",
      "Data columns (total 12 columns):\n",
      " #   Column              Non-Null Count  Dtype\n",
      "---  ------              --------------  -----\n",
      " 0   work_year           607 non-null    int64\n",
      " 1   experience_level    607 non-null    int64\n",
      " 2   employment_type     607 non-null    int64\n",
      " 3   job_title           607 non-null    int64\n",
      " 4   salary              607 non-null    int64\n",
      " 5   salary_currency     607 non-null    int64\n",
      " 6   salary_in_usd       607 non-null    int64\n",
      " 7   employee_residence  607 non-null    int64\n",
      " 8   remote_ratio        607 non-null    int64\n",
      " 9   company_location    607 non-null    int64\n",
      " 10  company_size        607 non-null    int64\n",
      " 11  Location            607 non-null    int64\n",
      "dtypes: int64(12)\n",
      "memory usage: 57.0 KB\n"
     ]
    }
   ],
   "source": [
    "df['work_year']=le.fit_transform(df['work_year'])\n",
    "df['Location']=le.fit_transform(df['Location'])\n",
    "df['employee_residence']=le.fit_transform(df['employee_residence'])\n",
    "df['salary_currency']=le.fit_transform(df['salary_currency'])\n",
    "df['employment_type']=le.fit_transform(df['employment_type'])\n",
    "df['experience_level']=le.fit_transform(df['experience_level'])\n",
    "df['job_title']=le.fit_transform(df['job_title'])\n",
    "df['company_location']=le.fit_transform(df['company_location'])\n",
    "df['company_size']=le.fit_transform(df['company_size'])\n",
    "\n",
    "df.info()"
   ]
  },
  {
   "cell_type": "code",
   "execution_count": 44,
   "id": "0fbc095b",
   "metadata": {},
   "outputs": [],
   "source": [
    "\n",
    "df1=df[[\"Location\",\"employee_residence\",\"salary_currency\",\"salary_in_usd\",\"experience_level\", \"remote_ratio\",\"company_size\",\"salary\",\"employment_type\", \"job_title\"  ]]\n",
    "df2=df[[\"Location\",\"employee_residence\",\"salary_currency\",\"salary_in_usd\",\"experience_level\", \"remote_ratio\"]]\n",
    "df3=df[[\"Location\",\"employee_residence\",\"salary_currency\",\"salary_in_usd\"]]"
   ]
  },
  {
   "cell_type": "code",
   "execution_count": 45,
   "id": "b56fc0e2",
   "metadata": {},
   "outputs": [],
   "source": [
    "X=df.drop(['Location'],axis=1)\n",
    "Y=df['Location']"
   ]
  },
  {
   "cell_type": "code",
   "execution_count": 46,
   "id": "1dc16cc3",
   "metadata": {},
   "outputs": [],
   "source": [
    "X_train,X_test, y_train,y_test = train_test_split(X, Y, test_size=0.3, random_state=20)"
   ]
  },
  {
   "cell_type": "code",
   "execution_count": 47,
   "id": "959cfc00",
   "metadata": {},
   "outputs": [
    {
     "data": {
      "text/plain": [
       "1.0"
      ]
     },
     "execution_count": 47,
     "metadata": {},
     "output_type": "execute_result"
    }
   ],
   "source": [
    "clf= RandomForestClassifier(max_depth=7,random_state=0)\n",
    "clf.fit(X_train,y_train)\n",
    "res_pred=clf.predict(X_train)\n",
    "accuracy_score(y_train, res_pred)"
   ]
  },
  {
   "cell_type": "code",
   "execution_count": 48,
   "id": "cf80228c",
   "metadata": {},
   "outputs": [
    {
     "data": {
      "text/plain": [
       "array([0.99295775, 1.        , 1.        ])"
      ]
     },
     "execution_count": 48,
     "metadata": {},
     "output_type": "execute_result"
    }
   ],
   "source": [
    "cross_val_score(clf,X_train,y_train,cv=3,scoring=\"accuracy\")"
   ]
  },
  {
   "cell_type": "code",
   "execution_count": 49,
   "id": "d821f405",
   "metadata": {},
   "outputs": [
    {
     "name": "stdout",
     "output_type": "stream",
     "text": [
      "KNN  0.8797814207650273\n"
     ]
    }
   ],
   "source": [
    "\n",
    "knn=KNeighborsClassifier(n_neighbors=7)\n",
    "knn.fit(X_train,y_train)\n",
    "knn_pred=knn.predict(X_test)\n",
    "print (\"KNN \",accuracy_score(y_test,knn_pred))"
   ]
  },
  {
   "cell_type": "code",
   "execution_count": 50,
   "id": "dd1560ce",
   "metadata": {},
   "outputs": [
    {
     "data": {
      "text/plain": [
       "array([0.84507042, 0.86524823, 0.87234043])"
      ]
     },
     "execution_count": 50,
     "metadata": {},
     "output_type": "execute_result"
    }
   ],
   "source": [
    "cross_val_score(knn,X_train,y_train,cv=3,scoring=\"accuracy\")"
   ]
  },
  {
   "cell_type": "code",
   "execution_count": 51,
   "id": "572c383b",
   "metadata": {},
   "outputs": [
    {
     "data": {
      "text/plain": [
       "<AxesSubplot:>"
      ]
     },
     "execution_count": 51,
     "metadata": {},
     "output_type": "execute_result"
    },
    {
     "data": {
      "image/png": "[encoded data removed]",
      "text/plain": [
       "<Figure size 640x480 with 2 Axes>"
      ]
     },
     "metadata": {},
     "output_type": "display_data"
    }
   ],
   "source": [
    "sns.heatmap(confusion_matrix(y_test,knn_pred), annot=True)"
   ]
  },
  {
   "cell_type": "code",
   "execution_count": 52,
   "id": "e6f3b370",
   "metadata": {},
   "outputs": [
    {
     "data": {
      "image/png": "[encoded data removed]",
      "text/plain": [
       "<Figure size 640x480 with 1 Axes>"
      ]
     },
     "metadata": {},
     "output_type": "display_data"
    }
   ],
   "source": [
    "fpr, tpr, thresholds = roc_curve(y_test, knn_pred)\n",
    "random_probs = [0 for i in range(len(y_test))]\n",
    "a, b, _ = roc_curve(y_test, random_probs, pos_label=1)\n",
    "plt.plot(fpr,tpr, label='Categorical' )\n",
    "plt.plot(a,b,linestyle='--', color='blue')\n",
    "plt.legend(loc='best')\n",
    "plt.show()"
   ]
  },
  {
   "cell_type": "code",
   "execution_count": 53,
   "id": "477d9e37",
   "metadata": {},
   "outputs": [
    {
     "name": "stdout",
     "output_type": "stream",
     "text": [
      "tp fp tn fn\n",
      "68 17 5 93\n",
      "sensitivity = 0.422360248447205\n",
      "specificity = 0.22727272727272727\n",
      "precision = 0.9489795918367347\n",
      "recall =  0.8454545454545455\n",
      "AUC: 0.874\n"
     ]
    }
   ],
   "source": [
    "cm = confusion_matrix(y_test, knn_pred)\n",
    "tp, fp, fn, tn = cm[0,0], cm[0,1], cm[1,1], cm[1,0]\n",
    "print('tp', 'fp', 'tn', 'fn')\n",
    "print(tp, fp, tn, fn)\n",
    "\n",
    "print('sensitivity =' ,(tp/(tp+fn)))\n",
    "print('specificity =' ,(tn / (tn+fp)))\n",
    "print('precision =' ,precision_score(knn_pred, y_test))\n",
    "print('recall = ', recall_score(knn_pred, y_test))\n",
    "auc = roc_auc_score(y_test, knn_pred)\n",
    "print('AUC: %.3f' % auc)"
   ]
  },
  {
   "cell_type": "code",
   "execution_count": 54,
   "id": "740a8226",
   "metadata": {},
   "outputs": [
    {
     "name": "stdout",
     "output_type": "stream",
     "text": [
      "Multinomial  0.6229508196721312\n"
     ]
    }
   ],
   "source": [
    "mnb=MultinomialNB()\n",
    "mnb.fit(X_train,y_train)\n",
    "mnb_pred=mnb.predict(X_test)\n",
    "print (\"Multinomial \",accuracy_score(y_test,mnb_pred))"
   ]
  },
  {
   "cell_type": "code",
   "execution_count": 55,
   "id": "e82e0c74",
   "metadata": {},
   "outputs": [
    {
     "data": {
      "text/plain": [
       "<AxesSubplot:>"
      ]
     },
     "execution_count": 55,
     "metadata": {},
     "output_type": "execute_result"
    },
    {
     "data": {
      "image/png": "[encoded data removed]",
      "text/plain": [
       "<Figure size 640x480 with 2 Axes>"
      ]
     },
     "metadata": {},
     "output_type": "display_data"
    }
   ],
   "source": [
    "sns.heatmap(confusion_matrix(y_test,mnb_pred), annot=True)"
   ]
  },
  {
   "cell_type": "code",
   "execution_count": 56,
   "id": "b41366cf",
   "metadata": {},
   "outputs": [
    {
     "data": {
      "image/png": "[encoded data removed]",
      "text/plain": [
       "<Figure size 640x480 with 1 Axes>"
      ]
     },
     "metadata": {},
     "output_type": "display_data"
    }
   ],
   "source": [
    "fpr, tpr, thresholds = roc_curve(y_test, mnb_pred)\n",
    "random_probs = [0 for i in range(len(y_test))]\n",
    "a, b, _ = roc_curve(y_test, random_probs, pos_label=1)\n",
    "plt.plot(fpr,tpr, label='Categorical' )\n",
    "plt.plot(a,b,linestyle='--', color='blue')\n",
    "plt.legend(loc='best')\n",
    "plt.show()"
   ]
  },
  {
   "cell_type": "code",
   "execution_count": 57,
   "id": "71dda07a",
   "metadata": {},
   "outputs": [
    {
     "ename": "NameError",
     "evalue": "name 'gnb' is not defined",
     "output_type": "error",
     "traceback": [
      "\u001b[0;31m---------------------------------------------------------------------------\u001b[0m",
      "\u001b[0;31mNameError\u001b[0m                                 Traceback (most recent call last)",
      "Input \u001b[0;32mIn [57]\u001b[0m, in \u001b[0;36m<cell line: 1>\u001b[0;34m()\u001b[0m\n\u001b[0;32m----> 1\u001b[0m cross_val_score(\u001b[43mgnb\u001b[49m,X_train,y_train,cv\u001b[38;5;241m=\u001b[39m\u001b[38;5;241m3\u001b[39m,scoring\u001b[38;5;241m=\u001b[39m\u001b[38;5;124m\"\u001b[39m\u001b[38;5;124maccuracy\u001b[39m\u001b[38;5;124m\"\u001b[39m)\n",
      "\u001b[0;31mNameError\u001b[0m: name 'gnb' is not defined"
     ]
    }
   ],
   "source": [
    "cross_val_score(gnb,X_train,y_train,cv=3,scoring=\"accuracy\")"
   ]
  },
  {
   "cell_type": "code",
   "execution_count": 58,
   "id": "928c62ae",
   "metadata": {},
   "outputs": [
    {
     "name": "stdout",
     "output_type": "stream",
     "text": [
      "Multinomial  0.6229508196721312\n"
     ]
    }
   ],
   "source": [
    "mnb=MultinomialNB()\n",
    "mnb.fit(X_train,y_train)\n",
    "mnb_pred=mnb.predict(X_test)\n",
    "print (\"Multinomial \",accuracy_score(y_test,mnb_pred))"
   ]
  },
  {
   "cell_type": "code",
   "execution_count": 59,
   "id": "615f4494",
   "metadata": {},
   "outputs": [
    {
     "name": "stdout",
     "output_type": "stream",
     "text": [
      "Multinomial  0.6229508196721312\n"
     ]
    }
   ],
   "source": [
    "mnb=MultinomialNB()\n",
    "mnb.fit(X_train,y_train)\n",
    "mnb_pred=mnb.predict(X_test)\n",
    "print (\"Multinomial \",accuracy_score(y_test,mnb_pred))"
   ]
  },
  {
   "cell_type": "code",
   "execution_count": 60,
   "id": "cef8e6c3",
   "metadata": {},
   "outputs": [
    {
     "data": {
      "text/plain": [
       "<AxesSubplot:>"
      ]
     },
     "execution_count": 60,
     "metadata": {},
     "output_type": "execute_result"
    },
    {
     "data": {
      "image/png": "[encoded data removed]",
      "text/plain": [
       "<Figure size 640x480 with 2 Axes>"
      ]
     },
     "metadata": {},
     "output_type": "display_data"
    }
   ],
   "source": [
    "sns.heatmap(confusion_matrix(y_test,mnb_pred), annot=True)"
   ]
  },
  {
   "cell_type": "code",
   "execution_count": 61,
   "id": "73dca98d",
   "metadata": {},
   "outputs": [
    {
     "data": {
      "text/plain": [
       "array([0.64788732, 0.67375887, 0.65957447])"
      ]
     },
     "execution_count": 61,
     "metadata": {},
     "output_type": "execute_result"
    }
   ],
   "source": [
    "cross_val_score(mnb,X_train,y_train,cv=3,scoring=\"accuracy\")"
   ]
  },
  {
   "cell_type": "code",
   "execution_count": 62,
   "id": "b5d14a82",
   "metadata": {},
   "outputs": [
    {
     "data": {
      "image/png": "[encoded data removed]",
      "text/plain": [
       "<Figure size 640x480 with 1 Axes>"
      ]
     },
     "metadata": {},
     "output_type": "display_data"
    }
   ],
   "source": [
    "fpr, tpr, thresholds = roc_curve(y_test, mnb_pred)\n",
    "random_probs = [0 for i in range(len(y_test))]\n",
    "a, b, _ = roc_curve(y_test, random_probs, pos_label=1)\n",
    "plt.plot(fpr,tpr, label='Categorical' )\n",
    "plt.plot(a,b,linestyle='--', color='blue')\n",
    "plt.legend(loc='best')\n",
    "plt.show()"
   ]
  },
  {
   "cell_type": "code",
   "execution_count": 63,
   "id": "4d83e653",
   "metadata": {},
   "outputs": [
    {
     "name": "stdout",
     "output_type": "stream",
     "text": [
      "tp fp tn fn\n",
      "16 69 0 98\n",
      "sensitivity = 0.14035087719298245\n",
      "specificity = 0.0\n",
      "precision = 1.0\n",
      "recall =  0.5868263473053892\n",
      "AUC: 0.594\n"
     ]
    }
   ],
   "source": [
    "cm = confusion_matrix(y_test, mnb_pred)\n",
    "tp, fp, fn, tn = cm[0,0], cm[0,1], cm[1,1], cm[1,0]\n",
    "print('tp', 'fp', 'tn', 'fn')\n",
    "print(tp, fp, tn, fn)\n",
    "\n",
    "print('sensitivity =' ,(tp/(tp+fn)))\n",
    "print('specificity =' ,(tn / (tn+fp)))\n",
    "print('precision =' ,precision_score(mnb_pred, y_test))\n",
    "print('recall = ', recall_score(mnb_pred, y_test))\n",
    "auc = roc_auc_score(y_test, mnb_pred)\n",
    "print('AUC: %.3f' % auc)"
   ]
  },
  {
   "cell_type": "code",
   "execution_count": 64,
   "id": "c9472f7c",
   "metadata": {},
   "outputs": [
    {
     "name": "stdout",
     "output_type": "stream",
     "text": [
      "Guassian  0.6502732240437158\n"
     ]
    }
   ],
   "source": [
    "gnb=GaussianNB()  \n",
    "gnb.fit(X_train,y_train)\n",
    "gnb_pred = gnb.predict(X_test)\n",
    "print (\"Guassian \",accuracy_score(y_test,gnb_pred))"
   ]
  },
  {
   "cell_type": "code",
   "execution_count": 65,
   "id": "dd9b0641",
   "metadata": {},
   "outputs": [
    {
     "data": {
      "text/plain": [
       "<AxesSubplot:>"
      ]
     },
     "execution_count": 65,
     "metadata": {},
     "output_type": "execute_result"
    },
    {
     "data": {
      "image/png": "[encoded data removed]",
      "text/plain": [
       "<Figure size 640x480 with 2 Axes>"
      ]
     },
     "metadata": {},
     "output_type": "display_data"
    }
   ],
   "source": [
    "sns.heatmap(confusion_matrix(y_test,gnb_pred), annot=True)"
   ]
  },
  {
   "cell_type": "code",
   "execution_count": 66,
   "id": "46294bb0",
   "metadata": {},
   "outputs": [
    {
     "data": {
      "text/plain": [
       "array([0.63380282, 0.92198582, 0.66666667])"
      ]
     },
     "execution_count": 66,
     "metadata": {},
     "output_type": "execute_result"
    }
   ],
   "source": [
    "cross_val_score(gnb,X_train,y_train,cv=3,scoring=\"accuracy\")"
   ]
  },
  {
   "cell_type": "code",
   "execution_count": 67,
   "id": "b3362aea",
   "metadata": {},
   "outputs": [
    {
     "data": {
      "image/png": "[encoded data removed]",
      "text/plain": [
       "<Figure size 640x480 with 1 Axes>"
      ]
     },
     "metadata": {},
     "output_type": "display_data"
    }
   ],
   "source": [
    "fpr, tpr, thresholds = roc_curve(y_test, gnb_pred)\n",
    "random_probs = [0 for i in range(len(y_test))]\n",
    "a, b, _ = roc_curve(y_test, random_probs, pos_label=1)\n",
    "plt.plot(fpr,tpr, label='Benouli' )\n",
    "plt.plot(a,b,linestyle='--', color='blue')\n",
    "plt.legend(loc='best')\n",
    "plt.show()"
   ]
  },
  {
   "cell_type": "code",
   "execution_count": 68,
   "id": "5917f84d",
   "metadata": {},
   "outputs": [
    {
     "name": "stdout",
     "output_type": "stream",
     "text": [
      "Complement  0.6229508196721312\n"
     ]
    }
   ],
   "source": [
    "cnb=ComplementNB()  \n",
    "cnb.fit(X_train,y_train)\n",
    "cnb_pred = cnb.predict(X_test)\n",
    "print (\"Complement \",accuracy_score(y_test,cnb_pred))"
   ]
  },
  {
   "cell_type": "code",
   "execution_count": 69,
   "id": "7ded8ce3",
   "metadata": {},
   "outputs": [
    {
     "data": {
      "text/plain": [
       "<AxesSubplot:>"
      ]
     },
     "execution_count": 69,
     "metadata": {},
     "output_type": "execute_result"
    },
    {
     "data": {
      "image/png": "[encoded data removed]",
      "text/plain": [
       "<Figure size 640x480 with 2 Axes>"
      ]
     },
     "metadata": {},
     "output_type": "display_data"
    }
   ],
   "source": [
    "sns.heatmap(confusion_matrix(y_test,cnb_pred), annot=True)"
   ]
  },
  {
   "cell_type": "code",
   "execution_count": 70,
   "id": "823f953f",
   "metadata": {},
   "outputs": [
    {
     "data": {
      "text/plain": [
       "array([0.64788732, 0.67375887, 0.65957447])"
      ]
     },
     "execution_count": 70,
     "metadata": {},
     "output_type": "execute_result"
    }
   ],
   "source": [
    "cross_val_score(cnb,X_train,y_train,cv=3,scoring=\"accuracy\")"
   ]
  },
  {
   "cell_type": "code",
   "execution_count": 71,
   "id": "73b75f74",
   "metadata": {},
   "outputs": [
    {
     "data": {
      "image/png": "[encoded data removed]",
      "text/plain": [
       "<Figure size 640x480 with 1 Axes>"
      ]
     },
     "metadata": {},
     "output_type": "display_data"
    }
   ],
   "source": [
    "fpr, tpr, thresholds = roc_curve(y_test, cnb_pred)\n",
    "random_probs = [0 for i in range(len(y_test))]\n",
    "a, b, _ = roc_curve(y_test, random_probs, pos_label=1)\n",
    "plt.plot(fpr,tpr, label='Categorical' )\n",
    "plt.plot(a,b,linestyle='--', color='blue')\n",
    "plt.legend(loc='best')\n",
    "plt.show()\n"
   ]
  },
  {
   "cell_type": "code",
   "execution_count": 72,
   "id": "a9c4464b",
   "metadata": {},
   "outputs": [
    {
     "name": "stdout",
     "output_type": "stream",
     "text": [
      "tp fp tn fn\n",
      "16 69 0 98\n",
      "sensitivity = 0.14035087719298245\n",
      "specificity = 0.0\n",
      "precision = 1.0\n",
      "recall =  0.5868263473053892\n",
      "AUC: 0.594\n"
     ]
    }
   ],
   "source": [
    "cm = confusion_matrix(y_test, cnb_pred)\n",
    "tp, fp, fn, tn = cm[0,0], cm[0,1], cm[1,1], cm[1,0]\n",
    "print('tp', 'fp', 'tn', 'fn')\n",
    "print(tp, fp, tn, fn)\n",
    "\n",
    "print('sensitivity =' ,(tp/(tp+fn)))\n",
    "print('specificity =' ,(tn / (tn+fp)))\n",
    "print('precision =' ,precision_score(cnb_pred, y_test))\n",
    "print('recall = ', recall_score(cnb_pred, y_test))\n",
    "auc = roc_auc_score(y_test, cnb_pred)\n",
    "print('AUC: %.3f' % auc)"
   ]
  },
  {
   "cell_type": "code",
   "execution_count": 73,
   "id": "5c180dde",
   "metadata": {},
   "outputs": [
    {
     "name": "stdout",
     "output_type": "stream",
     "text": [
      "Bernoulli  0.6338797814207651\n"
     ]
    }
   ],
   "source": [
    "bnb=BernoulliNB(binarize=True)  \n",
    "bnb.fit(X_train,y_train)\n",
    "bnb_pred = bnb.predict(X_test)\n",
    "print (\"Bernoulli \",accuracy_score(y_test,bnb_pred))"
   ]
  },
  {
   "cell_type": "code",
   "execution_count": 74,
   "id": "a7ef2552",
   "metadata": {},
   "outputs": [
    {
     "data": {
      "text/plain": [
       "<AxesSubplot:>"
      ]
     },
     "execution_count": 74,
     "metadata": {},
     "output_type": "execute_result"
    },
    {
     "data": {
      "image/png": "[encoded data removed]",
      "text/plain": [
       "<Figure size 640x480 with 2 Axes>"
      ]
     },
     "metadata": {},
     "output_type": "display_data"
    }
   ],
   "source": [
    "sns.heatmap(confusion_matrix(y_test,bnb_pred), annot=True)"
   ]
  },
  {
   "cell_type": "code",
   "execution_count": 75,
   "id": "f139c798",
   "metadata": {},
   "outputs": [
    {
     "data": {
      "text/plain": [
       "array([0.66197183, 0.63829787, 0.60283688])"
      ]
     },
     "execution_count": 75,
     "metadata": {},
     "output_type": "execute_result"
    }
   ],
   "source": [
    "cross_val_score(bnb,X_train,y_train,cv=3,scoring=\"accuracy\")"
   ]
  },
  {
   "cell_type": "code",
   "execution_count": 76,
   "id": "6208aa11",
   "metadata": {},
   "outputs": [
    {
     "data": {
      "image/png": "[encoded data removed]",
      "text/plain": [
       "<Figure size 640x480 with 1 Axes>"
      ]
     },
     "metadata": {},
     "output_type": "display_data"
    }
   ],
   "source": [
    "fpr, tpr, thresholds = roc_curve(y_test, bnb_pred)\n",
    "random_probs = [0 for i in range(len(y_test))]\n",
    "a, b, _ = roc_curve(y_test, random_probs, pos_label=1)\n",
    "plt.plot(fpr,tpr, label='Benouli' )\n",
    "plt.plot(a,b,linestyle='--', color='blue')\n",
    "plt.legend(loc='best')\n",
    "plt.show()"
   ]
  },
  {
   "cell_type": "code",
   "execution_count": 77,
   "id": "1d7db6d4",
   "metadata": {},
   "outputs": [
    {
     "name": "stdout",
     "output_type": "stream",
     "text": [
      "tp fp tn fn\n",
      "32 53 14 84\n",
      "sensitivity = 0.27586206896551724\n",
      "specificity = 0.208955223880597\n",
      "precision = 0.8571428571428571\n",
      "recall =  0.6131386861313869\n",
      "AUC: 0.617\n"
     ]
    }
   ],
   "source": [
    "cm = confusion_matrix(y_test, bnb_pred)\n",
    "tp, fp, fn, tn = cm[0,0], cm[0,1], cm[1,1], cm[1,0]\n",
    "print('tp', 'fp', 'tn', 'fn')\n",
    "print(tp, fp, tn, fn)\n",
    "\n",
    "print('sensitivity =' ,(tp/(tp+fn)))\n",
    "print('specificity =' ,(tn / (tn+fp)))\n",
    "print('precision =' ,precision_score(bnb_pred, y_test))\n",
    "print('recall = ', recall_score(bnb_pred, y_test))\n",
    "auc = roc_auc_score(y_test, bnb_pred)\n",
    "print('AUC: %.3f' % auc)"
   ]
  },
  {
   "cell_type": "code",
   "execution_count": 78,
   "id": "afa1f991",
   "metadata": {},
   "outputs": [
    {
     "name": "stdout",
     "output_type": "stream",
     "text": [
      "Categorical  0.6502732240437158\n"
     ]
    }
   ],
   "source": [
    "canb=CategoricalNB()  \n",
    "canb.fit(X_train,y_train)\n",
    "canb_pred = gnb.predict(X_test)\n",
    "print (\"Categorical \",accuracy_score(y_test,canb_pred))"
   ]
  },
  {
   "cell_type": "code",
   "execution_count": 79,
   "id": "4acc163a",
   "metadata": {},
   "outputs": [
    {
     "data": {
      "text/plain": [
       "array([nan, nan, nan])"
      ]
     },
     "execution_count": 79,
     "metadata": {},
     "output_type": "execute_result"
    }
   ],
   "source": [
    "cross_val_score(canb,X_train,y_train,cv=3,scoring=\"accuracy\")"
   ]
  },
  {
   "cell_type": "code",
   "execution_count": 80,
   "id": "a899c88e",
   "metadata": {},
   "outputs": [
    {
     "data": {
      "text/plain": [
       "<AxesSubplot:>"
      ]
     },
     "execution_count": 80,
     "metadata": {},
     "output_type": "execute_result"
    },
    {
     "data": {
      "image/png": "[encoded data removed]",
      "text/plain": [
       "<Figure size 640x480 with 2 Axes>"
      ]
     },
     "metadata": {},
     "output_type": "display_data"
    }
   ],
   "source": [
    "sns.heatmap(confusion_matrix(y_test,canb_pred), annot=True)"
   ]
  },
  {
   "cell_type": "code",
   "execution_count": 81,
   "id": "cef0a2e1",
   "metadata": {},
   "outputs": [
    {
     "data": {
      "text/plain": [
       "array([nan, nan, nan])"
      ]
     },
     "execution_count": 81,
     "metadata": {},
     "output_type": "execute_result"
    }
   ],
   "source": [
    "cross_val_score(canb,X_train,y_train,cv=3,scoring=\"accuracy\")"
   ]
  },
  {
   "cell_type": "code",
   "execution_count": 82,
   "id": "2aa6a698",
   "metadata": {},
   "outputs": [
    {
     "name": "stdout",
     "output_type": "stream",
     "text": [
      "tp fp tn fn\n",
      "21 64 0 98\n",
      "sensitivity = 0.17647058823529413\n",
      "specificity = 0.0\n",
      "precision = 1.0\n",
      "recall =  0.6049382716049383\n",
      "AUC: 0.624\n"
     ]
    }
   ],
   "source": [
    "cm = confusion_matrix(y_test, canb_pred)\n",
    "tp, fp, fn, tn = cm[0,0], cm[0,1], cm[1,1], cm[1,0]\n",
    "print('tp', 'fp', 'tn', 'fn')\n",
    "print(tp, fp, tn, fn)\n",
    "\n",
    "print('sensitivity =' ,(tp/(tp+fn)))\n",
    "print('specificity =' ,(tn / (tn+fp)))\n",
    "print('precision =' ,precision_score(canb_pred, y_test))\n",
    "print('recall = ', recall_score(canb_pred, y_test))\n",
    "auc = roc_auc_score(y_test, canb_pred)\n",
    "print('AUC: %.3f' % auc)"
   ]
  },
  {
   "cell_type": "code",
   "execution_count": 83,
   "id": "3750afce",
   "metadata": {},
   "outputs": [],
   "source": [
    "import numpy as np\n",
    "import pandas as pd\n",
    "import matplotlib.pyplot as plt\n",
    "import sklearn\n",
    "\n",
    "from sklearn.cluster import KMeans\n",
    "from sklearn.preprocessing import MinMaxScaler\n",
    "\n",
    "%matplotlib inline"
   ]
  },
  {
   "cell_type": "code",
   "execution_count": 84,
   "id": "a8e71839",
   "metadata": {},
   "outputs": [
    {
     "data": {
      "text/html": [
       "<div>\n",
       "<style scoped>\n",
       "    .dataframe tbody tr th:only-of-type {\n",
       "        vertical-align: middle;\n",
       "    }\n",
       "\n",
       "    .dataframe tbody tr th {\n",
       "        vertical-align: top;\n",
       "    }\n",
       "\n",
       "    .dataframe thead th {\n",
       "        text-align: right;\n",
       "    }\n",
       "</style>\n",
       "<table border=\"1\" class=\"dataframe\">\n",
       "  <thead>\n",
       "    <tr style=\"text-align: right;\">\n",
       "      <th></th>\n",
       "      <th>Unnamed: 0</th>\n",
       "      <th>work_year</th>\n",
       "      <th>experience_level</th>\n",
       "      <th>employment_type</th>\n",
       "      <th>job_title</th>\n",
       "      <th>salary</th>\n",
       "      <th>salary_currency</th>\n",
       "      <th>salary_in_usd</th>\n",
       "      <th>employee_residence</th>\n",
       "      <th>remote_ratio</th>\n",
       "      <th>company_location</th>\n",
       "      <th>company_size</th>\n",
       "    </tr>\n",
       "  </thead>\n",
       "  <tbody>\n",
       "    <tr>\n",
       "      <th>0</th>\n",
       "      <td>0</td>\n",
       "      <td>2020</td>\n",
       "      <td>MI</td>\n",
       "      <td>FT</td>\n",
       "      <td>Data Scientist</td>\n",
       "      <td>70000</td>\n",
       "      <td>EUR</td>\n",
       "      <td>79833</td>\n",
       "      <td>DE</td>\n",
       "      <td>0</td>\n",
       "      <td>DE</td>\n",
       "      <td>L</td>\n",
       "    </tr>\n",
       "    <tr>\n",
       "      <th>1</th>\n",
       "      <td>1</td>\n",
       "      <td>2020</td>\n",
       "      <td>SE</td>\n",
       "      <td>FT</td>\n",
       "      <td>Machine Learning Scientist</td>\n",
       "      <td>260000</td>\n",
       "      <td>USD</td>\n",
       "      <td>260000</td>\n",
       "      <td>JP</td>\n",
       "      <td>0</td>\n",
       "      <td>JP</td>\n",
       "      <td>S</td>\n",
       "    </tr>\n",
       "    <tr>\n",
       "      <th>2</th>\n",
       "      <td>2</td>\n",
       "      <td>2020</td>\n",
       "      <td>SE</td>\n",
       "      <td>FT</td>\n",
       "      <td>Big Data Engineer</td>\n",
       "      <td>85000</td>\n",
       "      <td>GBP</td>\n",
       "      <td>109024</td>\n",
       "      <td>GB</td>\n",
       "      <td>50</td>\n",
       "      <td>GB</td>\n",
       "      <td>M</td>\n",
       "    </tr>\n",
       "    <tr>\n",
       "      <th>3</th>\n",
       "      <td>3</td>\n",
       "      <td>2020</td>\n",
       "      <td>MI</td>\n",
       "      <td>FT</td>\n",
       "      <td>Product Data Analyst</td>\n",
       "      <td>20000</td>\n",
       "      <td>USD</td>\n",
       "      <td>20000</td>\n",
       "      <td>HN</td>\n",
       "      <td>0</td>\n",
       "      <td>HN</td>\n",
       "      <td>S</td>\n",
       "    </tr>\n",
       "    <tr>\n",
       "      <th>4</th>\n",
       "      <td>4</td>\n",
       "      <td>2020</td>\n",
       "      <td>SE</td>\n",
       "      <td>FT</td>\n",
       "      <td>Machine Learning Engineer</td>\n",
       "      <td>150000</td>\n",
       "      <td>USD</td>\n",
       "      <td>150000</td>\n",
       "      <td>US</td>\n",
       "      <td>50</td>\n",
       "      <td>US</td>\n",
       "      <td>L</td>\n",
       "    </tr>\n",
       "    <tr>\n",
       "      <th>...</th>\n",
       "      <td>...</td>\n",
       "      <td>...</td>\n",
       "      <td>...</td>\n",
       "      <td>...</td>\n",
       "      <td>...</td>\n",
       "      <td>...</td>\n",
       "      <td>...</td>\n",
       "      <td>...</td>\n",
       "      <td>...</td>\n",
       "      <td>...</td>\n",
       "      <td>...</td>\n",
       "      <td>...</td>\n",
       "    </tr>\n",
       "    <tr>\n",
       "      <th>602</th>\n",
       "      <td>602</td>\n",
       "      <td>2022</td>\n",
       "      <td>SE</td>\n",
       "      <td>FT</td>\n",
       "      <td>Data Engineer</td>\n",
       "      <td>154000</td>\n",
       "      <td>USD</td>\n",
       "      <td>154000</td>\n",
       "      <td>US</td>\n",
       "      <td>100</td>\n",
       "      <td>US</td>\n",
       "      <td>M</td>\n",
       "    </tr>\n",
       "    <tr>\n",
       "      <th>603</th>\n",
       "      <td>603</td>\n",
       "      <td>2022</td>\n",
       "      <td>SE</td>\n",
       "      <td>FT</td>\n",
       "      <td>Data Engineer</td>\n",
       "      <td>126000</td>\n",
       "      <td>USD</td>\n",
       "      <td>126000</td>\n",
       "      <td>US</td>\n",
       "      <td>100</td>\n",
       "      <td>US</td>\n",
       "      <td>M</td>\n",
       "    </tr>\n",
       "    <tr>\n",
       "      <th>604</th>\n",
       "      <td>604</td>\n",
       "      <td>2022</td>\n",
       "      <td>SE</td>\n",
       "      <td>FT</td>\n",
       "      <td>Data Analyst</td>\n",
       "      <td>129000</td>\n",
       "      <td>USD</td>\n",
       "      <td>129000</td>\n",
       "      <td>US</td>\n",
       "      <td>0</td>\n",
       "      <td>US</td>\n",
       "      <td>M</td>\n",
       "    </tr>\n",
       "    <tr>\n",
       "      <th>605</th>\n",
       "      <td>605</td>\n",
       "      <td>2022</td>\n",
       "      <td>SE</td>\n",
       "      <td>FT</td>\n",
       "      <td>Data Analyst</td>\n",
       "      <td>150000</td>\n",
       "      <td>USD</td>\n",
       "      <td>150000</td>\n",
       "      <td>US</td>\n",
       "      <td>100</td>\n",
       "      <td>US</td>\n",
       "      <td>M</td>\n",
       "    </tr>\n",
       "    <tr>\n",
       "      <th>606</th>\n",
       "      <td>606</td>\n",
       "      <td>2022</td>\n",
       "      <td>MI</td>\n",
       "      <td>FT</td>\n",
       "      <td>AI Scientist</td>\n",
       "      <td>200000</td>\n",
       "      <td>USD</td>\n",
       "      <td>200000</td>\n",
       "      <td>IN</td>\n",
       "      <td>100</td>\n",
       "      <td>US</td>\n",
       "      <td>L</td>\n",
       "    </tr>\n",
       "  </tbody>\n",
       "</table>\n",
       "<p>607 rows × 12 columns</p>\n",
       "</div>"
      ],
      "text/plain": [
       "     Unnamed: 0  work_year experience_level employment_type  \\\n",
       "0             0       2020               MI              FT   \n",
       "1             1       2020               SE              FT   \n",
       "2             2       2020               SE              FT   \n",
       "3             3       2020               MI              FT   \n",
       "4             4       2020               SE              FT   \n",
       "..          ...        ...              ...             ...   \n",
       "602         602       2022               SE              FT   \n",
       "603         603       2022               SE              FT   \n",
       "604         604       2022               SE              FT   \n",
       "605         605       2022               SE              FT   \n",
       "606         606       2022               MI              FT   \n",
       "\n",
       "                      job_title  salary salary_currency  salary_in_usd  \\\n",
       "0                Data Scientist   70000             EUR          79833   \n",
       "1    Machine Learning Scientist  260000             USD         260000   \n",
       "2             Big Data Engineer   85000             GBP         109024   \n",
       "3          Product Data Analyst   20000             USD          20000   \n",
       "4     Machine Learning Engineer  150000             USD         150000   \n",
       "..                          ...     ...             ...            ...   \n",
       "602               Data Engineer  154000             USD         154000   \n",
       "603               Data Engineer  126000             USD         126000   \n",
       "604                Data Analyst  129000             USD         129000   \n",
       "605                Data Analyst  150000             USD         150000   \n",
       "606                AI Scientist  200000             USD         200000   \n",
       "\n",
       "    employee_residence  remote_ratio company_location company_size  \n",
       "0                   DE             0               DE            L  \n",
       "1                   JP             0               JP            S  \n",
       "2                   GB            50               GB            M  \n",
       "3                   HN             0               HN            S  \n",
       "4                   US            50               US            L  \n",
       "..                 ...           ...              ...          ...  \n",
       "602                 US           100               US            M  \n",
       "603                 US           100               US            M  \n",
       "604                 US             0               US            M  \n",
       "605                 US           100               US            M  \n",
       "606                 IN           100               US            L  \n",
       "\n",
       "[607 rows x 12 columns]"
      ]
     },
     "execution_count": 84,
     "metadata": {},
     "output_type": "execute_result"
    }
   ],
   "source": [
    "df=pd.read_csv('/Users/mac/Downloads/ds_salaries.csv')\n",
    "df"
   ]
  },
  {
   "cell_type": "code",
   "execution_count": 85,
   "id": "57519360",
   "metadata": {},
   "outputs": [
    {
     "data": {
      "text/html": [
       "<div>\n",
       "<style scoped>\n",
       "    .dataframe tbody tr th:only-of-type {\n",
       "        vertical-align: middle;\n",
       "    }\n",
       "\n",
       "    .dataframe tbody tr th {\n",
       "        vertical-align: top;\n",
       "    }\n",
       "\n",
       "    .dataframe thead th {\n",
       "        text-align: right;\n",
       "    }\n",
       "</style>\n",
       "<table border=\"1\" class=\"dataframe\">\n",
       "  <thead>\n",
       "    <tr style=\"text-align: right;\">\n",
       "      <th></th>\n",
       "      <th>Unnamed: 0</th>\n",
       "      <th>work_year</th>\n",
       "      <th>experience_level</th>\n",
       "      <th>employment_type</th>\n",
       "      <th>job_title</th>\n",
       "      <th>salary</th>\n",
       "      <th>salary_currency</th>\n",
       "      <th>salary_in_usd</th>\n",
       "      <th>employee_residence</th>\n",
       "      <th>remote_ratio</th>\n",
       "      <th>company_location</th>\n",
       "      <th>company_size</th>\n",
       "    </tr>\n",
       "  </thead>\n",
       "  <tbody>\n",
       "    <tr>\n",
       "      <th>0</th>\n",
       "      <td>0</td>\n",
       "      <td>2020</td>\n",
       "      <td>MI</td>\n",
       "      <td>FT</td>\n",
       "      <td>Data Scientist</td>\n",
       "      <td>70000</td>\n",
       "      <td>EUR</td>\n",
       "      <td>79833</td>\n",
       "      <td>DE</td>\n",
       "      <td>0</td>\n",
       "      <td>DE</td>\n",
       "      <td>L</td>\n",
       "    </tr>\n",
       "    <tr>\n",
       "      <th>1</th>\n",
       "      <td>1</td>\n",
       "      <td>2020</td>\n",
       "      <td>SE</td>\n",
       "      <td>FT</td>\n",
       "      <td>Machine Learning Scientist</td>\n",
       "      <td>260000</td>\n",
       "      <td>USD</td>\n",
       "      <td>260000</td>\n",
       "      <td>JP</td>\n",
       "      <td>0</td>\n",
       "      <td>JP</td>\n",
       "      <td>S</td>\n",
       "    </tr>\n",
       "    <tr>\n",
       "      <th>2</th>\n",
       "      <td>2</td>\n",
       "      <td>2020</td>\n",
       "      <td>SE</td>\n",
       "      <td>FT</td>\n",
       "      <td>Big Data Engineer</td>\n",
       "      <td>85000</td>\n",
       "      <td>GBP</td>\n",
       "      <td>109024</td>\n",
       "      <td>GB</td>\n",
       "      <td>50</td>\n",
       "      <td>GB</td>\n",
       "      <td>M</td>\n",
       "    </tr>\n",
       "    <tr>\n",
       "      <th>3</th>\n",
       "      <td>3</td>\n",
       "      <td>2020</td>\n",
       "      <td>MI</td>\n",
       "      <td>FT</td>\n",
       "      <td>Product Data Analyst</td>\n",
       "      <td>20000</td>\n",
       "      <td>USD</td>\n",
       "      <td>20000</td>\n",
       "      <td>HN</td>\n",
       "      <td>0</td>\n",
       "      <td>HN</td>\n",
       "      <td>S</td>\n",
       "    </tr>\n",
       "    <tr>\n",
       "      <th>4</th>\n",
       "      <td>4</td>\n",
       "      <td>2020</td>\n",
       "      <td>SE</td>\n",
       "      <td>FT</td>\n",
       "      <td>Machine Learning Engineer</td>\n",
       "      <td>150000</td>\n",
       "      <td>USD</td>\n",
       "      <td>150000</td>\n",
       "      <td>US</td>\n",
       "      <td>50</td>\n",
       "      <td>US</td>\n",
       "      <td>L</td>\n",
       "    </tr>\n",
       "    <tr>\n",
       "      <th>...</th>\n",
       "      <td>...</td>\n",
       "      <td>...</td>\n",
       "      <td>...</td>\n",
       "      <td>...</td>\n",
       "      <td>...</td>\n",
       "      <td>...</td>\n",
       "      <td>...</td>\n",
       "      <td>...</td>\n",
       "      <td>...</td>\n",
       "      <td>...</td>\n",
       "      <td>...</td>\n",
       "      <td>...</td>\n",
       "    </tr>\n",
       "    <tr>\n",
       "      <th>602</th>\n",
       "      <td>602</td>\n",
       "      <td>2022</td>\n",
       "      <td>SE</td>\n",
       "      <td>FT</td>\n",
       "      <td>Data Engineer</td>\n",
       "      <td>154000</td>\n",
       "      <td>USD</td>\n",
       "      <td>154000</td>\n",
       "      <td>US</td>\n",
       "      <td>100</td>\n",
       "      <td>US</td>\n",
       "      <td>M</td>\n",
       "    </tr>\n",
       "    <tr>\n",
       "      <th>603</th>\n",
       "      <td>603</td>\n",
       "      <td>2022</td>\n",
       "      <td>SE</td>\n",
       "      <td>FT</td>\n",
       "      <td>Data Engineer</td>\n",
       "      <td>126000</td>\n",
       "      <td>USD</td>\n",
       "      <td>126000</td>\n",
       "      <td>US</td>\n",
       "      <td>100</td>\n",
       "      <td>US</td>\n",
       "      <td>M</td>\n",
       "    </tr>\n",
       "    <tr>\n",
       "      <th>604</th>\n",
       "      <td>604</td>\n",
       "      <td>2022</td>\n",
       "      <td>SE</td>\n",
       "      <td>FT</td>\n",
       "      <td>Data Analyst</td>\n",
       "      <td>129000</td>\n",
       "      <td>USD</td>\n",
       "      <td>129000</td>\n",
       "      <td>US</td>\n",
       "      <td>0</td>\n",
       "      <td>US</td>\n",
       "      <td>M</td>\n",
       "    </tr>\n",
       "    <tr>\n",
       "      <th>605</th>\n",
       "      <td>605</td>\n",
       "      <td>2022</td>\n",
       "      <td>SE</td>\n",
       "      <td>FT</td>\n",
       "      <td>Data Analyst</td>\n",
       "      <td>150000</td>\n",
       "      <td>USD</td>\n",
       "      <td>150000</td>\n",
       "      <td>US</td>\n",
       "      <td>100</td>\n",
       "      <td>US</td>\n",
       "      <td>M</td>\n",
       "    </tr>\n",
       "    <tr>\n",
       "      <th>606</th>\n",
       "      <td>606</td>\n",
       "      <td>2022</td>\n",
       "      <td>MI</td>\n",
       "      <td>FT</td>\n",
       "      <td>AI Scientist</td>\n",
       "      <td>200000</td>\n",
       "      <td>USD</td>\n",
       "      <td>200000</td>\n",
       "      <td>IN</td>\n",
       "      <td>100</td>\n",
       "      <td>US</td>\n",
       "      <td>L</td>\n",
       "    </tr>\n",
       "  </tbody>\n",
       "</table>\n",
       "<p>607 rows × 12 columns</p>\n",
       "</div>"
      ],
      "text/plain": [
       "     Unnamed: 0  work_year experience_level employment_type  \\\n",
       "0             0       2020               MI              FT   \n",
       "1             1       2020               SE              FT   \n",
       "2             2       2020               SE              FT   \n",
       "3             3       2020               MI              FT   \n",
       "4             4       2020               SE              FT   \n",
       "..          ...        ...              ...             ...   \n",
       "602         602       2022               SE              FT   \n",
       "603         603       2022               SE              FT   \n",
       "604         604       2022               SE              FT   \n",
       "605         605       2022               SE              FT   \n",
       "606         606       2022               MI              FT   \n",
       "\n",
       "                      job_title  salary salary_currency  salary_in_usd  \\\n",
       "0                Data Scientist   70000             EUR          79833   \n",
       "1    Machine Learning Scientist  260000             USD         260000   \n",
       "2             Big Data Engineer   85000             GBP         109024   \n",
       "3          Product Data Analyst   20000             USD          20000   \n",
       "4     Machine Learning Engineer  150000             USD         150000   \n",
       "..                          ...     ...             ...            ...   \n",
       "602               Data Engineer  154000             USD         154000   \n",
       "603               Data Engineer  126000             USD         126000   \n",
       "604                Data Analyst  129000             USD         129000   \n",
       "605                Data Analyst  150000             USD         150000   \n",
       "606                AI Scientist  200000             USD         200000   \n",
       "\n",
       "    employee_residence  remote_ratio company_location company_size  \n",
       "0                   DE             0               DE            L  \n",
       "1                   JP             0               JP            S  \n",
       "2                   GB            50               GB            M  \n",
       "3                   HN             0               HN            S  \n",
       "4                   US            50               US            L  \n",
       "..                 ...           ...              ...          ...  \n",
       "602                 US           100               US            M  \n",
       "603                 US           100               US            M  \n",
       "604                 US             0               US            M  \n",
       "605                 US           100               US            M  \n",
       "606                 IN           100               US            L  \n",
       "\n",
       "[607 rows x 12 columns]"
      ]
     },
     "execution_count": 85,
     "metadata": {},
     "output_type": "execute_result"
    }
   ],
   "source": [
    "df.rename(columns={'Income composition of resources':'HDI'},inplace=True)\n",
    "df"
   ]
  },
  {
   "cell_type": "code",
   "execution_count": 86,
   "id": "9cc90b37",
   "metadata": {},
   "outputs": [
    {
     "ename": "KeyError",
     "evalue": "\"None of [Index(['HDI', 'Adult Mortality'], dtype='object')] are in the [columns]\"",
     "output_type": "error",
     "traceback": [
      "\u001b[0;31m---------------------------------------------------------------------------\u001b[0m",
      "\u001b[0;31mKeyError\u001b[0m                                  Traceback (most recent call last)",
      "Input \u001b[0;32mIn [86]\u001b[0m, in \u001b[0;36m<cell line: 1>\u001b[0;34m()\u001b[0m\n\u001b[0;32m----> 1\u001b[0m df\u001b[38;5;241m=\u001b[39m\u001b[43mdf\u001b[49m\u001b[43m[\u001b[49m\u001b[43m[\u001b[49m\u001b[38;5;124;43m'\u001b[39;49m\u001b[38;5;124;43mHDI\u001b[39;49m\u001b[38;5;124;43m'\u001b[39;49m\u001b[43m,\u001b[49m\u001b[38;5;124;43m'\u001b[39;49m\u001b[38;5;124;43mAdult Mortality\u001b[39;49m\u001b[38;5;124;43m'\u001b[39;49m\u001b[43m]\u001b[49m\u001b[43m]\u001b[49m\n\u001b[1;32m      2\u001b[0m df\u001b[38;5;241m.\u001b[39mdropna(inplace \u001b[38;5;241m=\u001b[39m \u001b[38;5;28;01mTrue\u001b[39;00m)\n\u001b[1;32m      3\u001b[0m df\u001b[38;5;241m.\u001b[39minfo()\n",
      "File \u001b[0;32m~/opt/anaconda3/envs/F21DL/lib/python3.9/site-packages/pandas/core/frame.py:3511\u001b[0m, in \u001b[0;36mDataFrame.__getitem__\u001b[0;34m(self, key)\u001b[0m\n\u001b[1;32m   3509\u001b[0m     \u001b[38;5;28;01mif\u001b[39;00m is_iterator(key):\n\u001b[1;32m   3510\u001b[0m         key \u001b[38;5;241m=\u001b[39m \u001b[38;5;28mlist\u001b[39m(key)\n\u001b[0;32m-> 3511\u001b[0m     indexer \u001b[38;5;241m=\u001b[39m \u001b[38;5;28;43mself\u001b[39;49m\u001b[38;5;241;43m.\u001b[39;49m\u001b[43mcolumns\u001b[49m\u001b[38;5;241;43m.\u001b[39;49m\u001b[43m_get_indexer_strict\u001b[49m\u001b[43m(\u001b[49m\u001b[43mkey\u001b[49m\u001b[43m,\u001b[49m\u001b[43m \u001b[49m\u001b[38;5;124;43m\"\u001b[39;49m\u001b[38;5;124;43mcolumns\u001b[39;49m\u001b[38;5;124;43m\"\u001b[39;49m\u001b[43m)\u001b[49m[\u001b[38;5;241m1\u001b[39m]\n\u001b[1;32m   3513\u001b[0m \u001b[38;5;66;03m# take() does not accept boolean indexers\u001b[39;00m\n\u001b[1;32m   3514\u001b[0m \u001b[38;5;28;01mif\u001b[39;00m \u001b[38;5;28mgetattr\u001b[39m(indexer, \u001b[38;5;124m\"\u001b[39m\u001b[38;5;124mdtype\u001b[39m\u001b[38;5;124m\"\u001b[39m, \u001b[38;5;28;01mNone\u001b[39;00m) \u001b[38;5;241m==\u001b[39m \u001b[38;5;28mbool\u001b[39m:\n",
      "File \u001b[0;32m~/opt/anaconda3/envs/F21DL/lib/python3.9/site-packages/pandas/core/indexes/base.py:5782\u001b[0m, in \u001b[0;36mIndex._get_indexer_strict\u001b[0;34m(self, key, axis_name)\u001b[0m\n\u001b[1;32m   5779\u001b[0m \u001b[38;5;28;01melse\u001b[39;00m:\n\u001b[1;32m   5780\u001b[0m     keyarr, indexer, new_indexer \u001b[38;5;241m=\u001b[39m \u001b[38;5;28mself\u001b[39m\u001b[38;5;241m.\u001b[39m_reindex_non_unique(keyarr)\n\u001b[0;32m-> 5782\u001b[0m \u001b[38;5;28;43mself\u001b[39;49m\u001b[38;5;241;43m.\u001b[39;49m\u001b[43m_raise_if_missing\u001b[49m\u001b[43m(\u001b[49m\u001b[43mkeyarr\u001b[49m\u001b[43m,\u001b[49m\u001b[43m \u001b[49m\u001b[43mindexer\u001b[49m\u001b[43m,\u001b[49m\u001b[43m \u001b[49m\u001b[43maxis_name\u001b[49m\u001b[43m)\u001b[49m\n\u001b[1;32m   5784\u001b[0m keyarr \u001b[38;5;241m=\u001b[39m \u001b[38;5;28mself\u001b[39m\u001b[38;5;241m.\u001b[39mtake(indexer)\n\u001b[1;32m   5785\u001b[0m \u001b[38;5;28;01mif\u001b[39;00m \u001b[38;5;28misinstance\u001b[39m(key, Index):\n\u001b[1;32m   5786\u001b[0m     \u001b[38;5;66;03m# GH 42790 - Preserve name from an Index\u001b[39;00m\n",
      "File \u001b[0;32m~/opt/anaconda3/envs/F21DL/lib/python3.9/site-packages/pandas/core/indexes/base.py:5842\u001b[0m, in \u001b[0;36mIndex._raise_if_missing\u001b[0;34m(self, key, indexer, axis_name)\u001b[0m\n\u001b[1;32m   5840\u001b[0m     \u001b[38;5;28;01mif\u001b[39;00m use_interval_msg:\n\u001b[1;32m   5841\u001b[0m         key \u001b[38;5;241m=\u001b[39m \u001b[38;5;28mlist\u001b[39m(key)\n\u001b[0;32m-> 5842\u001b[0m     \u001b[38;5;28;01mraise\u001b[39;00m \u001b[38;5;167;01mKeyError\u001b[39;00m(\u001b[38;5;124mf\u001b[39m\u001b[38;5;124m\"\u001b[39m\u001b[38;5;124mNone of [\u001b[39m\u001b[38;5;132;01m{\u001b[39;00mkey\u001b[38;5;132;01m}\u001b[39;00m\u001b[38;5;124m] are in the [\u001b[39m\u001b[38;5;132;01m{\u001b[39;00maxis_name\u001b[38;5;132;01m}\u001b[39;00m\u001b[38;5;124m]\u001b[39m\u001b[38;5;124m\"\u001b[39m)\n\u001b[1;32m   5844\u001b[0m not_found \u001b[38;5;241m=\u001b[39m \u001b[38;5;28mlist\u001b[39m(ensure_index(key)[missing_mask\u001b[38;5;241m.\u001b[39mnonzero()[\u001b[38;5;241m0\u001b[39m]]\u001b[38;5;241m.\u001b[39munique())\n\u001b[1;32m   5845\u001b[0m \u001b[38;5;28;01mraise\u001b[39;00m \u001b[38;5;167;01mKeyError\u001b[39;00m(\u001b[38;5;124mf\u001b[39m\u001b[38;5;124m\"\u001b[39m\u001b[38;5;132;01m{\u001b[39;00mnot_found\u001b[38;5;132;01m}\u001b[39;00m\u001b[38;5;124m not in index\u001b[39m\u001b[38;5;124m\"\u001b[39m)\n",
      "\u001b[0;31mKeyError\u001b[0m: \"None of [Index(['HDI', 'Adult Mortality'], dtype='object')] are in the [columns]\""
     ]
    }
   ],
   "source": [
    "df=df[['HDI','Adult Mortality']]\n",
    "df.dropna(inplace = True)\n",
    "df.info()"
   ]
  },
  {
   "cell_type": "code",
   "execution_count": 87,
   "id": "19ab122a",
   "metadata": {},
   "outputs": [
    {
     "ename": "KeyError",
     "evalue": "'HDI'",
     "output_type": "error",
     "traceback": [
      "\u001b[0;31m---------------------------------------------------------------------------\u001b[0m",
      "\u001b[0;31mKeyError\u001b[0m                                  Traceback (most recent call last)",
      "File \u001b[0;32m~/opt/anaconda3/envs/F21DL/lib/python3.9/site-packages/pandas/core/indexes/base.py:3621\u001b[0m, in \u001b[0;36mIndex.get_loc\u001b[0;34m(self, key, method, tolerance)\u001b[0m\n\u001b[1;32m   3620\u001b[0m \u001b[38;5;28;01mtry\u001b[39;00m:\n\u001b[0;32m-> 3621\u001b[0m     \u001b[38;5;28;01mreturn\u001b[39;00m \u001b[38;5;28;43mself\u001b[39;49m\u001b[38;5;241;43m.\u001b[39;49m\u001b[43m_engine\u001b[49m\u001b[38;5;241;43m.\u001b[39;49m\u001b[43mget_loc\u001b[49m\u001b[43m(\u001b[49m\u001b[43mcasted_key\u001b[49m\u001b[43m)\u001b[49m\n\u001b[1;32m   3622\u001b[0m \u001b[38;5;28;01mexcept\u001b[39;00m \u001b[38;5;167;01mKeyError\u001b[39;00m \u001b[38;5;28;01mas\u001b[39;00m err:\n",
      "File \u001b[0;32m~/opt/anaconda3/envs/F21DL/lib/python3.9/site-packages/pandas/_libs/index.pyx:136\u001b[0m, in \u001b[0;36mpandas._libs.index.IndexEngine.get_loc\u001b[0;34m()\u001b[0m\n",
      "File \u001b[0;32m~/opt/anaconda3/envs/F21DL/lib/python3.9/site-packages/pandas/_libs/index.pyx:163\u001b[0m, in \u001b[0;36mpandas._libs.index.IndexEngine.get_loc\u001b[0;34m()\u001b[0m\n",
      "File \u001b[0;32mpandas/_libs/hashtable_class_helper.pxi:5198\u001b[0m, in \u001b[0;36mpandas._libs.hashtable.PyObjectHashTable.get_item\u001b[0;34m()\u001b[0m\n",
      "File \u001b[0;32mpandas/_libs/hashtable_class_helper.pxi:5206\u001b[0m, in \u001b[0;36mpandas._libs.hashtable.PyObjectHashTable.get_item\u001b[0;34m()\u001b[0m\n",
      "\u001b[0;31mKeyError\u001b[0m: 'HDI'",
      "\nThe above exception was the direct cause of the following exception:\n",
      "\u001b[0;31mKeyError\u001b[0m                                  Traceback (most recent call last)",
      "Input \u001b[0;32mIn [87]\u001b[0m, in \u001b[0;36m<cell line: 1>\u001b[0;34m()\u001b[0m\n\u001b[0;32m----> 1\u001b[0m plt\u001b[38;5;241m.\u001b[39mscatter(\u001b[43mdf\u001b[49m\u001b[43m[\u001b[49m\u001b[38;5;124;43m'\u001b[39;49m\u001b[38;5;124;43mHDI\u001b[39;49m\u001b[38;5;124;43m'\u001b[39;49m\u001b[43m]\u001b[49m,df[\u001b[38;5;124m'\u001b[39m\u001b[38;5;124mAdult Mortality\u001b[39m\u001b[38;5;124m'\u001b[39m])\n\u001b[1;32m      2\u001b[0m plt\u001b[38;5;241m.\u001b[39mxlabel(\u001b[38;5;124m'\u001b[39m\u001b[38;5;124mHDI\u001b[39m\u001b[38;5;124m'\u001b[39m)\n\u001b[1;32m      3\u001b[0m plt\u001b[38;5;241m.\u001b[39mylabel(\u001b[38;5;124m'\u001b[39m\u001b[38;5;124mAdult Mortality\u001b[39m\u001b[38;5;124m'\u001b[39m)\n",
      "File \u001b[0;32m~/opt/anaconda3/envs/F21DL/lib/python3.9/site-packages/pandas/core/frame.py:3505\u001b[0m, in \u001b[0;36mDataFrame.__getitem__\u001b[0;34m(self, key)\u001b[0m\n\u001b[1;32m   3503\u001b[0m \u001b[38;5;28;01mif\u001b[39;00m \u001b[38;5;28mself\u001b[39m\u001b[38;5;241m.\u001b[39mcolumns\u001b[38;5;241m.\u001b[39mnlevels \u001b[38;5;241m>\u001b[39m \u001b[38;5;241m1\u001b[39m:\n\u001b[1;32m   3504\u001b[0m     \u001b[38;5;28;01mreturn\u001b[39;00m \u001b[38;5;28mself\u001b[39m\u001b[38;5;241m.\u001b[39m_getitem_multilevel(key)\n\u001b[0;32m-> 3505\u001b[0m indexer \u001b[38;5;241m=\u001b[39m \u001b[38;5;28;43mself\u001b[39;49m\u001b[38;5;241;43m.\u001b[39;49m\u001b[43mcolumns\u001b[49m\u001b[38;5;241;43m.\u001b[39;49m\u001b[43mget_loc\u001b[49m\u001b[43m(\u001b[49m\u001b[43mkey\u001b[49m\u001b[43m)\u001b[49m\n\u001b[1;32m   3506\u001b[0m \u001b[38;5;28;01mif\u001b[39;00m is_integer(indexer):\n\u001b[1;32m   3507\u001b[0m     indexer \u001b[38;5;241m=\u001b[39m [indexer]\n",
      "File \u001b[0;32m~/opt/anaconda3/envs/F21DL/lib/python3.9/site-packages/pandas/core/indexes/base.py:3623\u001b[0m, in \u001b[0;36mIndex.get_loc\u001b[0;34m(self, key, method, tolerance)\u001b[0m\n\u001b[1;32m   3621\u001b[0m     \u001b[38;5;28;01mreturn\u001b[39;00m \u001b[38;5;28mself\u001b[39m\u001b[38;5;241m.\u001b[39m_engine\u001b[38;5;241m.\u001b[39mget_loc(casted_key)\n\u001b[1;32m   3622\u001b[0m \u001b[38;5;28;01mexcept\u001b[39;00m \u001b[38;5;167;01mKeyError\u001b[39;00m \u001b[38;5;28;01mas\u001b[39;00m err:\n\u001b[0;32m-> 3623\u001b[0m     \u001b[38;5;28;01mraise\u001b[39;00m \u001b[38;5;167;01mKeyError\u001b[39;00m(key) \u001b[38;5;28;01mfrom\u001b[39;00m \u001b[38;5;21;01merr\u001b[39;00m\n\u001b[1;32m   3624\u001b[0m \u001b[38;5;28;01mexcept\u001b[39;00m \u001b[38;5;167;01mTypeError\u001b[39;00m:\n\u001b[1;32m   3625\u001b[0m     \u001b[38;5;66;03m# If we have a listlike key, _check_indexing_error will raise\u001b[39;00m\n\u001b[1;32m   3626\u001b[0m     \u001b[38;5;66;03m#  InvalidIndexError. Otherwise we fall through and re-raise\u001b[39;00m\n\u001b[1;32m   3627\u001b[0m     \u001b[38;5;66;03m#  the TypeError.\u001b[39;00m\n\u001b[1;32m   3628\u001b[0m     \u001b[38;5;28mself\u001b[39m\u001b[38;5;241m.\u001b[39m_check_indexing_error(key)\n",
      "\u001b[0;31mKeyError\u001b[0m: 'HDI'"
     ]
    }
   ],
   "source": [
    "plt.scatter(df['HDI'],df['Adult Mortality'])\n",
    "plt.xlabel('HDI')\n",
    "plt.ylabel('Adult Mortality')"
   ]
  },
  {
   "cell_type": "code",
   "execution_count": 88,
   "id": "44ec4ea5",
   "metadata": {},
   "outputs": [
    {
     "ename": "KeyError",
     "evalue": "\"None of [Index(['HDI', 'Adult Mortality'], dtype='object')] are in the [columns]\"",
     "output_type": "error",
     "traceback": [
      "\u001b[0;31m---------------------------------------------------------------------------\u001b[0m",
      "\u001b[0;31mKeyError\u001b[0m                                  Traceback (most recent call last)",
      "Input \u001b[0;32mIn [88]\u001b[0m, in \u001b[0;36m<cell line: 2>\u001b[0;34m()\u001b[0m\n\u001b[1;32m      1\u001b[0m km \u001b[38;5;241m=\u001b[39m KMeans(n_clusters\u001b[38;5;241m=\u001b[39m\u001b[38;5;241m3\u001b[39m)\n\u001b[0;32m----> 2\u001b[0m y_predicted \u001b[38;5;241m=\u001b[39m km\u001b[38;5;241m.\u001b[39mfit_predict(\u001b[43mdf\u001b[49m\u001b[43m[\u001b[49m\u001b[43m[\u001b[49m\u001b[38;5;124;43m'\u001b[39;49m\u001b[38;5;124;43mHDI\u001b[39;49m\u001b[38;5;124;43m'\u001b[39;49m\u001b[43m,\u001b[49m\u001b[38;5;124;43m'\u001b[39;49m\u001b[38;5;124;43mAdult Mortality\u001b[39;49m\u001b[38;5;124;43m'\u001b[39;49m\u001b[43m]\u001b[49m\u001b[43m]\u001b[49m)\n\u001b[1;32m      3\u001b[0m y_predicted\n",
      "File \u001b[0;32m~/opt/anaconda3/envs/F21DL/lib/python3.9/site-packages/pandas/core/frame.py:3511\u001b[0m, in \u001b[0;36mDataFrame.__getitem__\u001b[0;34m(self, key)\u001b[0m\n\u001b[1;32m   3509\u001b[0m     \u001b[38;5;28;01mif\u001b[39;00m is_iterator(key):\n\u001b[1;32m   3510\u001b[0m         key \u001b[38;5;241m=\u001b[39m \u001b[38;5;28mlist\u001b[39m(key)\n\u001b[0;32m-> 3511\u001b[0m     indexer \u001b[38;5;241m=\u001b[39m \u001b[38;5;28;43mself\u001b[39;49m\u001b[38;5;241;43m.\u001b[39;49m\u001b[43mcolumns\u001b[49m\u001b[38;5;241;43m.\u001b[39;49m\u001b[43m_get_indexer_strict\u001b[49m\u001b[43m(\u001b[49m\u001b[43mkey\u001b[49m\u001b[43m,\u001b[49m\u001b[43m \u001b[49m\u001b[38;5;124;43m\"\u001b[39;49m\u001b[38;5;124;43mcolumns\u001b[39;49m\u001b[38;5;124;43m\"\u001b[39;49m\u001b[43m)\u001b[49m[\u001b[38;5;241m1\u001b[39m]\n\u001b[1;32m   3513\u001b[0m \u001b[38;5;66;03m# take() does not accept boolean indexers\u001b[39;00m\n\u001b[1;32m   3514\u001b[0m \u001b[38;5;28;01mif\u001b[39;00m \u001b[38;5;28mgetattr\u001b[39m(indexer, \u001b[38;5;124m\"\u001b[39m\u001b[38;5;124mdtype\u001b[39m\u001b[38;5;124m\"\u001b[39m, \u001b[38;5;28;01mNone\u001b[39;00m) \u001b[38;5;241m==\u001b[39m \u001b[38;5;28mbool\u001b[39m:\n",
      "File \u001b[0;32m~/opt/anaconda3/envs/F21DL/lib/python3.9/site-packages/pandas/core/indexes/base.py:5782\u001b[0m, in \u001b[0;36mIndex._get_indexer_strict\u001b[0;34m(self, key, axis_name)\u001b[0m\n\u001b[1;32m   5779\u001b[0m \u001b[38;5;28;01melse\u001b[39;00m:\n\u001b[1;32m   5780\u001b[0m     keyarr, indexer, new_indexer \u001b[38;5;241m=\u001b[39m \u001b[38;5;28mself\u001b[39m\u001b[38;5;241m.\u001b[39m_reindex_non_unique(keyarr)\n\u001b[0;32m-> 5782\u001b[0m \u001b[38;5;28;43mself\u001b[39;49m\u001b[38;5;241;43m.\u001b[39;49m\u001b[43m_raise_if_missing\u001b[49m\u001b[43m(\u001b[49m\u001b[43mkeyarr\u001b[49m\u001b[43m,\u001b[49m\u001b[43m \u001b[49m\u001b[43mindexer\u001b[49m\u001b[43m,\u001b[49m\u001b[43m \u001b[49m\u001b[43maxis_name\u001b[49m\u001b[43m)\u001b[49m\n\u001b[1;32m   5784\u001b[0m keyarr \u001b[38;5;241m=\u001b[39m \u001b[38;5;28mself\u001b[39m\u001b[38;5;241m.\u001b[39mtake(indexer)\n\u001b[1;32m   5785\u001b[0m \u001b[38;5;28;01mif\u001b[39;00m \u001b[38;5;28misinstance\u001b[39m(key, Index):\n\u001b[1;32m   5786\u001b[0m     \u001b[38;5;66;03m# GH 42790 - Preserve name from an Index\u001b[39;00m\n",
      "File \u001b[0;32m~/opt/anaconda3/envs/F21DL/lib/python3.9/site-packages/pandas/core/indexes/base.py:5842\u001b[0m, in \u001b[0;36mIndex._raise_if_missing\u001b[0;34m(self, key, indexer, axis_name)\u001b[0m\n\u001b[1;32m   5840\u001b[0m     \u001b[38;5;28;01mif\u001b[39;00m use_interval_msg:\n\u001b[1;32m   5841\u001b[0m         key \u001b[38;5;241m=\u001b[39m \u001b[38;5;28mlist\u001b[39m(key)\n\u001b[0;32m-> 5842\u001b[0m     \u001b[38;5;28;01mraise\u001b[39;00m \u001b[38;5;167;01mKeyError\u001b[39;00m(\u001b[38;5;124mf\u001b[39m\u001b[38;5;124m\"\u001b[39m\u001b[38;5;124mNone of [\u001b[39m\u001b[38;5;132;01m{\u001b[39;00mkey\u001b[38;5;132;01m}\u001b[39;00m\u001b[38;5;124m] are in the [\u001b[39m\u001b[38;5;132;01m{\u001b[39;00maxis_name\u001b[38;5;132;01m}\u001b[39;00m\u001b[38;5;124m]\u001b[39m\u001b[38;5;124m\"\u001b[39m)\n\u001b[1;32m   5844\u001b[0m not_found \u001b[38;5;241m=\u001b[39m \u001b[38;5;28mlist\u001b[39m(ensure_index(key)[missing_mask\u001b[38;5;241m.\u001b[39mnonzero()[\u001b[38;5;241m0\u001b[39m]]\u001b[38;5;241m.\u001b[39munique())\n\u001b[1;32m   5845\u001b[0m \u001b[38;5;28;01mraise\u001b[39;00m \u001b[38;5;167;01mKeyError\u001b[39;00m(\u001b[38;5;124mf\u001b[39m\u001b[38;5;124m\"\u001b[39m\u001b[38;5;132;01m{\u001b[39;00mnot_found\u001b[38;5;132;01m}\u001b[39;00m\u001b[38;5;124m not in index\u001b[39m\u001b[38;5;124m\"\u001b[39m)\n",
      "\u001b[0;31mKeyError\u001b[0m: \"None of [Index(['HDI', 'Adult Mortality'], dtype='object')] are in the [columns]\""
     ]
    }
   ],
   "source": [
    "km = KMeans(n_clusters=3)\n",
    "y_predicted = km.fit_predict(df[['HDI','Adult Mortality']])\n",
    "y_predicted"
   ]
  },
  {
   "cell_type": "code",
   "execution_count": null,
   "id": "57b7101b",
   "metadata": {},
   "outputs": [],
   "source": []
  }
 ],
 "metadata": {
  "kernelspec": {
   "display_name": "Python 3 (ipykernel)",
   "language": "python",
   "name": "python3"
  },
  "language_info": {
   "codemirror_mode": {
    "name": "ipython",
    "version": 3
   },
   "file_extension": ".py",
   "mimetype": "text/x-python",
   "name": "python",
   "nbconvert_exporter": "python",
   "pygments_lexer": "ipython3",
   "version": "3.9.13"
  }
 },
 "nbformat": 4,
 "nbformat_minor": 5
}
